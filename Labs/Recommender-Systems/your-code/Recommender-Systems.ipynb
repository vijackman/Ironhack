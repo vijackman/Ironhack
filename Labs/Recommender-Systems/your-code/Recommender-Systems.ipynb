{
 "cells": [
  {
   "cell_type": "markdown",
   "metadata": {},
   "source": [
    "# Intro to Recommender Systems Lab\n",
    "\n",
    "Complete the exercises below to solidify your knowledge and understanding of recommender systems.\n",
    "\n",
    "For this lab, we are going to be putting together a user similarity based recommender system in a step-by-step fashion. Our data set contains customer grocery purchases, and we will use similar purchase behavior to inform our recommender system. Our recommender system will generate 5 recommendations for each customer based on the purchases they have made."
   ]
  },
  {
   "cell_type": "code",
   "execution_count": 1,
   "metadata": {},
   "outputs": [],
   "source": [
    "import pandas as pd\n",
    "import numpy as np\n",
    "import seaborn as sns\n",
    "from scipy.spatial.distance import pdist, squareform"
   ]
  },
  {
   "cell_type": "code",
   "execution_count": 2,
   "metadata": {},
   "outputs": [],
   "source": [
    "data = pd.read_csv('../data/customer_product_sales.csv')"
   ]
  },
  {
   "cell_type": "code",
   "execution_count": 3,
   "metadata": {},
   "outputs": [
    {
     "data": {
      "text/html": [
       "<div>\n",
       "<style scoped>\n",
       "    .dataframe tbody tr th:only-of-type {\n",
       "        vertical-align: middle;\n",
       "    }\n",
       "\n",
       "    .dataframe tbody tr th {\n",
       "        vertical-align: top;\n",
       "    }\n",
       "\n",
       "    .dataframe thead th {\n",
       "        text-align: right;\n",
       "    }\n",
       "</style>\n",
       "<table border=\"1\" class=\"dataframe\">\n",
       "  <thead>\n",
       "    <tr style=\"text-align: right;\">\n",
       "      <th></th>\n",
       "      <th>CustomerID</th>\n",
       "      <th>FirstName</th>\n",
       "      <th>LastName</th>\n",
       "      <th>SalesID</th>\n",
       "      <th>ProductID</th>\n",
       "      <th>ProductName</th>\n",
       "      <th>Quantity</th>\n",
       "    </tr>\n",
       "  </thead>\n",
       "  <tbody>\n",
       "    <tr>\n",
       "      <th>0</th>\n",
       "      <td>61288</td>\n",
       "      <td>Rosa</td>\n",
       "      <td>Andersen</td>\n",
       "      <td>134196</td>\n",
       "      <td>229</td>\n",
       "      <td>Bread - Hot Dog Buns</td>\n",
       "      <td>16</td>\n",
       "    </tr>\n",
       "    <tr>\n",
       "      <th>1</th>\n",
       "      <td>77352</td>\n",
       "      <td>Myron</td>\n",
       "      <td>Murray</td>\n",
       "      <td>6167892</td>\n",
       "      <td>229</td>\n",
       "      <td>Bread - Hot Dog Buns</td>\n",
       "      <td>20</td>\n",
       "    </tr>\n",
       "    <tr>\n",
       "      <th>2</th>\n",
       "      <td>40094</td>\n",
       "      <td>Susan</td>\n",
       "      <td>Stevenson</td>\n",
       "      <td>5970885</td>\n",
       "      <td>229</td>\n",
       "      <td>Bread - Hot Dog Buns</td>\n",
       "      <td>11</td>\n",
       "    </tr>\n",
       "    <tr>\n",
       "      <th>3</th>\n",
       "      <td>23548</td>\n",
       "      <td>Tricia</td>\n",
       "      <td>Vincent</td>\n",
       "      <td>6426954</td>\n",
       "      <td>229</td>\n",
       "      <td>Bread - Hot Dog Buns</td>\n",
       "      <td>6</td>\n",
       "    </tr>\n",
       "    <tr>\n",
       "      <th>4</th>\n",
       "      <td>78981</td>\n",
       "      <td>Scott</td>\n",
       "      <td>Burch</td>\n",
       "      <td>819094</td>\n",
       "      <td>229</td>\n",
       "      <td>Bread - Hot Dog Buns</td>\n",
       "      <td>20</td>\n",
       "    </tr>\n",
       "  </tbody>\n",
       "</table>\n",
       "</div>"
      ],
      "text/plain": [
       "   CustomerID FirstName   LastName  SalesID  ProductID           ProductName  \\\n",
       "0       61288      Rosa   Andersen   134196        229  Bread - Hot Dog Buns   \n",
       "1       77352     Myron     Murray  6167892        229  Bread - Hot Dog Buns   \n",
       "2       40094     Susan  Stevenson  5970885        229  Bread - Hot Dog Buns   \n",
       "3       23548    Tricia    Vincent  6426954        229  Bread - Hot Dog Buns   \n",
       "4       78981     Scott      Burch   819094        229  Bread - Hot Dog Buns   \n",
       "\n",
       "   Quantity  \n",
       "0        16  \n",
       "1        20  \n",
       "2        11  \n",
       "3         6  \n",
       "4        20  "
      ]
     },
     "execution_count": 3,
     "metadata": {},
     "output_type": "execute_result"
    }
   ],
   "source": [
    "data.head()"
   ]
  },
  {
   "cell_type": "code",
   "execution_count": 4,
   "metadata": {},
   "outputs": [
    {
     "data": {
      "text/plain": [
       "(68584, 7)"
      ]
     },
     "execution_count": 4,
     "metadata": {},
     "output_type": "execute_result"
    }
   ],
   "source": [
    "data.shape"
   ]
  },
  {
   "cell_type": "markdown",
   "metadata": {},
   "source": [
    "## Step 1: Create a data frame that contains the total quantity of each product purchased by each customer.\n",
    "\n",
    "You will need to group by CustomerID and ProductName and then sum the Quantity field."
   ]
  },
  {
   "cell_type": "code",
   "execution_count": 5,
   "metadata": {},
   "outputs": [
    {
     "data": {
      "text/html": [
       "<div>\n",
       "<style scoped>\n",
       "    .dataframe tbody tr th:only-of-type {\n",
       "        vertical-align: middle;\n",
       "    }\n",
       "\n",
       "    .dataframe tbody tr th {\n",
       "        vertical-align: top;\n",
       "    }\n",
       "\n",
       "    .dataframe thead th {\n",
       "        text-align: right;\n",
       "    }\n",
       "</style>\n",
       "<table border=\"1\" class=\"dataframe\">\n",
       "  <thead>\n",
       "    <tr style=\"text-align: right;\">\n",
       "      <th></th>\n",
       "      <th>ProductName</th>\n",
       "    </tr>\n",
       "    <tr>\n",
       "      <th>CustomerID</th>\n",
       "      <th></th>\n",
       "    </tr>\n",
       "  </thead>\n",
       "  <tbody>\n",
       "    <tr>\n",
       "      <th>33</th>\n",
       "      <td>63</td>\n",
       "    </tr>\n",
       "    <tr>\n",
       "      <th>200</th>\n",
       "      <td>77</td>\n",
       "    </tr>\n",
       "    <tr>\n",
       "      <th>264</th>\n",
       "      <td>65</td>\n",
       "    </tr>\n",
       "    <tr>\n",
       "      <th>356</th>\n",
       "      <td>67</td>\n",
       "    </tr>\n",
       "    <tr>\n",
       "      <th>412</th>\n",
       "      <td>73</td>\n",
       "    </tr>\n",
       "    <tr>\n",
       "      <th>...</th>\n",
       "      <td>...</td>\n",
       "    </tr>\n",
       "    <tr>\n",
       "      <th>97928</th>\n",
       "      <td>68</td>\n",
       "    </tr>\n",
       "    <tr>\n",
       "      <th>98069</th>\n",
       "      <td>70</td>\n",
       "    </tr>\n",
       "    <tr>\n",
       "      <th>98159</th>\n",
       "      <td>70</td>\n",
       "    </tr>\n",
       "    <tr>\n",
       "      <th>98185</th>\n",
       "      <td>82</td>\n",
       "    </tr>\n",
       "    <tr>\n",
       "      <th>98200</th>\n",
       "      <td>73</td>\n",
       "    </tr>\n",
       "  </tbody>\n",
       "</table>\n",
       "<p>1000 rows × 1 columns</p>\n",
       "</div>"
      ],
      "text/plain": [
       "            ProductName\n",
       "CustomerID             \n",
       "33                   63\n",
       "200                  77\n",
       "264                  65\n",
       "356                  67\n",
       "412                  73\n",
       "...                 ...\n",
       "97928                68\n",
       "98069                70\n",
       "98159                70\n",
       "98185                82\n",
       "98200                73\n",
       "\n",
       "[1000 rows x 1 columns]"
      ]
     },
     "execution_count": 5,
     "metadata": {},
     "output_type": "execute_result"
    }
   ],
   "source": [
    "each_product=data.groupby(data['CustomerID'])[['ProductName']].count()\n",
    "each_product"
   ]
  },
  {
   "cell_type": "markdown",
   "metadata": {},
   "source": [
    "## Step 2: Use the `pivot_table` method to create a product by customer matrix.\n",
    "\n",
    "The rows of the matrix should represent the products, the columns should represent the customers, and the values should be the quantities of each product purchased by each customer. You will also need to replace nulls with zeros, which you can do using the `fillna` method."
   ]
  },
  {
   "cell_type": "code",
   "execution_count": 6,
   "metadata": {},
   "outputs": [],
   "source": [
    "data2=data.pivot_table(index=[\"ProductName\"], columns=['CustomerID'], values=['Quantity'])"
   ]
  },
  {
   "cell_type": "code",
   "execution_count": 7,
   "metadata": {},
   "outputs": [],
   "source": [
    "data2=data2.fillna(0)"
   ]
  },
  {
   "cell_type": "markdown",
   "metadata": {},
   "source": [
    "## Step 3: Create a customer similarity matrix using `squareform` and `pdist`. For the distance metric, choose \"euclidean.\""
   ]
  },
  {
   "cell_type": "code",
   "execution_count": 8,
   "metadata": {},
   "outputs": [
    {
     "data": {
      "text/plain": [
       "array([[1.        , 0.00416384, 0.00424726, ..., 0.00427503, 0.0042366 ,\n",
       "        0.00421945],\n",
       "       [0.00416384, 1.        , 0.00418616, ..., 0.00431914, 0.0041351 ,\n",
       "        0.00422024],\n",
       "       [0.00424726, 0.00418616, 1.        , ..., 0.00420161, 0.00422576,\n",
       "        0.00420485],\n",
       "       ...,\n",
       "       [0.00427503, 0.00431914, 0.00420161, ..., 1.        , 0.00403661,\n",
       "        0.00417424],\n",
       "       [0.0042366 , 0.0041351 , 0.00422576, ..., 0.00403661, 1.        ,\n",
       "        0.00429113],\n",
       "       [0.00421945, 0.00422024, 0.00420485, ..., 0.00417424, 0.00429113,\n",
       "        1.        ]])"
      ]
     },
     "execution_count": 8,
     "metadata": {},
     "output_type": "execute_result"
    }
   ],
   "source": [
    "from scipy.spatial.distance import pdist, squareform\n",
    "1/(1+squareform(pdist(data2, 'euclidean')))"
   ]
  },
  {
   "cell_type": "code",
   "execution_count": 9,
   "metadata": {},
   "outputs": [
    {
     "data": {
      "text/plain": [
       "MultiIndex([('Quantity',    33),\n",
       "            ('Quantity',   200),\n",
       "            ('Quantity',   264),\n",
       "            ('Quantity',   356),\n",
       "            ('Quantity',   412),\n",
       "            ('Quantity',   464),\n",
       "            ('Quantity',   477),\n",
       "            ('Quantity',   639),\n",
       "            ('Quantity',   649),\n",
       "            ('Quantity',   669),\n",
       "            ...\n",
       "            ('Quantity', 97697),\n",
       "            ('Quantity', 97753),\n",
       "            ('Quantity', 97769),\n",
       "            ('Quantity', 97793),\n",
       "            ('Quantity', 97900),\n",
       "            ('Quantity', 97928),\n",
       "            ('Quantity', 98069),\n",
       "            ('Quantity', 98159),\n",
       "            ('Quantity', 98185),\n",
       "            ('Quantity', 98200)],\n",
       "           names=[None, 'CustomerID'], length=1000)"
      ]
     },
     "execution_count": 9,
     "metadata": {},
     "output_type": "execute_result"
    }
   ],
   "source": [
    "data2.columns"
   ]
  },
  {
   "cell_type": "code",
   "execution_count": 10,
   "metadata": {
    "scrolled": true
   },
   "outputs": [],
   "source": [
    "proximidade=pd.DataFrame(1/(1+squareform(pdist(data2.T, 'euclidean'))),columns=data2.columns, index=data2.columns)"
   ]
  },
  {
   "cell_type": "code",
   "execution_count": 11,
   "metadata": {},
   "outputs": [
    {
     "data": {
      "text/html": [
       "<div>\n",
       "<style scoped>\n",
       "    .dataframe tbody tr th:only-of-type {\n",
       "        vertical-align: middle;\n",
       "    }\n",
       "\n",
       "    .dataframe tbody tr th {\n",
       "        vertical-align: top;\n",
       "    }\n",
       "\n",
       "    .dataframe thead tr th {\n",
       "        text-align: left;\n",
       "    }\n",
       "\n",
       "    .dataframe thead tr:last-of-type th {\n",
       "        text-align: right;\n",
       "    }\n",
       "</style>\n",
       "<table border=\"1\" class=\"dataframe\">\n",
       "  <thead>\n",
       "    <tr>\n",
       "      <th></th>\n",
       "      <th></th>\n",
       "      <th colspan=\"21\" halign=\"left\">Quantity</th>\n",
       "    </tr>\n",
       "    <tr>\n",
       "      <th></th>\n",
       "      <th>CustomerID</th>\n",
       "      <th>33</th>\n",
       "      <th>200</th>\n",
       "      <th>264</th>\n",
       "      <th>356</th>\n",
       "      <th>412</th>\n",
       "      <th>464</th>\n",
       "      <th>477</th>\n",
       "      <th>639</th>\n",
       "      <th>649</th>\n",
       "      <th>669</th>\n",
       "      <th>...</th>\n",
       "      <th>97697</th>\n",
       "      <th>97753</th>\n",
       "      <th>97769</th>\n",
       "      <th>97793</th>\n",
       "      <th>97900</th>\n",
       "      <th>97928</th>\n",
       "      <th>98069</th>\n",
       "      <th>98159</th>\n",
       "      <th>98185</th>\n",
       "      <th>98200</th>\n",
       "    </tr>\n",
       "    <tr>\n",
       "      <th></th>\n",
       "      <th>CustomerID</th>\n",
       "      <th></th>\n",
       "      <th></th>\n",
       "      <th></th>\n",
       "      <th></th>\n",
       "      <th></th>\n",
       "      <th></th>\n",
       "      <th></th>\n",
       "      <th></th>\n",
       "      <th></th>\n",
       "      <th></th>\n",
       "      <th></th>\n",
       "      <th></th>\n",
       "      <th></th>\n",
       "      <th></th>\n",
       "      <th></th>\n",
       "      <th></th>\n",
       "      <th></th>\n",
       "      <th></th>\n",
       "      <th></th>\n",
       "      <th></th>\n",
       "      <th></th>\n",
       "    </tr>\n",
       "  </thead>\n",
       "  <tbody>\n",
       "    <tr>\n",
       "      <th rowspan=\"11\" valign=\"top\">Quantity</th>\n",
       "      <th>33</th>\n",
       "      <td>1.000000</td>\n",
       "      <td>0.085297</td>\n",
       "      <td>0.093953</td>\n",
       "      <td>0.091747</td>\n",
       "      <td>0.087410</td>\n",
       "      <td>0.089695</td>\n",
       "      <td>0.085297</td>\n",
       "      <td>0.088913</td>\n",
       "      <td>0.088152</td>\n",
       "      <td>0.089695</td>\n",
       "      <td>...</td>\n",
       "      <td>0.004809</td>\n",
       "      <td>0.005108</td>\n",
       "      <td>0.004996</td>\n",
       "      <td>0.005421</td>\n",
       "      <td>0.004920</td>\n",
       "      <td>0.005023</td>\n",
       "      <td>0.004880</td>\n",
       "      <td>0.005026</td>\n",
       "      <td>0.004549</td>\n",
       "      <td>0.004883</td>\n",
       "    </tr>\n",
       "    <tr>\n",
       "      <th>200</th>\n",
       "      <td>0.085297</td>\n",
       "      <td>1.000000</td>\n",
       "      <td>0.085638</td>\n",
       "      <td>0.085297</td>\n",
       "      <td>0.080070</td>\n",
       "      <td>0.083020</td>\n",
       "      <td>0.084959</td>\n",
       "      <td>0.083651</td>\n",
       "      <td>0.085638</td>\n",
       "      <td>0.087047</td>\n",
       "      <td>...</td>\n",
       "      <td>0.004825</td>\n",
       "      <td>0.005121</td>\n",
       "      <td>0.005014</td>\n",
       "      <td>0.005448</td>\n",
       "      <td>0.004925</td>\n",
       "      <td>0.005032</td>\n",
       "      <td>0.004909</td>\n",
       "      <td>0.005042</td>\n",
       "      <td>0.004553</td>\n",
       "      <td>0.004879</td>\n",
       "    </tr>\n",
       "    <tr>\n",
       "      <th>264</th>\n",
       "      <td>0.093953</td>\n",
       "      <td>0.085638</td>\n",
       "      <td>1.000000</td>\n",
       "      <td>0.088152</td>\n",
       "      <td>0.089301</td>\n",
       "      <td>0.087047</td>\n",
       "      <td>0.085638</td>\n",
       "      <td>0.086333</td>\n",
       "      <td>0.087047</td>\n",
       "      <td>0.087047</td>\n",
       "      <td>...</td>\n",
       "      <td>0.004822</td>\n",
       "      <td>0.005115</td>\n",
       "      <td>0.004996</td>\n",
       "      <td>0.005441</td>\n",
       "      <td>0.004932</td>\n",
       "      <td>0.005055</td>\n",
       "      <td>0.004894</td>\n",
       "      <td>0.005042</td>\n",
       "      <td>0.004566</td>\n",
       "      <td>0.004883</td>\n",
       "    </tr>\n",
       "    <tr>\n",
       "      <th>356</th>\n",
       "      <td>0.091747</td>\n",
       "      <td>0.085297</td>\n",
       "      <td>0.088152</td>\n",
       "      <td>1.000000</td>\n",
       "      <td>0.085983</td>\n",
       "      <td>0.086688</td>\n",
       "      <td>0.085983</td>\n",
       "      <td>0.091325</td>\n",
       "      <td>0.085983</td>\n",
       "      <td>0.087410</td>\n",
       "      <td>...</td>\n",
       "      <td>0.004814</td>\n",
       "      <td>0.005111</td>\n",
       "      <td>0.004999</td>\n",
       "      <td>0.005437</td>\n",
       "      <td>0.004920</td>\n",
       "      <td>0.005036</td>\n",
       "      <td>0.004871</td>\n",
       "      <td>0.005042</td>\n",
       "      <td>0.004563</td>\n",
       "      <td>0.004886</td>\n",
       "    </tr>\n",
       "    <tr>\n",
       "      <th>412</th>\n",
       "      <td>0.087410</td>\n",
       "      <td>0.080070</td>\n",
       "      <td>0.089301</td>\n",
       "      <td>0.085983</td>\n",
       "      <td>1.000000</td>\n",
       "      <td>0.085638</td>\n",
       "      <td>0.085638</td>\n",
       "      <td>0.089301</td>\n",
       "      <td>0.084959</td>\n",
       "      <td>0.087779</td>\n",
       "      <td>...</td>\n",
       "      <td>0.004808</td>\n",
       "      <td>0.005131</td>\n",
       "      <td>0.004996</td>\n",
       "      <td>0.005441</td>\n",
       "      <td>0.004925</td>\n",
       "      <td>0.005042</td>\n",
       "      <td>0.004876</td>\n",
       "      <td>0.005039</td>\n",
       "      <td>0.004568</td>\n",
       "      <td>0.004903</td>\n",
       "    </tr>\n",
       "    <tr>\n",
       "      <th>...</th>\n",
       "      <td>...</td>\n",
       "      <td>...</td>\n",
       "      <td>...</td>\n",
       "      <td>...</td>\n",
       "      <td>...</td>\n",
       "      <td>...</td>\n",
       "      <td>...</td>\n",
       "      <td>...</td>\n",
       "      <td>...</td>\n",
       "      <td>...</td>\n",
       "      <td>...</td>\n",
       "      <td>...</td>\n",
       "      <td>...</td>\n",
       "      <td>...</td>\n",
       "      <td>...</td>\n",
       "      <td>...</td>\n",
       "      <td>...</td>\n",
       "      <td>...</td>\n",
       "      <td>...</td>\n",
       "      <td>...</td>\n",
       "      <td>...</td>\n",
       "    </tr>\n",
       "    <tr>\n",
       "      <th>97928</th>\n",
       "      <td>0.005023</td>\n",
       "      <td>0.005032</td>\n",
       "      <td>0.005055</td>\n",
       "      <td>0.005036</td>\n",
       "      <td>0.005042</td>\n",
       "      <td>0.005042</td>\n",
       "      <td>0.005042</td>\n",
       "      <td>0.005039</td>\n",
       "      <td>0.005039</td>\n",
       "      <td>0.005033</td>\n",
       "      <td>...</td>\n",
       "      <td>0.003732</td>\n",
       "      <td>0.003945</td>\n",
       "      <td>0.003749</td>\n",
       "      <td>0.004045</td>\n",
       "      <td>0.003964</td>\n",
       "      <td>1.000000</td>\n",
       "      <td>0.003945</td>\n",
       "      <td>0.003945</td>\n",
       "      <td>0.003579</td>\n",
       "      <td>0.003608</td>\n",
       "    </tr>\n",
       "    <tr>\n",
       "      <th>98069</th>\n",
       "      <td>0.004880</td>\n",
       "      <td>0.004909</td>\n",
       "      <td>0.004894</td>\n",
       "      <td>0.004871</td>\n",
       "      <td>0.004876</td>\n",
       "      <td>0.004877</td>\n",
       "      <td>0.004882</td>\n",
       "      <td>0.004880</td>\n",
       "      <td>0.004886</td>\n",
       "      <td>0.004886</td>\n",
       "      <td>...</td>\n",
       "      <td>0.003638</td>\n",
       "      <td>0.003765</td>\n",
       "      <td>0.003716</td>\n",
       "      <td>0.003782</td>\n",
       "      <td>0.003888</td>\n",
       "      <td>0.003945</td>\n",
       "      <td>1.000000</td>\n",
       "      <td>0.003907</td>\n",
       "      <td>0.003608</td>\n",
       "      <td>0.003765</td>\n",
       "    </tr>\n",
       "    <tr>\n",
       "      <th>98159</th>\n",
       "      <td>0.005026</td>\n",
       "      <td>0.005042</td>\n",
       "      <td>0.005042</td>\n",
       "      <td>0.005042</td>\n",
       "      <td>0.005039</td>\n",
       "      <td>0.005039</td>\n",
       "      <td>0.005039</td>\n",
       "      <td>0.005033</td>\n",
       "      <td>0.005045</td>\n",
       "      <td>0.005036</td>\n",
       "      <td>...</td>\n",
       "      <td>0.003732</td>\n",
       "      <td>0.003984</td>\n",
       "      <td>0.003852</td>\n",
       "      <td>0.003888</td>\n",
       "      <td>0.003817</td>\n",
       "      <td>0.003945</td>\n",
       "      <td>0.003907</td>\n",
       "      <td>1.000000</td>\n",
       "      <td>0.003732</td>\n",
       "      <td>0.003732</td>\n",
       "    </tr>\n",
       "    <tr>\n",
       "      <th>98185</th>\n",
       "      <td>0.004549</td>\n",
       "      <td>0.004553</td>\n",
       "      <td>0.004566</td>\n",
       "      <td>0.004563</td>\n",
       "      <td>0.004568</td>\n",
       "      <td>0.004556</td>\n",
       "      <td>0.004556</td>\n",
       "      <td>0.004563</td>\n",
       "      <td>0.004558</td>\n",
       "      <td>0.004547</td>\n",
       "      <td>...</td>\n",
       "      <td>0.003469</td>\n",
       "      <td>0.003469</td>\n",
       "      <td>0.003653</td>\n",
       "      <td>0.003749</td>\n",
       "      <td>0.003565</td>\n",
       "      <td>0.003579</td>\n",
       "      <td>0.003608</td>\n",
       "      <td>0.003732</td>\n",
       "      <td>1.000000</td>\n",
       "      <td>0.003700</td>\n",
       "    </tr>\n",
       "    <tr>\n",
       "      <th>98200</th>\n",
       "      <td>0.004883</td>\n",
       "      <td>0.004879</td>\n",
       "      <td>0.004883</td>\n",
       "      <td>0.004886</td>\n",
       "      <td>0.004903</td>\n",
       "      <td>0.004897</td>\n",
       "      <td>0.004885</td>\n",
       "      <td>0.004883</td>\n",
       "      <td>0.004877</td>\n",
       "      <td>0.004895</td>\n",
       "      <td>...</td>\n",
       "      <td>0.003638</td>\n",
       "      <td>0.003732</td>\n",
       "      <td>0.003817</td>\n",
       "      <td>0.003817</td>\n",
       "      <td>0.003782</td>\n",
       "      <td>0.003608</td>\n",
       "      <td>0.003765</td>\n",
       "      <td>0.003732</td>\n",
       "      <td>0.003700</td>\n",
       "      <td>1.000000</td>\n",
       "    </tr>\n",
       "  </tbody>\n",
       "</table>\n",
       "<p>1000 rows × 1000 columns</p>\n",
       "</div>"
      ],
      "text/plain": [
       "                     Quantity                                          \\\n",
       "CustomerID              33        200       264       356       412     \n",
       "         CustomerID                                                     \n",
       "Quantity 33          1.000000  0.085297  0.093953  0.091747  0.087410   \n",
       "         200         0.085297  1.000000  0.085638  0.085297  0.080070   \n",
       "         264         0.093953  0.085638  1.000000  0.088152  0.089301   \n",
       "         356         0.091747  0.085297  0.088152  1.000000  0.085983   \n",
       "         412         0.087410  0.080070  0.089301  0.085983  1.000000   \n",
       "...                       ...       ...       ...       ...       ...   \n",
       "         97928       0.005023  0.005032  0.005055  0.005036  0.005042   \n",
       "         98069       0.004880  0.004909  0.004894  0.004871  0.004876   \n",
       "         98159       0.005026  0.005042  0.005042  0.005042  0.005039   \n",
       "         98185       0.004549  0.004553  0.004566  0.004563  0.004568   \n",
       "         98200       0.004883  0.004879  0.004883  0.004886  0.004903   \n",
       "\n",
       "                                                                       ...  \\\n",
       "CustomerID              464       477       639       649       669    ...   \n",
       "         CustomerID                                                    ...   \n",
       "Quantity 33          0.089695  0.085297  0.088913  0.088152  0.089695  ...   \n",
       "         200         0.083020  0.084959  0.083651  0.085638  0.087047  ...   \n",
       "         264         0.087047  0.085638  0.086333  0.087047  0.087047  ...   \n",
       "         356         0.086688  0.085983  0.091325  0.085983  0.087410  ...   \n",
       "         412         0.085638  0.085638  0.089301  0.084959  0.087779  ...   \n",
       "...                       ...       ...       ...       ...       ...  ...   \n",
       "         97928       0.005042  0.005042  0.005039  0.005039  0.005033  ...   \n",
       "         98069       0.004877  0.004882  0.004880  0.004886  0.004886  ...   \n",
       "         98159       0.005039  0.005039  0.005033  0.005045  0.005036  ...   \n",
       "         98185       0.004556  0.004556  0.004563  0.004558  0.004547  ...   \n",
       "         98200       0.004897  0.004885  0.004883  0.004877  0.004895  ...   \n",
       "\n",
       "                                                                       \\\n",
       "CustomerID              97697     97753     97769     97793     97900   \n",
       "         CustomerID                                                     \n",
       "Quantity 33          0.004809  0.005108  0.004996  0.005421  0.004920   \n",
       "         200         0.004825  0.005121  0.005014  0.005448  0.004925   \n",
       "         264         0.004822  0.005115  0.004996  0.005441  0.004932   \n",
       "         356         0.004814  0.005111  0.004999  0.005437  0.004920   \n",
       "         412         0.004808  0.005131  0.004996  0.005441  0.004925   \n",
       "...                       ...       ...       ...       ...       ...   \n",
       "         97928       0.003732  0.003945  0.003749  0.004045  0.003964   \n",
       "         98069       0.003638  0.003765  0.003716  0.003782  0.003888   \n",
       "         98159       0.003732  0.003984  0.003852  0.003888  0.003817   \n",
       "         98185       0.003469  0.003469  0.003653  0.003749  0.003565   \n",
       "         98200       0.003638  0.003732  0.003817  0.003817  0.003782   \n",
       "\n",
       "                                                                       \n",
       "CustomerID              97928     98069     98159     98185     98200  \n",
       "         CustomerID                                                    \n",
       "Quantity 33          0.005023  0.004880  0.005026  0.004549  0.004883  \n",
       "         200         0.005032  0.004909  0.005042  0.004553  0.004879  \n",
       "         264         0.005055  0.004894  0.005042  0.004566  0.004883  \n",
       "         356         0.005036  0.004871  0.005042  0.004563  0.004886  \n",
       "         412         0.005042  0.004876  0.005039  0.004568  0.004903  \n",
       "...                       ...       ...       ...       ...       ...  \n",
       "         97928       1.000000  0.003945  0.003945  0.003579  0.003608  \n",
       "         98069       0.003945  1.000000  0.003907  0.003608  0.003765  \n",
       "         98159       0.003945  0.003907  1.000000  0.003732  0.003732  \n",
       "         98185       0.003579  0.003608  0.003732  1.000000  0.003700  \n",
       "         98200       0.003608  0.003765  0.003732  0.003700  1.000000  \n",
       "\n",
       "[1000 rows x 1000 columns]"
      ]
     },
     "execution_count": 11,
     "metadata": {},
     "output_type": "execute_result"
    }
   ],
   "source": [
    "proximidade"
   ]
  },
  {
   "cell_type": "markdown",
   "metadata": {},
   "source": [
    "## Step 4: Check your results by generating a list of the top 5 most similar customers for a specific CustomerID."
   ]
  },
  {
   "cell_type": "code",
   "execution_count": null,
   "metadata": {},
   "outputs": [],
   "source": [
    "#Customer - 264\n",
    "#step3.loc[:,Customer].sort_values(ascending=False)[1:6]"
   ]
  },
  {
   "cell_type": "code",
   "execution_count": 12,
   "metadata": {},
   "outputs": [
    {
     "data": {
      "text/plain": [
       "MultiIndex([('Quantity',    33),\n",
       "            ('Quantity',   200),\n",
       "            ('Quantity',   264),\n",
       "            ('Quantity',   356),\n",
       "            ('Quantity',   412),\n",
       "            ('Quantity',   464),\n",
       "            ('Quantity',   477),\n",
       "            ('Quantity',   639),\n",
       "            ('Quantity',   649),\n",
       "            ('Quantity',   669),\n",
       "            ...\n",
       "            ('Quantity', 97697),\n",
       "            ('Quantity', 97753),\n",
       "            ('Quantity', 97769),\n",
       "            ('Quantity', 97793),\n",
       "            ('Quantity', 97900),\n",
       "            ('Quantity', 97928),\n",
       "            ('Quantity', 98069),\n",
       "            ('Quantity', 98159),\n",
       "            ('Quantity', 98185),\n",
       "            ('Quantity', 98200)],\n",
       "           names=[None, 'CustomerID'], length=1000)"
      ]
     },
     "execution_count": 12,
     "metadata": {},
     "output_type": "execute_result"
    }
   ],
   "source": [
    "proximidade.columns"
   ]
  },
  {
   "cell_type": "code",
   "execution_count": 15,
   "metadata": {
    "scrolled": true
   },
   "outputs": [],
   "source": [
    "proximidade.loc[:,[('Quantity',33)]].sort_values(by=('Quantity',33)).tail(5)"
   ]
  },
  {
   "cell_type": "markdown",
   "metadata": {},
   "source": [
    "## Step 5: From the data frame you created in Step 1, select the records for the list of similar CustomerIDs you obtained in Step 4."
   ]
  },
  {
   "cell_type": "code",
   "execution_count": 16,
   "metadata": {},
   "outputs": [
    {
     "ename": "NameError",
     "evalue": "name 'step1' is not defined",
     "output_type": "error",
     "traceback": [
      "\u001b[1;31m---------------------------------------------------------------------------\u001b[0m",
      "\u001b[1;31mNameError\u001b[0m                                 Traceback (most recent call last)",
      "\u001b[1;32m<ipython-input-16-5de5f20bd511>\u001b[0m in \u001b[0;36m<module>\u001b[1;34m\u001b[0m\n\u001b[1;32m----> 1\u001b[1;33m \u001b[0mmask\u001b[0m\u001b[1;33m=\u001b[0m \u001b[0mstep1\u001b[0m\u001b[1;33m.\u001b[0m\u001b[0mloc\u001b[0m\u001b[1;33m[\u001b[0m\u001b[1;33m:\u001b[0m\u001b[1;33m,\u001b[0m\u001b[1;34m'CustomerID'\u001b[0m\u001b[1;33m]\u001b[0m\u001b[1;33m.\u001b[0m\u001b[0misin\u001b[0m\u001b[1;33m(\u001b[0m\u001b[0mfirst_5\u001b[0m\u001b[1;33m)\u001b[0m\u001b[1;33m\u001b[0m\u001b[1;33m\u001b[0m\u001b[0m\n\u001b[0m",
      "\u001b[1;31mNameError\u001b[0m: name 'step1' is not defined"
     ]
    }
   ],
   "source": [
    "mask= step1.loc[:,'CustomerID'].isin(first_5)"
   ]
  },
  {
   "cell_type": "markdown",
   "metadata": {},
   "source": [
    "## Step 6: Aggregate those customer purchase records by ProductName, sum the Quantity field, and then rank them in descending order by quantity.\n",
    "\n",
    "This will give you the total number of each product purchased by the 5 most similar customers to the customer you selected in order from most purchased to least."
   ]
  },
  {
   "cell_type": "code",
   "execution_count": null,
   "metadata": {},
   "outputs": [],
   "source": [
    "step6.groupby(by='ProductName').sum()['Quantity'].sort_values(ascending=False)\n",
    "step6"
   ]
  },
  {
   "cell_type": "markdown",
   "metadata": {},
   "source": [
    "## Step 7: Filter the list for products that the chosen customer has not yet purchased and then recommend the top 5 products with the highest quantities that are left.\n",
    "\n",
    "- Merge the ranked products data frame with the customer product matrix on the ProductName field.\n",
    "- Filter for records where the chosen customer has not purchased the product.\n",
    "- Show the top 5 results."
   ]
  },
  {
   "cell_type": "code",
   "execution_count": null,
   "metadata": {},
   "outputs": [],
   "source": [
    "step7=pd.merge(step6,step2.loc[:,Customer], on'ProductName')\n",
    "#step2.loc[:,list(first_5)+[33]]"
   ]
  },
  {
   "cell_type": "code",
   "execution_count": 17,
   "metadata": {},
   "outputs": [
    {
     "ename": "NameError",
     "evalue": "name 'step7' is not defined",
     "output_type": "error",
     "traceback": [
      "\u001b[1;31m---------------------------------------------------------------------------\u001b[0m",
      "\u001b[1;31mNameError\u001b[0m                                 Traceback (most recent call last)",
      "\u001b[1;32m<ipython-input-17-5cd887a3077d>\u001b[0m in \u001b[0;36m<module>\u001b[1;34m\u001b[0m\n\u001b[1;32m----> 1\u001b[1;33m \u001b[0mstep7\u001b[0m\u001b[1;33m.\u001b[0m\u001b[0mloc\u001b[0m\u001b[1;33m[\u001b[0m\u001b[1;33m:\u001b[0m\u001b[1;33m,\u001b[0m\u001b[1;36m33\u001b[0m\u001b[1;33m]\u001b[0m\u001b[1;33m==\u001b[0m\u001b[1;36m0\u001b[0m\u001b[1;33m\u001b[0m\u001b[1;33m\u001b[0m\u001b[0m\n\u001b[0m\u001b[0;32m      2\u001b[0m \u001b[0mstep7\u001b[0m\u001b[1;33m.\u001b[0m\u001b[0mloc\u001b[0m\u001b[1;33m[\u001b[0m\u001b[0mmask\u001b[0m\u001b[1;33m]\u001b[0m\u001b[1;33m.\u001b[0m\u001b[0mindex\u001b[0m\u001b[1;33m[\u001b[0m\u001b[1;36m0\u001b[0m\u001b[1;33m,\u001b[0m\u001b[1;36m5\u001b[0m\u001b[1;33m]\u001b[0m\u001b[1;33m\u001b[0m\u001b[1;33m\u001b[0m\u001b[0m\n",
      "\u001b[1;31mNameError\u001b[0m: name 'step7' is not defined"
     ]
    }
   ],
   "source": [
    "step7.loc[:,33]==0\n",
    "step7.loc[mask].index[0,5]"
   ]
  },
  {
   "cell_type": "markdown",
   "metadata": {},
   "source": [
    "## Step 8: Now that we have generated product recommendations for a single user, put the pieces together and iterate over a list of all CustomerIDs.\n",
    "\n",
    "- Create an empty dictionary that will hold the recommendations for all customers.\n",
    "- Create a list of unique CustomerIDs to iterate over.\n",
    "- Iterate over the customer list performing steps 4 through 7 for each and appending the results of each iteration to the dictionary you created."
   ]
  },
  {
   "cell_type": "code",
   "execution_count": 22,
   "metadata": {},
   "outputs": [],
   "source": [
    "def get_sugestions(custID):\n",
    "    step5 = step1.loc[step1.loc[:,'CustomerID'].isin(top_5(step3,custID))]\n",
    "    step6 = step5.groupby(by='ProductName').sum()['Quantity'].sort_values(ascending=False)\n",
    "    step7 = pd.merge(step6,step2.loc[:,custID],on='ProductName')\n",
    "    \n",
    "    return list(step7.loc[step7.loc[:,custID]==0].index[0:5])"
   ]
  },
  {
   "cell_type": "code",
   "execution_count": null,
   "metadata": {},
   "outputs": [],
   "source": [
    "recommendations = {}\n",
    "IDs = data.CustomerID.unique()"
   ]
  },
  {
   "cell_type": "code",
   "execution_count": null,
   "metadata": {},
   "outputs": [],
   "source": [
    "for idnum in tqdm(IDs):\n",
    "    recommendations[idnum] = get_sugestions(idnum)"
   ]
  },
  {
   "cell_type": "code",
   "execution_count": null,
   "metadata": {},
   "outputs": [],
   "source": [
    "step6=step5.groupby(by'ProductName').sum()['Quantity'].sort_values(ascending=False)\n",
    "step7=pd.merge(step6,step2)"
   ]
  },
  {
   "cell_type": "markdown",
   "metadata": {},
   "source": [
    "##  Step 9: Store the results in a Pandas data frame. The data frame should a column for Customer ID and then a column for each of the 5 product recommendations for each customer."
   ]
  },
  {
   "cell_type": "code",
   "execution_count": null,
   "metadata": {
    "scrolled": true
   },
   "outputs": [],
   "source": [
    "step9="
   ]
  },
  {
   "cell_type": "markdown",
   "metadata": {},
   "source": [
    "## Step 10: Change the distance metric used in Step 3 to something other than euclidean (correlation, cityblock, consine, jaccard, etc.). Regenerate the recommendations for all customers and note the differences."
   ]
  },
  {
   "cell_type": "code",
   "execution_count": null,
   "metadata": {},
   "outputs": [],
   "source": []
  }
 ],
 "metadata": {
  "kernelspec": {
   "display_name": "Python 3",
   "language": "python",
   "name": "python3"
  },
  "language_info": {
   "codemirror_mode": {
    "name": "ipython",
    "version": 3
   },
   "file_extension": ".py",
   "mimetype": "text/x-python",
   "name": "python",
   "nbconvert_exporter": "python",
   "pygments_lexer": "ipython3",
   "version": "3.7.6"
  }
 },
 "nbformat": 4,
 "nbformat_minor": 2
}
