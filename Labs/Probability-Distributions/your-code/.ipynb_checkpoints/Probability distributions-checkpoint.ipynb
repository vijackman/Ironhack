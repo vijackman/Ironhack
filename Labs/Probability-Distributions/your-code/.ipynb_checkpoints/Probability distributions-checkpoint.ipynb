{
 "cells": [
  {
   "cell_type": "markdown",
   "metadata": {
    "colab_type": "text",
    "id": "0F0KuV0rnyZM"
   },
   "source": [
    "# Before your start:\n",
    "- Read the README.md file.\n",
    "- Comment as much as you can and use the resources (README.md file).\n",
    "- Happy learning!"
   ]
  },
  {
   "cell_type": "code",
   "execution_count": 1,
   "metadata": {
    "colab": {},
    "colab_type": "code",
    "id": "IHQwQ7MLnyZN"
   },
   "outputs": [],
   "source": [
    "# Libraries\n",
    "import matplotlib.pyplot as plt"
   ]
  },
  {
   "cell_type": "markdown",
   "metadata": {
    "colab_type": "text",
    "id": "AnnpUehMnyZP"
   },
   "source": [
    "# Challenge 1 - Generate and Plot Normal Distributions\n",
    "#### Step 1: Generate samples and test normal distribution.\n",
    "\n",
    "Use mean=50, standard_deviation=5, and sample_size=[10, 50, 500, 5000] to generate 4 random samples that are normally distributed.\n",
    "\n",
    "**Hint**: Read the documentation for `scipy.stats.norm.rvs`. The function will help you create the normal random samples."
   ]
  },
  {
   "cell_type": "code",
   "execution_count": 0,
   "metadata": {
    "colab": {},
    "colab_type": "code",
    "id": "SvJv4ZcunyZQ"
   },
   "outputs": [],
   "source": [
    "# your code here\n"
   ]
  },
  {
   "cell_type": "markdown",
   "metadata": {
    "colab_type": "text",
    "id": "81pTaprxnyZS"
   },
   "source": [
    "#### Step 2: Plot normal distributions.\n",
    "\n",
    "To check the shape of the samples you have just created, you can use matplotlib. For example, you can use it to plot a histogram of each sample. \n",
    "\n",
    "If you did, your outputs would be really similar to the ones below:\n",
    "\n",
    "![normal distributions with different sample sizes](../images/ch-1.png)"
   ]
  },
  {
   "cell_type": "markdown",
   "metadata": {
    "colab_type": "text",
    "id": "KyBPwleNnyZS"
   },
   "source": [
    "#### Compare the distributions above. What do you observe? Explain with the Central Limit Theorem."
   ]
  },
  {
   "cell_type": "code",
   "execution_count": 0,
   "metadata": {
    "colab": {},
    "colab_type": "code",
    "id": "t9EJyXJMnyZT"
   },
   "outputs": [],
   "source": [
    "\"\"\"\n",
    "your comments here\n",
    "\"\"\""
   ]
  },
  {
   "cell_type": "markdown",
   "metadata": {
    "colab_type": "text",
    "id": "NxDd6B0hnyZX"
   },
   "source": [
    "# Challenge 2 - Plot Probability Mass Function (PMF)"
   ]
  },
  {
   "cell_type": "markdown",
   "metadata": {
    "colab_type": "text",
    "id": "pRD6TYQnnyZY"
   },
   "source": [
    "### Background knowledge\n",
    "\n",
    "[PMF](https://en.wikipedia.org/wiki/Probability_mass_function) shows the probability distribution of a **discrete random variable**. A [discrete random variable](https://en.wikipedia.org/wiki/Random_variable#Discrete_random_variable) has random numeric values that are not continuous. For example, the number of people in a household can only be integers but not floats. Therefore the number of people in a household is a discrete variable.\n",
    "\n",
    "### Challenge\n",
    "\n",
    "We assume that the probability of clicking an advertisement in a Youtube video is 0.15. We have a sample of 5 people who watched the video and we want to plot the PMF for a binomial distribution.\n",
    "\n",
    "#### Step 1: Create the binomial distribution mentioned above. Store the result in a variable called `dist`. \n",
    "**Hint**: use binom from `scipy.stats.binom`. This object takes *n* and *p* as shape parameters, where *n* is the number of independent experiments and *p* the probability of success of the experiment."
   ]
  },
  {
   "cell_type": "code",
   "execution_count": 0,
   "metadata": {
    "colab": {},
    "colab_type": "code",
    "id": "zcwhvOmanyZY"
   },
   "outputs": [],
   "source": [
    "# your code here"
   ]
  },
  {
   "cell_type": "markdown",
   "metadata": {
    "colab_type": "text",
    "id": "Ur6ebnhZnyZa"
   },
   "source": [
    "#### Step 2: Plot the PMF of the distribution. \n",
    "To do it, run the code in the cell below. \n",
    "\n",
    "**Hint**: Your output should look like the one below:\n",
    "\n",
    "![binom 10](../images/ch-2.png)"
   ]
  },
  {
   "cell_type": "code",
   "execution_count": 0,
   "metadata": {
    "colab": {},
    "colab_type": "code",
    "id": "FUKVrF5snyZb"
   },
   "outputs": [],
   "source": [
    "# run this code\n",
    "x = range(n)\n",
    "\n",
    "fig, ax = plt.subplots(1, 1)\n",
    "\n",
    "plt.plot(x, dist.pmf(x))\n",
    "\n",
    "plt.show()"
   ]
  },
  {
   "cell_type": "markdown",
   "metadata": {
    "colab_type": "text",
    "id": "1GTMiKsPnyZd"
   },
   "source": [
    "#### Step 3: Explain what you observe from the plot above."
   ]
  },
  {
   "cell_type": "code",
   "execution_count": 0,
   "metadata": {
    "colab": {},
    "colab_type": "code",
    "id": "vAQy7b8FnyZd"
   },
   "outputs": [],
   "source": [
    "\"\"\"\n",
    "your comments here\n",
    "\"\"\""
   ]
  },
  {
   "cell_type": "markdown",
   "metadata": {
    "colab_type": "text",
    "id": "QEcIKhZNnyZf"
   },
   "source": [
    "#### Step 4: Now plot PMF with 50, 500, and 5000 visitors.\n",
    "To plot the PMF, you can copy the code given above and replace variable `dist` for the name of the variables where you have stored the new binomial objects for 50, 500 and 5000 visitors."
   ]
  },
  {
   "cell_type": "code",
   "execution_count": 0,
   "metadata": {
    "colab": {},
    "colab_type": "code",
    "id": "ZBTHEFt3nyZg"
   },
   "outputs": [],
   "source": [
    "# your code here"
   ]
  },
  {
   "cell_type": "markdown",
   "metadata": {
    "colab_type": "text",
    "id": "ruUhG9FunyZh"
   },
   "source": [
    "#### Step 5: What did you notice from the distribution plots? Comment your findings."
   ]
  },
  {
   "cell_type": "code",
   "execution_count": 0,
   "metadata": {
    "colab": {},
    "colab_type": "code",
    "id": "n1_lWqIJnyZi"
   },
   "outputs": [],
   "source": [
    "\"\"\"\n",
    "your comments here\n",
    "\"\"\""
   ]
  },
  {
   "cell_type": "markdown",
   "metadata": {
    "colab_type": "text",
    "id": "CnXTUCShnyZk"
   },
   "source": [
    "# Challenge 3\n",
    "#### Step 1: Research the Poisson distribution. Write about your own understanding of the Poisson distribution."
   ]
  },
  {
   "cell_type": "code",
   "execution_count": 0,
   "metadata": {
    "colab": {},
    "colab_type": "code",
    "id": "bXCvp-37nyZl"
   },
   "outputs": [],
   "source": [
    "\"\"\"\n",
    "your comments here\n",
    "\"\"\""
   ]
  },
  {
   "cell_type": "markdown",
   "metadata": {
    "colab_type": "text",
    "id": "zzCM9gnynyZn"
   },
   "source": [
    "#### Step 2: A website has an average of 300 visits per day. What is the probability of getting 320 visitors in a day?\n",
    "\n",
    "**Hint**: use `scipy.stats.poisson.pmf`."
   ]
  },
  {
   "cell_type": "code",
   "execution_count": 0,
   "metadata": {
    "colab": {},
    "colab_type": "code",
    "id": "3R9YDCcVnyZn"
   },
   "outputs": [],
   "source": [
    "# your code here"
   ]
  },
  {
   "cell_type": "markdown",
   "metadata": {
    "colab_type": "text",
    "id": "FLIEP6lxnyZp"
   },
   "source": [
    "#### Step 3: What is the probability of getting 60 visits?"
   ]
  },
  {
   "cell_type": "code",
   "execution_count": 0,
   "metadata": {
    "colab": {},
    "colab_type": "code",
    "id": "lI6WOVFQnyZp"
   },
   "outputs": [],
   "source": [
    "# your code here"
   ]
  },
  {
   "cell_type": "markdown",
   "metadata": {
    "colab_type": "text",
    "id": "DdCw_uDbnyZr"
   },
   "source": [
    "#### Step 4: Create a list to store the Poisson distribution probabilities for 0 to 1000 visitors. Store your list in a variable called `arr`."
   ]
  },
  {
   "cell_type": "code",
   "execution_count": 0,
   "metadata": {
    "colab": {},
    "colab_type": "code",
    "id": "Gn-_yHLwnyZr"
   },
   "outputs": [],
   "source": [
    "# your code here"
   ]
  },
  {
   "cell_type": "markdown",
   "metadata": {
    "colab_type": "text",
    "id": "07WsP07InyZu"
   },
   "source": [
    "#### Step 5: Plot the probabilities.\n",
    "To do it, run the code in the cell below. Your plot should look like the one below:\n",
    "\n",
    "![poisson distribution](../images/ch-3.png)"
   ]
  },
  {
   "cell_type": "code",
   "execution_count": 0,
   "metadata": {
    "colab": {},
    "colab_type": "code",
    "id": "b2c4IvqmnyZu"
   },
   "outputs": [],
   "source": [
    "# run this code\n",
    "plt.plot(arr)\n",
    "plt.show()"
   ]
  },
  {
   "cell_type": "markdown",
   "metadata": {
    "colab_type": "text",
    "id": "pGfu_x_EnyZw"
   },
   "source": [
    "# Challenge 4 - Central Limit Theorem\n",
    "\n",
    "A delivery company needs 35 minutes to deliver a package, with a standard deviation of 8 minutes. Suppose that in one day, they deliver 200 packages.\n",
    "\n",
    "**Hint**: `stats.norm.cdf` can help you find the answers.\n",
    "\n",
    "#### Step 1: What is the probability that the mean delivery time today is between 30 and 35 minutes?"
   ]
  },
  {
   "cell_type": "code",
   "execution_count": 0,
   "metadata": {
    "colab": {},
    "colab_type": "code",
    "id": "nDdAbF7fnyZx"
   },
   "outputs": [],
   "source": [
    "# your code here"
   ]
  },
  {
   "cell_type": "markdown",
   "metadata": {
    "colab_type": "text",
    "id": "i_VneA4BnyZz"
   },
   "source": [
    "#### Step 2: What is the probability that in total, it takes more than 115 hours to deliver all 200 packages?"
   ]
  },
  {
   "cell_type": "code",
   "execution_count": 0,
   "metadata": {
    "colab": {},
    "colab_type": "code",
    "id": "lpLLEtEknyZz"
   },
   "outputs": [],
   "source": [
    "# your code here"
   ]
  },
  {
   "cell_type": "markdown",
   "metadata": {
    "colab_type": "text",
    "id": "R-wugLqhnyZ1"
   },
   "source": [
    "# Challenge 5 - Normal Variables\n",
    "The value (in thousands) of the monthly sales of a publishing company follows a normal distribution with a mean equal to 200 and a standard deviation equal to 40.\n",
    "\n",
    "<div align=\"center\">$X → N(200,40)$</div>\n",
    "\n",
    "**Hint**: `stats.norm.cdf` can help you find the answers.\n",
    "\n",
    "#### Step 1: Find the probability that the monthly sales are more than 300."
   ]
  },
  {
   "cell_type": "code",
   "execution_count": 0,
   "metadata": {
    "colab": {},
    "colab_type": "code",
    "id": "XO08W4QxnyZ1"
   },
   "outputs": [],
   "source": [
    "# your code here"
   ]
  },
  {
   "cell_type": "markdown",
   "metadata": {
    "colab_type": "text",
    "id": "scgG2HfFnyZ3"
   },
   "source": [
    "#### Step 2: Find the probability that the monthly sales fall between 160 and 240."
   ]
  },
  {
   "cell_type": "code",
   "execution_count": 0,
   "metadata": {
    "colab": {},
    "colab_type": "code",
    "id": "UYvguIcDnyZ3"
   },
   "outputs": [],
   "source": [
    "# your code here"
   ]
  },
  {
   "cell_type": "markdown",
   "metadata": {
    "colab_type": "text",
    "id": "rSRsVq7_nyZ4"
   },
   "source": [
    "#### Step 3: Find the probability that the monthly sales do not exceed 150."
   ]
  },
  {
   "cell_type": "code",
   "execution_count": 0,
   "metadata": {
    "colab": {},
    "colab_type": "code",
    "id": "iFEnTXMInyZ5"
   },
   "outputs": [],
   "source": [
    "# your code here"
   ]
  },
  {
   "cell_type": "markdown",
   "metadata": {
    "colab_type": "text",
    "id": "jawGEhP2nyZ6"
   },
   "source": [
    "#### Step 4: Find the probability that the monthly sales exceed 3000."
   ]
  },
  {
   "cell_type": "code",
   "execution_count": 0,
   "metadata": {
    "colab": {},
    "colab_type": "code",
    "id": "f7vscB8dnyZ6"
   },
   "outputs": [],
   "source": [
    "# your code here"
   ]
  },
  {
   "cell_type": "markdown",
   "metadata": {
    "colab_type": "text",
    "id": "I6RUcy1vnyZ8"
   },
   "source": [
    "# Challenge 6 - Poisson distribution\n",
    "The mean number of violent robberies per month that are registered in a particular barrio is 4.\n",
    "\n",
    "**Hint**: `stats.poisson.cdf` can help you find the answers.\n",
    "\n",
    "#### Step 1: Find the probability that in a particular month there is no violent robbery."
   ]
  },
  {
   "cell_type": "code",
   "execution_count": 0,
   "metadata": {
    "colab": {},
    "colab_type": "code",
    "id": "p-T4sZMenyZ9"
   },
   "outputs": [],
   "source": [
    "# your code here"
   ]
  },
  {
   "cell_type": "markdown",
   "metadata": {
    "colab_type": "text",
    "id": "5WmkyG4EnyZ_"
   },
   "source": [
    "#### Step 2: Find the probability that there are at least 1 robbery in a given month."
   ]
  },
  {
   "cell_type": "code",
   "execution_count": 0,
   "metadata": {
    "colab": {},
    "colab_type": "code",
    "id": "XxbokfUHnyZ_"
   },
   "outputs": [],
   "source": [
    "# your code here"
   ]
  },
  {
   "cell_type": "markdown",
   "metadata": {
    "colab_type": "text",
    "id": "jIoFYBFZnyaA"
   },
   "source": [
    "#### Step 3: Find the probability that there are between 2 and 6 (inclusive) robberies in a given month."
   ]
  },
  {
   "cell_type": "code",
   "execution_count": 0,
   "metadata": {
    "colab": {},
    "colab_type": "code",
    "id": "crGzVaqfnyaB"
   },
   "outputs": [],
   "source": [
    "# your code here"
   ]
  },
  {
   "cell_type": "markdown",
   "metadata": {
    "colab_type": "text",
    "id": "okX8jz1QnyaC"
   },
   "source": [
    "#### Step 4: Find the probability that there are more than 2 robberies in 15 days."
   ]
  },
  {
   "cell_type": "code",
   "execution_count": 0,
   "metadata": {
    "colab": {},
    "colab_type": "code",
    "id": "KxjEnWtJnyaD"
   },
   "outputs": [],
   "source": [
    "# your code here"
   ]
  }
 ],
 "metadata": {
  "anaconda-cloud": {},
  "colab": {
   "name": "main.ipynb",
   "provenance": []
  },
  "kernelspec": {
   "display_name": "Python 3",
   "language": "python",
   "name": "python3"
  },
  "language_info": {
   "codemirror_mode": {
    "name": "ipython",
    "version": 3
   },
   "file_extension": ".py",
   "mimetype": "text/x-python",
   "name": "python",
   "nbconvert_exporter": "python",
   "pygments_lexer": "ipython3",
   "version": "3.7.6"
  }
 },
 "nbformat": 4,
 "nbformat_minor": 1
}
