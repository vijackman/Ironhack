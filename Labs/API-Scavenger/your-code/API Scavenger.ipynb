{
 "cells": [
  {
   "cell_type": "markdown",
   "metadata": {
    "colab_type": "text",
    "id": "wn9cH2KuhPQm"
   },
   "source": [
    "# API Scavenger Game\n",
    "\n",
    "## Challenge 1: Fork Languages\n",
    "\n",
    "You will find out how many programming languages are used among all the forks created from the main lab repo of your bootcamp."
   ]
  },
  {
   "cell_type": "code",
   "execution_count": 12,
   "metadata": {
    "colab": {},
    "colab_type": "code",
    "id": "CISPmeFPhPQt",
    "scrolled": true
   },
   "outputs": [],
   "source": [
    "# import libraries here\n",
    "import pandas as pd\n",
    "import json\n",
    "import re\n",
    "import requests"
   ]
  },
  {
   "cell_type": "code",
   "execution_count": 11,
   "metadata": {},
   "outputs": [
    {
     "data": {
      "text/plain": [
       "'0.23.4'"
      ]
     },
     "execution_count": 11,
     "metadata": {},
     "output_type": "execute_result"
    }
   ],
   "source": [
    "pd.__version__"
   ]
  },
  {
   "cell_type": "markdown",
   "metadata": {
    "colab_type": "text",
    "id": "kHZG8N7hhU1w"
   },
   "source": [
    "Assuming the main lab repo is ironhack-datalabs/mad-oct-2018, you will:\n",
    "\n",
    "#### 1. Obtain the full list of forks created from the main lab repo via Github API."
   ]
  },
  {
   "cell_type": "markdown",
   "metadata": {
    "colab_type": "text",
    "id": "X6JuENLGhPQ9"
   },
   "source": [
    "To list forks, we can use the GET method. As explained in the GitHub API documentation, we need to make the request to: GET /repos/:owner/:repo/forks."
   ]
  },
  {
   "cell_type": "code",
   "execution_count": 14,
   "metadata": {
    "colab": {},
    "colab_type": "code",
    "id": "II5D8CkQhPQ_"
   },
   "outputs": [
    {
     "name": "stderr",
     "output_type": "stream",
     "text": [
      "  % Total    % Received % Xferd  Average Speed   Time    Time     Time  Current\n",
      "                                 Dload  Upload   Total   Spent    Left  Speed\n",
      "\n",
      "  0     0    0     0    0     0      0      0 --:--:-- --:--:-- --:--:--     0\n",
      "100  1273  100  1273    0     0   1357      0 --:--:-- --:--:-- --:--:--  1357\n",
      "100  1273  100  1273    0     0   1357      0 --:--:-- --:--:-- --:--:--  1357\n"
     ]
    }
   ],
   "source": [
    "# your code here\n",
    "!curl -u vijackman:a20bca8ac6a9ea2889a55a97a435cd271ef27c81 https://api.github.com/user > output.json"
   ]
  },
  {
   "cell_type": "markdown",
   "metadata": {
    "colab_type": "text",
    "id": "ZMyRu0p6hPRI"
   },
   "source": [
    "#### 2. Loop the JSON response to find out the language attribute of each fork. Use an array to store the language attributes of each fork.\n",
    "Hint: Each language should appear only once in your array.\n",
    "Print the language array. It should be something like: [\"Python\", \"Jupyter Notebook\", \"HTML\"]"
   ]
  },
  {
   "cell_type": "code",
   "execution_count": 75,
   "metadata": {
    "colab": {},
    "colab_type": "code",
    "id": "2UwZRhw4hPRL"
   },
   "outputs": [],
   "source": [
    "# your code here\n",
    "token = \"a20bca8ac6a9ea2889a55a97a435cd271ef27c81\"\n",
    "username = \"vijackman\"\n",
    "url = \"https://api.github.com/repos/ironhack-datalabs/mad-oct-2018/commits\"\n",
    "response = requests.get(url, auth=(username, token))\n",
    "df=response.json()"
   ]
  },
  {
   "cell_type": "code",
   "execution_count": 76,
   "metadata": {},
   "outputs": [],
   "source": [
    "df2=pd.DataFrame(df)"
   ]
  },
  {
   "cell_type": "code",
   "execution_count": 77,
   "metadata": {},
   "outputs": [
    {
     "data": {
      "text/plain": [
       "Index(['author', 'comments_url', 'commit', 'committer', 'html_url', 'node_id',\n",
       "       'parents', 'sha', 'url'],\n",
       "      dtype='object')"
      ]
     },
     "execution_count": 77,
     "metadata": {},
     "output_type": "execute_result"
    }
   ],
   "source": [
    "df2.columns"
   ]
  },
  {
   "cell_type": "code",
   "execution_count": 78,
   "metadata": {},
   "outputs": [
    {
     "data": {
      "text/plain": [
       "(30, 9)"
      ]
     },
     "execution_count": 78,
     "metadata": {},
     "output_type": "execute_result"
    }
   ],
   "source": [
    "df2.shape"
   ]
  },
  {
   "cell_type": "code",
   "execution_count": 83,
   "metadata": {},
   "outputs": [],
   "source": [
    "df3=df2.loc[:,'commit']"
   ]
  },
  {
   "cell_type": "code",
   "execution_count": 94,
   "metadata": {},
   "outputs": [
    {
     "data": {
      "text/plain": [
       "['2019-08-19T11:11:36Z',\n",
       " '2019-03-07T15:49:16Z',\n",
       " '2019-03-07T15:38:52Z',\n",
       " '2019-01-18T18:28:33Z',\n",
       " '2019-01-17T21:59:35Z',\n",
       " '2019-01-17T06:33:16Z',\n",
       " '2019-01-17T06:28:16Z',\n",
       " '2019-01-17T06:24:01Z',\n",
       " '2019-01-16T23:20:01Z',\n",
       " '2019-01-16T22:24:40Z',\n",
       " '2019-01-16T22:24:35Z',\n",
       " '2019-01-14T22:40:53Z',\n",
       " '2019-01-11T20:01:48Z',\n",
       " '2019-01-10T21:15:16Z',\n",
       " '2019-01-10T21:11:31Z',\n",
       " '2019-01-08T20:22:14Z',\n",
       " '2019-01-08T20:22:09Z',\n",
       " '2019-01-07T20:24:29Z',\n",
       " '2019-01-07T20:20:17Z',\n",
       " '2019-01-07T17:49:55Z',\n",
       " '2019-01-07T17:47:26Z',\n",
       " '2019-01-07T16:32:06Z',\n",
       " '2019-01-07T16:17:21Z',\n",
       " '2019-01-07T15:15:49Z',\n",
       " '2019-01-07T05:11:44Z',\n",
       " '2019-01-06T20:04:06Z',\n",
       " '2019-01-05T17:05:30Z',\n",
       " '2019-01-05T17:05:18Z',\n",
       " '2019-01-05T02:21:03Z',\n",
       " '2019-01-05T02:20:54Z']"
      ]
     },
     "execution_count": 94,
     "metadata": {},
     "output_type": "execute_result"
    }
   ],
   "source": [
    "dates=[item['author']['date'] for item in df3]\n",
    "dates"
   ]
  },
  {
   "cell_type": "code",
   "execution_count": 134,
   "metadata": {
    "scrolled": true
   },
   "outputs": [],
   "source": [
    "data_r=[]\n",
    "for date in dates:\n",
    "    if len(re.findall('2019-0',dates[0]))!=0: \n",
    "        data_r.append(date)"
   ]
  },
  {
   "cell_type": "code",
   "execution_count": 135,
   "metadata": {},
   "outputs": [
    {
     "data": {
      "text/plain": [
       "['2019-08-19T11:11:36Z',\n",
       " '2019-03-07T15:49:16Z',\n",
       " '2019-03-07T15:38:52Z',\n",
       " '2019-01-18T18:28:33Z',\n",
       " '2019-01-17T21:59:35Z',\n",
       " '2019-01-17T06:33:16Z',\n",
       " '2019-01-17T06:28:16Z',\n",
       " '2019-01-17T06:24:01Z',\n",
       " '2019-01-16T23:20:01Z',\n",
       " '2019-01-16T22:24:40Z',\n",
       " '2019-01-16T22:24:35Z',\n",
       " '2019-01-14T22:40:53Z',\n",
       " '2019-01-11T20:01:48Z',\n",
       " '2019-01-10T21:15:16Z',\n",
       " '2019-01-10T21:11:31Z',\n",
       " '2019-01-08T20:22:14Z',\n",
       " '2019-01-08T20:22:09Z',\n",
       " '2019-01-07T20:24:29Z',\n",
       " '2019-01-07T20:20:17Z',\n",
       " '2019-01-07T17:49:55Z',\n",
       " '2019-01-07T17:47:26Z',\n",
       " '2019-01-07T16:32:06Z',\n",
       " '2019-01-07T16:17:21Z',\n",
       " '2019-01-07T15:15:49Z',\n",
       " '2019-01-07T05:11:44Z',\n",
       " '2019-01-06T20:04:06Z',\n",
       " '2019-01-05T17:05:30Z',\n",
       " '2019-01-05T17:05:18Z',\n",
       " '2019-01-05T02:21:03Z',\n",
       " '2019-01-05T02:20:54Z']"
      ]
     },
     "execution_count": 135,
     "metadata": {},
     "output_type": "execute_result"
    }
   ],
   "source": [
    "data_r"
   ]
  },
  {
   "cell_type": "markdown",
   "metadata": {
    "colab_type": "text",
    "id": "uWWh1AbLhPRU"
   },
   "source": [
    "## Challenge 2: Count Commits\n",
    "Count how many commits were made in the month of january of 2019.\n",
    "\n",
    "Hints: \n",
    "- https://developer.github.com/v3/repos/commits/#list-commits-on-a-repository\n",
    "\n",
    "- GET /repos/:owner/:repo/commits\n",
    "\n",
    "#### 1. Obtain all the commits made in January 2019 via API, which is a JSON array that contains multiple commit objects."
   ]
  },
  {
   "cell_type": "code",
   "execution_count": 65,
   "metadata": {
    "colab": {},
    "colab_type": "code",
    "id": "fvBVJbQvhPRW"
   },
   "outputs": [],
   "source": [
    "# your code here\n",
    "token = \"a20bca8ac6a9ea2889a55a97a435cd271ef27c81\"\n",
    "username = \"vijackman\"\n",
    "url = \"https://api.github.com/repos/ironhack-datalabs/mad-oct-2018/forks\"\n",
    "response = requests.get(url, auth=(username, token))\n",
    "response.status_code\n",
    "commit = pd.DataFrame(response.json())"
   ]
  },
  {
   "cell_type": "code",
   "execution_count": 68,
   "metadata": {},
   "outputs": [
    {
     "data": {
      "text/plain": [
       "Index(['archive_url', 'archived', 'assignees_url', 'blobs_url', 'branches_url',\n",
       "       'clone_url', 'collaborators_url', 'comments_url', 'commits_url',\n",
       "       'compare_url', 'contents_url', 'contributors_url', 'created_at',\n",
       "       'default_branch', 'deployments_url', 'description', 'disabled',\n",
       "       'downloads_url', 'events_url', 'fork', 'forks', 'forks_count',\n",
       "       'forks_url', 'full_name', 'git_commits_url', 'git_refs_url',\n",
       "       'git_tags_url', 'git_url', 'has_downloads', 'has_issues', 'has_pages',\n",
       "       'has_projects', 'has_wiki', 'homepage', 'hooks_url', 'html_url', 'id',\n",
       "       'issue_comment_url', 'issue_events_url', 'issues_url', 'keys_url',\n",
       "       'labels_url', 'language', 'languages_url', 'license', 'merges_url',\n",
       "       'milestones_url', 'mirror_url', 'name', 'node_id', 'notifications_url',\n",
       "       'open_issues', 'open_issues_count', 'owner', 'permissions', 'private',\n",
       "       'pulls_url', 'pushed_at', 'releases_url', 'size', 'ssh_url',\n",
       "       'stargazers_count', 'stargazers_url', 'statuses_url', 'subscribers_url',\n",
       "       'subscription_url', 'svn_url', 'tags_url', 'teams_url', 'trees_url',\n",
       "       'updated_at', 'url', 'watchers', 'watchers_count'],\n",
       "      dtype='object')"
      ]
     },
     "execution_count": 68,
     "metadata": {},
     "output_type": "execute_result"
    }
   ],
   "source": [
    "commit.columns"
   ]
  },
  {
   "cell_type": "code",
   "execution_count": 72,
   "metadata": {},
   "outputs": [
    {
     "data": {
      "text/plain": [
       "0     https://api.github.com/repos/ToniPons97/mad-oc...\n",
       "1     https://api.github.com/repos/rsennes/mad-oct-2...\n",
       "2     https://api.github.com/repos/gggfaria/mad-oct-...\n",
       "3     https://api.github.com/repos/nancyulric/mad-oc...\n",
       "4     https://api.github.com/repos/lmartinezruizit/d...\n",
       "5     https://api.github.com/repos/eye8/madrid-oct-2...\n",
       "6     https://api.github.com/repos/ArieHassan/madrid...\n",
       "7     https://api.github.com/repos/cmvalma/madrid-oc...\n",
       "8     https://api.github.com/repos/criraca/madrid-oc...\n",
       "9     https://api.github.com/repos/AlbertoCastellano...\n",
       "10    https://api.github.com/repos/elenajpp/madrid-o...\n",
       "11    https://api.github.com/repos/pablobarrio/madri...\n",
       "12    https://api.github.com/repos/miriammg/madrid-o...\n",
       "13    https://api.github.com/repos/albertogcmr/madri...\n",
       "14    https://api.github.com/repos/marisfont/madrid-...\n",
       "Name: commits_url, dtype: object"
      ]
     },
     "execution_count": 72,
     "metadata": {},
     "output_type": "execute_result"
    }
   ],
   "source": []
  },
  {
   "cell_type": "code",
   "execution_count": 74,
   "metadata": {},
   "outputs": [
    {
     "ename": "TypeError",
     "evalue": "expected string or bytes-like object",
     "output_type": "error",
     "traceback": [
      "\u001b[1;31m---------------------------------------------------------------------------\u001b[0m",
      "\u001b[1;31mTypeError\u001b[0m                                 Traceback (most recent call last)",
      "\u001b[1;32m<ipython-input-74-328a1f07a7b4>\u001b[0m in \u001b[0;36m<module>\u001b[1;34m\u001b[0m\n\u001b[0;32m      1\u001b[0m \u001b[0mpattern\u001b[0m\u001b[1;33m=\u001b[0m\u001b[1;34m'jan[?]2019'\u001b[0m\u001b[1;33m\u001b[0m\u001b[1;33m\u001b[0m\u001b[0m\n\u001b[1;32m----> 2\u001b[1;33m \u001b[0mprint\u001b[0m\u001b[1;33m(\u001b[0m\u001b[0mre\u001b[0m\u001b[1;33m.\u001b[0m\u001b[0mfindall\u001b[0m\u001b[1;33m(\u001b[0m\u001b[0mpattern\u001b[0m\u001b[1;33m,\u001b[0m\u001b[0mcommit\u001b[0m\u001b[1;33m)\u001b[0m\u001b[1;33m)\u001b[0m\u001b[1;33m\u001b[0m\u001b[1;33m\u001b[0m\u001b[0m\n\u001b[0m",
      "\u001b[1;32mC:\\ProgramData\\Anaconda3\\lib\\re.py\u001b[0m in \u001b[0;36mfindall\u001b[1;34m(pattern, string, flags)\u001b[0m\n\u001b[0;32m    221\u001b[0m \u001b[1;33m\u001b[0m\u001b[0m\n\u001b[0;32m    222\u001b[0m     Empty matches are included in the result.\"\"\"\n\u001b[1;32m--> 223\u001b[1;33m     \u001b[1;32mreturn\u001b[0m \u001b[0m_compile\u001b[0m\u001b[1;33m(\u001b[0m\u001b[0mpattern\u001b[0m\u001b[1;33m,\u001b[0m \u001b[0mflags\u001b[0m\u001b[1;33m)\u001b[0m\u001b[1;33m.\u001b[0m\u001b[0mfindall\u001b[0m\u001b[1;33m(\u001b[0m\u001b[0mstring\u001b[0m\u001b[1;33m)\u001b[0m\u001b[1;33m\u001b[0m\u001b[1;33m\u001b[0m\u001b[0m\n\u001b[0m\u001b[0;32m    224\u001b[0m \u001b[1;33m\u001b[0m\u001b[0m\n\u001b[0;32m    225\u001b[0m \u001b[1;32mdef\u001b[0m \u001b[0mfinditer\u001b[0m\u001b[1;33m(\u001b[0m\u001b[0mpattern\u001b[0m\u001b[1;33m,\u001b[0m \u001b[0mstring\u001b[0m\u001b[1;33m,\u001b[0m \u001b[0mflags\u001b[0m\u001b[1;33m=\u001b[0m\u001b[1;36m0\u001b[0m\u001b[1;33m)\u001b[0m\u001b[1;33m:\u001b[0m\u001b[1;33m\u001b[0m\u001b[1;33m\u001b[0m\u001b[0m\n",
      "\u001b[1;31mTypeError\u001b[0m: expected string or bytes-like object"
     ]
    }
   ],
   "source": [
    "pattern='jan[?]2019'\n",
    "print(re.findall(pattern,commit))"
   ]
  },
  {
   "cell_type": "markdown",
   "metadata": {
    "colab_type": "text",
    "id": "cp1aYfRShPRb"
   },
   "source": [
    "#### 2. Count how many commit objects are contained in the array."
   ]
  },
  {
   "cell_type": "code",
   "execution_count": 0,
   "metadata": {
    "colab": {},
    "colab_type": "code",
    "id": "guNZQxx4hPTT"
   },
   "outputs": [],
   "source": [
    "# your code here"
   ]
  },
  {
   "cell_type": "markdown",
   "metadata": {
    "colab_type": "text",
    "id": "cr6YdvCvhPTZ"
   },
   "source": [
    "## Challenge 3: Hidden Cold Joke\n",
    "\n",
    "Using Python, call Github API to find out the cold joke contained in the 24 secret files in the following repo:\n",
    "\n",
    "https://github.com/ironhack-datalabs/scavenger\n",
    "\n",
    "The filenames of the secret files contain .scavengerhunt and they are scattered in different directories of this repo. The secret files are named from .0001.scavengerhunt to .0024.scavengerhunt. They are scattered randomly throughout this repo. You need to search for these files by calling the Github API, not searching the local files on your computer.\n",
    "\n",
    "#### 1. Find the secret files."
   ]
  },
  {
   "cell_type": "code",
   "execution_count": 0,
   "metadata": {
    "colab": {},
    "colab_type": "code",
    "id": "96VAucMUhPTb"
   },
   "outputs": [],
   "source": [
    "# your code here"
   ]
  },
  {
   "cell_type": "markdown",
   "metadata": {
    "colab_type": "text",
    "id": "Jm7O1IHFhPTi"
   },
   "source": [
    "#### 2.  Sort the filenames ascendingly."
   ]
  },
  {
   "cell_type": "code",
   "execution_count": 0,
   "metadata": {
    "colab": {},
    "colab_type": "code",
    "id": "KOAB6TkZhPTk"
   },
   "outputs": [],
   "source": [
    "# your code here"
   ]
  },
  {
   "cell_type": "markdown",
   "metadata": {
    "colab_type": "text",
    "id": "GqwqQnvShPTt"
   },
   "source": [
    "#### 3. Read the content of each secret files into an array of strings.\n",
    "Since the response is encoded, you will need to send the following information in the header of your request:\n",
    "````python\n",
    "headers = {'Accept': 'application/vnd.github.v3.raw'}\n",
    "````"
   ]
  },
  {
   "cell_type": "code",
   "execution_count": 0,
   "metadata": {
    "colab": {},
    "colab_type": "code",
    "id": "nxcnG4d0hPT0"
   },
   "outputs": [],
   "source": [
    "# your code here"
   ]
  },
  {
   "cell_type": "markdown",
   "metadata": {
    "colab_type": "text",
    "id": "A-h4Qz7ahPT7"
   },
   "source": [
    "#### 4. Concatenate the strings in the array separating each two with a whitespace."
   ]
  },
  {
   "cell_type": "code",
   "execution_count": 0,
   "metadata": {
    "colab": {},
    "colab_type": "code",
    "id": "nYWRSxrZhPT9"
   },
   "outputs": [],
   "source": [
    "# your code here"
   ]
  },
  {
   "cell_type": "markdown",
   "metadata": {
    "colab_type": "text",
    "id": "M1mXl3TEhPUA"
   },
   "source": [
    "#### 5. Print out the joke."
   ]
  },
  {
   "cell_type": "code",
   "execution_count": 0,
   "metadata": {
    "colab": {},
    "colab_type": "code",
    "id": "_JoQ4h2_hPUF"
   },
   "outputs": [],
   "source": [
    "# your code here"
   ]
  }
 ],
 "metadata": {
  "colab": {
   "name": "main.ipynb",
   "provenance": []
  },
  "kernelspec": {
   "display_name": "Python 3",
   "language": "python",
   "name": "python3"
  },
  "language_info": {
   "codemirror_mode": {
    "name": "ipython",
    "version": 3
   },
   "file_extension": ".py",
   "mimetype": "text/x-python",
   "name": "python",
   "nbconvert_exporter": "python",
   "pygments_lexer": "ipython3",
   "version": "3.7.1"
  },
  "toc": {
   "base_numbering": 1,
   "nav_menu": {},
   "number_sections": true,
   "sideBar": true,
   "skip_h1_title": false,
   "title_cell": "Table of Contents",
   "title_sidebar": "Contents",
   "toc_cell": false,
   "toc_position": {},
   "toc_section_display": true,
   "toc_window_display": false
  },
  "varInspector": {
   "cols": {
    "lenName": 16,
    "lenType": 16,
    "lenVar": 40
   },
   "kernels_config": {
    "python": {
     "delete_cmd_postfix": "",
     "delete_cmd_prefix": "del ",
     "library": "var_list.py",
     "varRefreshCmd": "print(var_dic_list())"
    },
    "r": {
     "delete_cmd_postfix": ") ",
     "delete_cmd_prefix": "rm(",
     "library": "var_list.r",
     "varRefreshCmd": "cat(var_dic_list()) "
    }
   },
   "types_to_exclude": [
    "module",
    "function",
    "builtin_function_or_method",
    "instance",
    "_Feature"
   ],
   "window_display": false
  }
 },
 "nbformat": 4,
 "nbformat_minor": 1
}
