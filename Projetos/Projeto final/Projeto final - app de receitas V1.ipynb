{
 "cells": [
  {
   "cell_type": "markdown",
   "metadata": {},
   "source": [
    "# Projeto final - App de receitas\n",
    "Digite um ou mais ingredientes e encontre receitas que podem ser feitas com esses ingredientes"
   ]
  },
  {
   "cell_type": "markdown",
   "metadata": {},
   "source": [
    "## 1. Importando bibliotecas"
   ]
  },
  {
   "cell_type": "code",
   "execution_count": 1,
   "metadata": {},
   "outputs": [],
   "source": [
    "import requests\n",
    "import pandas as pd\n",
    "from bs4 import BeautifulSoup\n",
    "from tqdm.auto import tqdm\n",
    "import numpy as np\n",
    "import re\n",
    "from time import sleep\n",
    "import random\n",
    "from unidecode import unidecode"
   ]
  },
  {
   "cell_type": "markdown",
   "metadata": {},
   "source": [
    "## 2 WebScrapping"
   ]
  },
  {
   "cell_type": "markdown",
   "metadata": {},
   "source": [
    "#### Site 1 para banco de dados - https://www.daninoce.com.br/"
   ]
  },
  {
   "cell_type": "code",
   "execution_count": null,
   "metadata": {},
   "outputs": [],
   "source": [
    "site='https://www.daninoce.com.br/receitas/'\n",
    "rq=requests.get(site)"
   ]
  },
  {
   "cell_type": "markdown",
   "metadata": {},
   "source": [
    "## 3.1 Definindo categorias"
   ]
  },
  {
   "cell_type": "code",
   "execution_count": null,
   "metadata": {},
   "outputs": [],
   "source": [
    "soup=BeautifulSoup(rq.content)"
   ]
  },
  {
   "cell_type": "code",
   "execution_count": null,
   "metadata": {},
   "outputs": [],
   "source": [
    "soup.find_all('a')"
   ]
  },
  {
   "cell_type": "code",
   "execution_count": null,
   "metadata": {},
   "outputs": [],
   "source": [
    "categorias=[item['href'] if 'categoria-de-receita' in item['href'] else 0 for item in soup.find_all('a',attrs={'class':'mark'})]"
   ]
  },
  {
   "cell_type": "code",
   "execution_count": null,
   "metadata": {},
   "outputs": [],
   "source": [
    "categorias.remove(0)"
   ]
  },
  {
   "cell_type": "code",
   "execution_count": null,
   "metadata": {},
   "outputs": [],
   "source": [
    "len(categorias)"
   ]
  },
  {
   "cell_type": "code",
   "execution_count": null,
   "metadata": {},
   "outputs": [],
   "source": [
    "categorias[0].strip('/').split('https://www.daninoce.com.br/categoria-de-receita/')[1]"
   ]
  },
  {
   "cell_type": "code",
   "execution_count": null,
   "metadata": {},
   "outputs": [],
   "source": [
    "categorias.remove(0)\n",
    "len(categorias)"
   ]
  },
  {
   "cell_type": "code",
   "execution_count": null,
   "metadata": {},
   "outputs": [],
   "source": [
    "categorias_nome=[item.strip('/').split('https://www.daninoce.com.br/categoria-de-receita/')[1] for item in categorias]"
   ]
  },
  {
   "cell_type": "code",
   "execution_count": null,
   "metadata": {},
   "outputs": [],
   "source": [
    "categorias=list(set(categorias))"
   ]
  },
  {
   "cell_type": "code",
   "execution_count": null,
   "metadata": {},
   "outputs": [],
   "source": [
    "len(categorias)"
   ]
  },
  {
   "cell_type": "markdown",
   "metadata": {},
   "source": [
    "## 3.2 Defininfo receitas"
   ]
  },
  {
   "cell_type": "code",
   "execution_count": null,
   "metadata": {},
   "outputs": [],
   "source": [
    "lista1=[]\n",
    "for item in categorias:\n",
    "    rq2=requests.get(item)\n",
    "    soup2=BeautifulSoup(rq2.content)\n",
    "    receitas=[item['href'] if '/receitas/' in item['href'] else 0 for item in soup2.find_all('a')]\n",
    "    receitas=list(set(receitas))\n",
    "    lista1.append(receitas)"
   ]
  },
  {
   "cell_type": "code",
   "execution_count": null,
   "metadata": {},
   "outputs": [],
   "source": [
    "#Removendo os zeros das listas\n",
    "for item in lista1:\n",
    "    item.remove(0)"
   ]
  },
  {
   "cell_type": "code",
   "execution_count": null,
   "metadata": {},
   "outputs": [],
   "source": [
    "lista1"
   ]
  },
  {
   "cell_type": "code",
   "execution_count": null,
   "metadata": {},
   "outputs": [],
   "source": [
    "categorias_dict={}\n",
    "for item in range(len(categorias_nome)):\n",
    "    categorias_dict.update({categorias_nome[item]:lista1[item]})\n",
    "print(categorias_dict)"
   ]
  },
  {
   "cell_type": "code",
   "execution_count": null,
   "metadata": {},
   "outputs": [],
   "source": [
    "if 'https://www.daninoce.com.br/receitas/massa-para-bolo-de-chocolate-ou-petit-gateau/' in categorias_dict:\n",
    "    print(categorias_dict['https://www.daninoce.com.br/receitas/massa-para-bolo-de-chocolate-ou-petit-gateau/'])"
   ]
  },
  {
   "cell_type": "code",
   "execution_count": null,
   "metadata": {},
   "outputs": [],
   "source": [
    "categorias_dict['whoopie-pie']"
   ]
  },
  {
   "cell_type": "code",
   "execution_count": null,
   "metadata": {},
   "outputs": [],
   "source": [
    "categorias_dict['whoopie-pie']"
   ]
  },
  {
   "cell_type": "code",
   "execution_count": null,
   "metadata": {},
   "outputs": [],
   "source": [
    "def buscar_dict (x):\n",
    "    \n",
    "    '''Função pra extraix os valores (que são as categorias) do dicionario para criar uma coluna com esses valores.'''\n",
    "    \n",
    "    for item in categorias_nome:\n",
    "        lista_dict=categorias_dict[item]\n",
    "        if x in lista_dict:\n",
    "            return item"
   ]
  },
  {
   "cell_type": "code",
   "execution_count": null,
   "metadata": {},
   "outputs": [],
   "source": [
    "link='https://www.daninoce.com.br/receitas/whoopie-pie-de-floresta-negra/'"
   ]
  },
  {
   "cell_type": "code",
   "execution_count": null,
   "metadata": {
    "scrolled": true
   },
   "outputs": [],
   "source": [
    "buscar_dict(link)"
   ]
  },
  {
   "cell_type": "markdown",
   "metadata": {},
   "source": [
    "### 3.3 Criando DataFrame + coluna nome e coluna sites"
   ]
  },
  {
   "cell_type": "code",
   "execution_count": null,
   "metadata": {},
   "outputs": [],
   "source": [
    "from functools import reduce"
   ]
  },
  {
   "cell_type": "code",
   "execution_count": null,
   "metadata": {},
   "outputs": [],
   "source": [
    "def my_sum(a,b):\n",
    "    \n",
    "    '''Função pra concatenar listas.'''\n",
    "    \n",
    "    return a + b"
   ]
  },
  {
   "cell_type": "code",
   "execution_count": null,
   "metadata": {},
   "outputs": [],
   "source": [
    "# checando all_receipes"
   ]
  },
  {
   "cell_type": "code",
   "execution_count": null,
   "metadata": {},
   "outputs": [],
   "source": [
    "all_receipes=reduce(my_sum,lista1)"
   ]
  },
  {
   "cell_type": "code",
   "execution_count": null,
   "metadata": {},
   "outputs": [],
   "source": [
    "all_recipes=all_receipes"
   ]
  },
  {
   "cell_type": "code",
   "execution_count": null,
   "metadata": {},
   "outputs": [],
   "source": [
    "len(all_recipes)"
   ]
  },
  {
   "cell_type": "code",
   "execution_count": null,
   "metadata": {
    "scrolled": true
   },
   "outputs": [],
   "source": [
    "all_recipes[0:3]"
   ]
  },
  {
   "cell_type": "code",
   "execution_count": null,
   "metadata": {},
   "outputs": [],
   "source": [
    "'https://www.daninoce.com.br/receitas/trufa-vegana-no-copinho-funcional/'.split('https://www.daninoce.com.br/receitas/')[1]"
   ]
  },
  {
   "cell_type": "code",
   "execution_count": null,
   "metadata": {},
   "outputs": [],
   "source": [
    "name=[item.strip('/').split('https://www.daninoce.com.br/receitas/')[1] for item in all_receipes]"
   ]
  },
  {
   "cell_type": "code",
   "execution_count": null,
   "metadata": {},
   "outputs": [],
   "source": [
    "df=pd.DataFrame(name,columns=['nome'])"
   ]
  },
  {
   "cell_type": "code",
   "execution_count": null,
   "metadata": {},
   "outputs": [],
   "source": [
    "df['sites']=all_recipes"
   ]
  },
  {
   "cell_type": "markdown",
   "metadata": {},
   "source": [
    "## 3.3 Definindo Ingredientes"
   ]
  },
  {
   "cell_type": "code",
   "execution_count": null,
   "metadata": {},
   "outputs": [],
   "source": [
    "# testando ants de aplicar no codigo - soup3.find_all('li',attrs={'itemprop':'recipeIngredient'})[0].text"
   ]
  },
  {
   "cell_type": "code",
   "execution_count": null,
   "metadata": {},
   "outputs": [],
   "source": [
    "lista2=[]\n",
    "for item in tqdm(all_receipes):\n",
    "    rq3=requests.get(item)\n",
    "    soup3=BeautifulSoup(rq3.content)\n",
    "    ingredientes=[item.text for item in soup3.find_all('li',attrs={'itemprop':'recipeIngredient'})]\n",
    "    ingredientes=list(set(ingredientes))\n",
    "    lista2.append(ingredientes)\n",
    "df['ingredientes']=lista2"
   ]
  },
  {
   "cell_type": "code",
   "execution_count": null,
   "metadata": {},
   "outputs": [],
   "source": [
    "df['ingredientes'].head(3)"
   ]
  },
  {
   "cell_type": "code",
   "execution_count": null,
   "metadata": {},
   "outputs": [],
   "source": [
    "# usar em outro momento\n",
    "#df['ingredientes']=df['ingredientes'].apply(lambda x:eval(x))"
   ]
  },
  {
   "cell_type": "code",
   "execution_count": null,
   "metadata": {},
   "outputs": [],
   "source": [
    "','.join(df['ingredientes'][0])"
   ]
  },
  {
   "cell_type": "code",
   "execution_count": null,
   "metadata": {},
   "outputs": [],
   "source": [
    "df['ingredientes']=[', '.join(item) for item in df['ingredientes']]"
   ]
  },
  {
   "cell_type": "code",
   "execution_count": null,
   "metadata": {},
   "outputs": [],
   "source": [
    "df['ingredientes'][0].lower()"
   ]
  },
  {
   "cell_type": "code",
   "execution_count": null,
   "metadata": {},
   "outputs": [],
   "source": [
    "df['ingredientes']=[item.lower() for item in df['ingredientes']]"
   ]
  },
  {
   "cell_type": "markdown",
   "metadata": {},
   "source": [
    "## 3.4 Definindo modo de preparo"
   ]
  },
  {
   "cell_type": "code",
   "execution_count": null,
   "metadata": {},
   "outputs": [],
   "source": [
    "soup3.find_all('li',attrs={'itemprop':'recipeInstructions'})[0].text"
   ]
  },
  {
   "cell_type": "code",
   "execution_count": null,
   "metadata": {},
   "outputs": [],
   "source": [
    "lista3=[]\n",
    "for item in tqdm(all_receipes):\n",
    "    rq4=requests.get(item)\n",
    "    soup4=BeautifulSoup(rq4.content)\n",
    "    modo_de_preparo=[item.text for item in soup4.find_all('li',attrs={'itemprop':'recipeInstructions'})]\n",
    "    modo_de_preparo=list(set(modo_de_preparo))\n",
    "    lista3.append(modo_de_preparo)\n",
    "df['modo de preparo']=lista3"
   ]
  },
  {
   "cell_type": "code",
   "execution_count": null,
   "metadata": {},
   "outputs": [],
   "source": [
    "df.head(3)"
   ]
  },
  {
   "cell_type": "markdown",
   "metadata": {},
   "source": [
    "## 3.5 Definindo orientações sobre a receita"
   ]
  },
  {
   "cell_type": "code",
   "execution_count": null,
   "metadata": {},
   "outputs": [],
   "source": [
    "soup"
   ]
  },
  {
   "cell_type": "code",
   "execution_count": null,
   "metadata": {},
   "outputs": [],
   "source": [
    "# só checando se o loop vai rolar - soup5.find_all('p',attr={'class':\"text text-quote quote-recipe text-medium text-upper\"})"
   ]
  },
  {
   "cell_type": "code",
   "execution_count": null,
   "metadata": {},
   "outputs": [],
   "source": [
    "tempo_de_espera=[]\n",
    "tempo_de_preparo=[]\n",
    "rendimento=[]\n",
    "tempo_de_cozimento=[]\n",
    "error=[]\n",
    "for item in tqdm(all_receipes):\n",
    "    \n",
    "    try:\n",
    "        rq5=requests.get(item)\n",
    "        soup5=BeautifulSoup(rq5.content)\n",
    "\n",
    "        orientaçoes_preparo=[item.text for item in soup5.find_all('span', attrs={'class':\"prepare-time\"})]\n",
    "        orientaçoes_preparo=list(set(orientaçoes_preparo))\n",
    "        tempo_de_preparo.append(orientaçoes_preparo)\n",
    "\n",
    "        orientaçoes_cozimento=[item.text for item in soup5.find_all('span', attrs={'class':\"cook-time\"})]\n",
    "        orientaçoes_cozimento=list(set(orientaçoes_cozimento))\n",
    "        tempo_de_cozimento.append(orientaçoes_cozimento)\n",
    "\n",
    "        orientaçoes_espera=[item.text for item in soup5.find_all('span', attrs={'class':\"wait-time\"})]\n",
    "        orientaçoes_espera=list(set(orientaçoes_espera))\n",
    "        tempo_de_espera.append(orientaçoes_espera)\n",
    "\n",
    "        orientaçoes_rendimento=[item.text for item in soup5.find_all('span', attrs={'class':\"rendiment\"})]\n",
    "        orientaçoes_rendimento=list(set(orientaçoes_rendimento))\n",
    "        rendimento.append(orientaçoes_rendimento)\n",
    "\n",
    "    except:\n",
    "        error.append(item)\n",
    "        \n",
    "df['tempo_de_preparo']=tempo_de_preparo\n",
    "df['tempo_de_cozimento']=tempo_de_cozimento\n",
    "df['tempo_de_espera']=tempo_de_espera\n",
    "df['rendimento']=rendimento"
   ]
  },
  {
   "cell_type": "markdown",
   "metadata": {},
   "source": [
    "### Criando as colunas Categorias"
   ]
  },
  {
   "cell_type": "code",
   "execution_count": null,
   "metadata": {},
   "outputs": [],
   "source": [
    "df['categorias']=df['sites'].apply(lambda x: buscar_dict(x))"
   ]
  },
  {
   "cell_type": "code",
   "execution_count": null,
   "metadata": {},
   "outputs": [],
   "source": [
    "df.shape"
   ]
  },
  {
   "cell_type": "markdown",
   "metadata": {},
   "source": [
    "## 4. Tratando as colunas"
   ]
  },
  {
   "cell_type": "markdown",
   "metadata": {},
   "source": [
    "### 4.1 Tempo de preparo"
   ]
  },
  {
   "cell_type": "code",
   "execution_count": null,
   "metadata": {},
   "outputs": [],
   "source": [
    "df['tempo_de_preparo'][0]"
   ]
  },
  {
   "cell_type": "code",
   "execution_count": null,
   "metadata": {},
   "outputs": [],
   "source": [
    "tdp=[item[0].strip() for item in df['tempo_de_preparo']]"
   ]
  },
  {
   "cell_type": "code",
   "execution_count": null,
   "metadata": {},
   "outputs": [],
   "source": [
    "df['tempo_de_preparo']"
   ]
  },
  {
   "cell_type": "code",
   "execution_count": null,
   "metadata": {},
   "outputs": [],
   "source": [
    "def h_min (x):\n",
    "    \n",
    "    '''Função pra converter tempo de horas pra min (caso o tempo esteja em horas.)\n",
    "       Se o tempo ja estiver em minutos, somente retornar o tempo.'''\n",
    "    \n",
    "    if 'horas' in x:\n",
    "        regex=re.findall('\\d+',x)\n",
    "        if len(regex)==1:\n",
    "            tempo=int(regex[0])\n",
    "            return str(tempo*60)+' minutos'\n",
    "        elif len(regex)==2:\n",
    "            tempo=int(regex[1])\n",
    "            return str(tempo*60)+' minutos'\n",
    "    else:\n",
    "        return x"
   ]
  },
  {
   "cell_type": "code",
   "execution_count": null,
   "metadata": {},
   "outputs": [],
   "source": [
    "df['tempo_de_preparo']=df['tempo_de_preparo'].apply(lambda x: h_min(x[0]))"
   ]
  },
  {
   "cell_type": "code",
   "execution_count": null,
   "metadata": {},
   "outputs": [],
   "source": [
    "pattern='\\d*'\n",
    "df['tempo_de_preparo_min']=[re.findall(pattern,item)[0] for item in tdp]"
   ]
  },
  {
   "cell_type": "code",
   "execution_count": null,
   "metadata": {},
   "outputs": [],
   "source": [
    "df['tempo_de_preparo_min']"
   ]
  },
  {
   "cell_type": "code",
   "execution_count": null,
   "metadata": {},
   "outputs": [],
   "source": [
    "df=df.drop(columns=['tempo_de_preparo'])"
   ]
  },
  {
   "cell_type": "markdown",
   "metadata": {},
   "source": [
    "### 4.2 Tempo de cozimento"
   ]
  },
  {
   "cell_type": "code",
   "execution_count": null,
   "metadata": {},
   "outputs": [],
   "source": [
    "df['tempo_de_cozimento']"
   ]
  },
  {
   "cell_type": "code",
   "execution_count": null,
   "metadata": {},
   "outputs": [],
   "source": [
    "df['tempo_de_cozimento']=df['tempo_de_cozimento'].apply(lambda x: h_min(x[0]))"
   ]
  },
  {
   "cell_type": "code",
   "execution_count": null,
   "metadata": {},
   "outputs": [],
   "source": [
    "#df['tempo_de_cozimento']=df['tempo_de_cozimento'].apply(lambda x:eval(x))"
   ]
  },
  {
   "cell_type": "code",
   "execution_count": null,
   "metadata": {},
   "outputs": [],
   "source": [
    "#definir tdc\n",
    "tdc=[item.strip() for item in df['tempo_de_cozimento']]"
   ]
  },
  {
   "cell_type": "code",
   "execution_count": null,
   "metadata": {},
   "outputs": [],
   "source": [
    "pattern='\\d*'\n",
    "df['tempo_de_cozimento_min']=[re.findall(pattern,item)[0] for item in tdc]"
   ]
  },
  {
   "cell_type": "code",
   "execution_count": null,
   "metadata": {},
   "outputs": [],
   "source": [
    "df['tempo_de_cozimento_min']"
   ]
  },
  {
   "cell_type": "code",
   "execution_count": null,
   "metadata": {},
   "outputs": [],
   "source": [
    "df=df.drop(columns=['tempo_de_cozimento'])"
   ]
  },
  {
   "cell_type": "markdown",
   "metadata": {},
   "source": [
    "## 4.4 Tempo de espera"
   ]
  },
  {
   "cell_type": "code",
   "execution_count": null,
   "metadata": {
    "scrolled": true
   },
   "outputs": [],
   "source": [
    "df['tempo_de_espera'].head()"
   ]
  },
  {
   "cell_type": "code",
   "execution_count": null,
   "metadata": {},
   "outputs": [],
   "source": [
    "df['tempo_de_espera']=df['tempo_de_espera'].apply(lambda x: h_min(x[0]))"
   ]
  },
  {
   "cell_type": "code",
   "execution_count": null,
   "metadata": {},
   "outputs": [],
   "source": [
    "df['tempo_de_espera'].head()"
   ]
  },
  {
   "cell_type": "code",
   "execution_count": null,
   "metadata": {},
   "outputs": [],
   "source": [
    "#df['tempo_de_espera'].apply(lambda x:eval(x))"
   ]
  },
  {
   "cell_type": "code",
   "execution_count": null,
   "metadata": {},
   "outputs": [],
   "source": [
    "tde = [item.strip() for item in df['tempo_de_espera']]"
   ]
  },
  {
   "cell_type": "code",
   "execution_count": null,
   "metadata": {},
   "outputs": [],
   "source": [
    "tde"
   ]
  },
  {
   "cell_type": "code",
   "execution_count": null,
   "metadata": {},
   "outputs": [],
   "source": [
    "pattern='\\d*'\n",
    "df['tempo_de_espera_min']=[re.findall(pattern,item)[0] for item in tde]"
   ]
  },
  {
   "cell_type": "code",
   "execution_count": null,
   "metadata": {},
   "outputs": [],
   "source": [
    "df=df.drop(columns=['tempo_de_espera'])"
   ]
  },
  {
   "cell_type": "code",
   "execution_count": null,
   "metadata": {},
   "outputs": [],
   "source": [
    "df.head(12)"
   ]
  },
  {
   "cell_type": "markdown",
   "metadata": {},
   "source": [
    "## 4.5 Rendimento"
   ]
  },
  {
   "cell_type": "code",
   "execution_count": null,
   "metadata": {},
   "outputs": [],
   "source": [
    "df['rendimento'][0]"
   ]
  },
  {
   "cell_type": "code",
   "execution_count": null,
   "metadata": {},
   "outputs": [],
   "source": [
    "df['rendimento']=[item[0] for item in df['rendimento']]"
   ]
  },
  {
   "cell_type": "code",
   "execution_count": null,
   "metadata": {},
   "outputs": [],
   "source": [
    "'''lissta=[]\n",
    "for item in df['rendimento']:\n",
    "    if item in lissta:\n",
    "        pass\n",
    "    else:\n",
    "        lissta.append(item)\n",
    "print(lissta)'''"
   ]
  },
  {
   "cell_type": "code",
   "execution_count": null,
   "metadata": {},
   "outputs": [],
   "source": [
    "'''rnp=[item[0].strip() for item in df['rendimento']]'''"
   ]
  },
  {
   "cell_type": "code",
   "execution_count": null,
   "metadata": {},
   "outputs": [],
   "source": [
    "'''pattern='\\d*'\n",
    "[re.findall(pattern,item)[0] for item in rnp]'''"
   ]
  },
  {
   "cell_type": "code",
   "execution_count": null,
   "metadata": {},
   "outputs": [],
   "source": [
    "'''df['rendimento_numero_pessoas']=rnp'''"
   ]
  },
  {
   "cell_type": "markdown",
   "metadata": {},
   "source": [
    "Obs. Percebi que rendimento nem sempre é para o numero de porções, mas também tem numeros de unidades, ou total de peso.\n",
    "Por conta disso, optei por não alterar esse dado dessa coluna."
   ]
  },
  {
   "cell_type": "markdown",
   "metadata": {},
   "source": [
    "## 5. Salvando df no pc para agilizar processos durante o projeto"
   ]
  },
  {
   "cell_type": "code",
   "execution_count": null,
   "metadata": {},
   "outputs": [],
   "source": [
    "df.to_csv('df_Projeto_Final_V1.csv')"
   ]
  },
  {
   "cell_type": "code",
   "execution_count": 2,
   "metadata": {},
   "outputs": [],
   "source": [
    "df=pd.read_csv('./df_Projeto_Final_v1.csv')"
   ]
  },
  {
   "cell_type": "code",
   "execution_count": null,
   "metadata": {},
   "outputs": [],
   "source": [
    "df.head(2)"
   ]
  },
  {
   "cell_type": "markdown",
   "metadata": {},
   "source": [
    "### 5.1 Tirando os acentos de todo o Data Frame"
   ]
  },
  {
   "cell_type": "code",
   "execution_count": null,
   "metadata": {},
   "outputs": [],
   "source": [
    "#! pip install unidecode"
   ]
  },
  {
   "cell_type": "code",
   "execution_count": null,
   "metadata": {},
   "outputs": [],
   "source": [
    "df=df.applymap(lambda x: unidecode(x) if type(x) == str else x)"
   ]
  },
  {
   "cell_type": "markdown",
   "metadata": {},
   "source": [
    "## Criando indices para as receitas"
   ]
  },
  {
   "cell_type": "code",
   "execution_count": null,
   "metadata": {},
   "outputs": [],
   "source": [
    "df.head()"
   ]
  },
  {
   "cell_type": "code",
   "execution_count": null,
   "metadata": {},
   "outputs": [],
   "source": [
    "df=df.rename(columns={'Unnamed: 0':'indice'})"
   ]
  },
  {
   "cell_type": "markdown",
   "metadata": {},
   "source": [
    "## Colocando o código pra funcionar"
   ]
  },
  {
   "cell_type": "code",
   "execution_count": 3,
   "metadata": {
    "scrolled": true
   },
   "outputs": [
    {
     "name": "stdout",
     "output_type": "stream",
     "text": [
      "\n",
      " ´  ´  ´  ´  ´  ´  ´  ´  ´  ´  ´  ´  ´  ´  ´  ´  ´  ´  ´  ´  ´  ´  ´  ´  ´  ´  ´  ´  ´  ´  ´  ´  ´  ´  ´  ´  ´  ´  ´  ´  \n",
      "~ - ~ - ~ - ~ - ~ - ~ - ~ - ~ -  Seja vem vindo ao site de receitas do Victor Jackman!  ~ - ~ - ~ - ~ - ~ - ~ - ~ - ~ -  \n",
      "\n",
      "- _ - _ - _ - _ - _ - _  Espero que encontre ótimas receitas, e que se divirta muito no processo! - _ - _ - _ - _ - _ - _  \n",
      "\n",
      "- _ - _ - _ - _  Não esquece de me dizer como ficou a receita, basta postar no insta usando @vijackman - _ - _ - _ - _  \n",
      "\n",
      "Antes de começar vale lembrar que esse site utiliza receitas do site da Dani Noce, que é uma confeiteira profissional que eu admiro muito! \n",
      "\n",
      "´  ´  ´  ´  ´  ´  ´  ´  ´  ´  ´  ´  ´  ´  ´  ´  ´  ´  ´  ´  ´  ´  ´  ´  ´  ´  ´  ´  ´  ´  ´  ´  ´  ´  ´  ´  ´  ´  ´  ´   \n",
      "\n",
      "Você quer buscar a receita pelo nome da receita [ 1 ] ou por ingrediente [ 2 ] ? 2\n",
      ".\n",
      "Digite o Ingrediente (letras minusculas e sem acentos):siciliano\n",
      "\n",
      " Receita  37 : _-_-_-_-_-_-_-_-_-_-_-_ Receita: bolo-mousse-de-chocolate-branco-com-sorvete \n",
      "\n",
      "\n",
      "\n",
      " Receita  179 : _-_-_-_-_-_-_-_-_-_-_-_ Receita: fondue-de-chocolate-com-bolo-de-limao \n",
      "\n",
      "\n",
      "\n",
      " Receita  242 : _-_-_-_-_-_-_-_-_-_-_-_ Receita: molho-branco-ao-limao-e-nozes \n",
      "\n",
      "\n",
      "\n",
      " Receita  286 : _-_-_-_-_-_-_-_-_-_-_-_ Receita: mini-pavlova-de-limao-siciliano-e-frutas-vermelhas \n",
      "\n",
      "\n",
      "\n",
      " Receita  313 : _-_-_-_-_-_-_-_-_-_-_-_ Receita: madeleines-sem-glutenlactose \n",
      "\n",
      "\n",
      "\n",
      " Receita  322 : _-_-_-_-_-_-_-_-_-_-_-_ Receita: cronuts-de-lavanda-e-limao-siciliano \n",
      "\n",
      "\n",
      "\n",
      " Receita  361 : _-_-_-_-_-_-_-_-_-_-_-_ Receita: fatias-de-limao-em-calda \n",
      "\n",
      "\n",
      "\n",
      " Receita  363 : _-_-_-_-_-_-_-_-_-_-_-_ Receita: soufflee-de-limao-sem-glutenleite \n",
      "\n",
      "\n",
      "\n",
      " Receita  365 : _-_-_-_-_-_-_-_-_-_-_-_ Receita: brulee-de-papaya \n",
      "\n",
      "\n",
      "\n",
      " Receita  375 : _-_-_-_-_-_-_-_-_-_-_-_ Receita: fondue-de-chocolate-com-bolo-de-limao \n",
      "\n",
      "\n",
      "\n",
      " Receita  394 : _-_-_-_-_-_-_-_-_-_-_-_ Receita: mini-baked-alaska-de-frutas-vermelhas \n",
      "\n",
      "\n",
      "\n",
      " Receita  424 : _-_-_-_-_-_-_-_-_-_-_-_ Receita: torta-mousse-de-limao-com-creme-au-citron \n",
      "\n",
      "\n",
      "\n",
      " Receita  436 : _-_-_-_-_-_-_-_-_-_-_-_ Receita: torta-de-morango \n",
      "\n",
      "\n",
      "\n",
      " Receita  437 : _-_-_-_-_-_-_-_-_-_-_-_ Receita: tortinha-de-frutas-frescas \n",
      "\n",
      "\n",
      "\n",
      " Receita  446 : _-_-_-_-_-_-_-_-_-_-_-_ Receita: torta-de-limao \n",
      "\n",
      "\n",
      "\n",
      " Receita  455 : _-_-_-_-_-_-_-_-_-_-_-_ Receita: tortinhas-de-lemon-curd \n",
      "\n",
      "\n",
      "\n",
      " Receita  530 : _-_-_-_-_-_-_-_-_-_-_-_ Receita: picole-de-ruibarbo-baunilha-e-kirsch \n",
      "\n",
      "\n",
      "\n",
      " Receita  541 : _-_-_-_-_-_-_-_-_-_-_-_ Receita: bolo-mousse-de-chocolate-branco-com-sorvete \n",
      "\n",
      "\n",
      "\n",
      " Receita  548 : _-_-_-_-_-_-_-_-_-_-_-_ Receita: picole-cremoso-de-limao-siciliano \n",
      "\n",
      "\n",
      "\n",
      " Receita  550 : _-_-_-_-_-_-_-_-_-_-_-_ Receita: bolo-sorvete-de-limao \n",
      "\n",
      "\n",
      "\n",
      " Receita  559 : _-_-_-_-_-_-_-_-_-_-_-_ Receita: bolo-de-amendoas-e-limao-com-sorvete-aka-gato-de-almendras-bolo-sem-gluten \n",
      "\n",
      "\n",
      "\n",
      " Receita  568 : _-_-_-_-_-_-_-_-_-_-_-_ Receita: muffin-de-amora-com-crumble-de-aveia-sem-glutenleite \n",
      "\n",
      "\n",
      "\n",
      " Receita  584 : _-_-_-_-_-_-_-_-_-_-_-_ Receita: panquecas-fofinhas-para-o-cafe-da-manha \n",
      "\n",
      "\n",
      "\n",
      " Receita  614 : _-_-_-_-_-_-_-_-_-_-_-_ Receita: cheesecake-de-cereja \n",
      "\n",
      "\n",
      "\n",
      " Receita  618 : _-_-_-_-_-_-_-_-_-_-_-_ Receita: cheesecake-duplo-sem-assar-de-limao-com-gengibre-e-amora \n",
      "\n",
      "\n",
      "\n",
      " Receita  641 : _-_-_-_-_-_-_-_-_-_-_-_ Receita: bolo-mousse-de-chocolate-branco-com-sorvete \n",
      "\n",
      "\n",
      "\n",
      " Receita  642 : _-_-_-_-_-_-_-_-_-_-_-_ Receita: bolo-de-laranja-com-calda-de-limao-e-lavanda \n",
      "\n",
      "\n",
      "\n",
      " Receita  759 : _-_-_-_-_-_-_-_-_-_-_-_ Receita: bolo-de-amendoas-e-limao-com-sorvete-aka-gato-de-almendras-bolo-sem-gluten \n",
      "\n",
      "\n",
      "\n",
      " Receita  771 : _-_-_-_-_-_-_-_-_-_-_-_ Receita: fondue-de-chocolate-com-bolo-de-limao \n",
      "\n",
      "\n",
      "\n",
      " Receita  783 : _-_-_-_-_-_-_-_-_-_-_-_ Receita: bolo-chiffon-de-limao-sem-glutenleite \n",
      "\n",
      "\n",
      "\n",
      " Receita  790 : _-_-_-_-_-_-_-_-_-_-_-_ Receita: bolo-sorvete-de-limao \n",
      "\n",
      "\n",
      "\n",
      " Receita  825 : _-_-_-_-_-_-_-_-_-_-_-_ Receita: brigadeiro-de-caipirinha \n",
      "\n",
      "\n",
      "\n",
      " Receita  859 : _-_-_-_-_-_-_-_-_-_-_-_ Receita: soufflee-de-limao-sem-glutenleite \n",
      "\n",
      "\n",
      "\n",
      " Receita  871 : _-_-_-_-_-_-_-_-_-_-_-_ Receita: madeleines-sem-glutenlactose \n",
      "\n",
      "\n",
      "\n",
      " Receita  883 : _-_-_-_-_-_-_-_-_-_-_-_ Receita: bolo-chiffon-de-limao-sem-glutenleite \n",
      "\n",
      "\n",
      "\n",
      " Receita  903 : _-_-_-_-_-_-_-_-_-_-_-_ Receita: muffin-de-amora-com-crumble-de-aveia-sem-glutenleite \n",
      "\n",
      "\n",
      "\n",
      " Receita  937 : _-_-_-_-_-_-_-_-_-_-_-_ Receita: biscoito-instagram \n",
      "\n",
      "\n",
      "\n",
      " Receita  938 : _-_-_-_-_-_-_-_-_-_-_-_ Receita: biscoito-de-canela-dani-noce \n",
      "\n",
      "\n",
      "\n",
      " Receita  942 : _-_-_-_-_-_-_-_-_-_-_-_ Receita: biscoito-casadinho \n",
      "\n",
      "\n",
      "\n",
      " Receita  967 : _-_-_-_-_-_-_-_-_-_-_-_ Receita: pudim-do-conde \n",
      "\n",
      "\n",
      "\n",
      " Receita  968 : _-_-_-_-_-_-_-_-_-_-_-_ Receita: soufflee-de-limao-sem-glutenleite \n",
      "\n",
      "\n",
      "\n",
      " Receita  1030 : _-_-_-_-_-_-_-_-_-_-_-_ Receita: brigadeiro-de-caipirinha \n",
      "\n",
      "\n",
      "\n",
      " Receita  1053 : _-_-_-_-_-_-_-_-_-_-_-_ Receita: brigadeiro-torta-de-limao \n",
      "\n",
      "\n",
      "\n",
      " Receita  1069 : _-_-_-_-_-_-_-_-_-_-_-_ Receita: cupcake-de-morango-e-rosas \n",
      "\n",
      "\n",
      "\n",
      " Receita  1095 : _-_-_-_-_-_-_-_-_-_-_-_ Receita: cupcake-de-baunilha-com-lemon-curd \n",
      "\n",
      "\n",
      "\n",
      " Receita  1108 : _-_-_-_-_-_-_-_-_-_-_-_ Receita: massa-para-cupcake-ou-bolo-de-baunilha \n",
      "\n",
      "\n",
      "\n",
      " Receita  1130 : _-_-_-_-_-_-_-_-_-_-_-_ Receita: brulee-de-papaya \n",
      "\n",
      "\n",
      "\n",
      " Receita  1139 : _-_-_-_-_-_-_-_-_-_-_-_ Receita: griottines \n",
      "\n",
      "\n",
      "\n",
      " Receita  1154 : _-_-_-_-_-_-_-_-_-_-_-_ Receita: compota-de-framboesa-recheio \n",
      "\n",
      "\n",
      "\n",
      " Receita  1162 : _-_-_-_-_-_-_-_-_-_-_-_ Receita: fatias-de-limao-em-calda \n",
      "\n",
      "\n",
      "\n",
      " Receita  1167 : _-_-_-_-_-_-_-_-_-_-_-_ Receita: compota-de-framboesa-recheio \n",
      "\n",
      "\n",
      "\n",
      " Receita  1177 : _-_-_-_-_-_-_-_-_-_-_-_ Receita: lemon-curd-creme-de-limao \n",
      "\n",
      "\n",
      "\n",
      " Receita  1248 : _-_-_-_-_-_-_-_-_-_-_-_ Receita: wake-up-juice-ickfd \n",
      "\n",
      "\n",
      "\n",
      " Receita  1263 : _-_-_-_-_-_-_-_-_-_-_-_ Receita: drink-sua-mae \n",
      "\n",
      "\n",
      "\n",
      " Receita  1287 : _-_-_-_-_-_-_-_-_-_-_-_ Receita: chazinho \n",
      "\n",
      "\n",
      "\n",
      " Receita  1304 : _-_-_-_-_-_-_-_-_-_-_-_ Receita: pink-lemonade \n",
      "\n",
      "\n",
      "\n",
      " Receita  1326 : _-_-_-_-_-_-_-_-_-_-_-_ Receita: mini-abobora-recheada-com-quinua-e-camarao \n",
      "\n",
      "\n",
      "\n",
      " Receita  1333 : _-_-_-_-_-_-_-_-_-_-_-_ Receita: macarrao-com-cogumelos-e-aspargos \n",
      "\n",
      "\n",
      "\n",
      " Receita  1363 : _-_-_-_-_-_-_-_-_-_-_-_ Receita: fettuccine-facil \n",
      "\n",
      "\n",
      "\n",
      " Receita  1428 : _-_-_-_-_-_-_-_-_-_-_-_ Receita: torta-mousse-de-limao-com-creme-au-citron \n",
      "\n",
      "\n",
      "\n",
      " Receita  1445 : _-_-_-_-_-_-_-_-_-_-_-_ Receita: mousse-de-mascarpone-brulee-com-morangos-marinados \n",
      "\n",
      "\n",
      "\n",
      " - - - - - - - - - - - - - - - - - - - - - -\n",
      "Foram encontradas  61  receitas!\n",
      "- - - - - - - - - - - - - - - - - - - - - -\n",
      "Selecione uma receita (numero do indice): 1445\n",
      "- - - - - - - - - - - - - - - - - - - - - -\n",
      "\n",
      "\n",
      " -_-_-_-_-_-_-_-_-_-_-_-_-_-_-_-_-_- Receita  mousse-de-mascarpone-brulee-com-morangos-marinados : -_-_-_-_-_-_-_-_-_-_-_-_-_-_-_-_ \n",
      "\n",
      "Categoria:  mousse \n",
      "\n",
      "Tempo de preparo: 20.0 minutos\n",
      "Tempo de espera: 120.0 minutos\n",
      "Tempo de cozimento: 0.0 minutos\n",
      "Rendimento: 3 pessoas \n",
      "\n",
      "Ingredientes \n",
      " 2 colheres de sopa de cointreau, 250 gramas de mascarpone, 1 fava de baunilha, 200 gramas de morango picados, suco de 1/2 limao siciliano, 1/3 de xicara de acucar refinado, 150 gramas de creme de leite fresco em ponto de chantili, 2 colheres de sopa de acucar refinado, 1 colher de cha de reducao de vinagre balsamico, as raspas de 1 limao siciliano \n",
      "\n",
      "Modo de preparo \n",
      " ['Junte o creme de leite fresco, o acucar, o cointreau e as sementes da fava de baunilha e bata ate estar quase em ponto de chantili.', 'Coloque um pouco dos morangos no fundo dos potinhos.', 'Adicione o mascarpone e bata mais ate que fique na consistencia de uma mousse.', 'Quando for servir, coloque no congelador por 30 minutos para poder fazer o brulee.', 'Preencha os potinhos com a mousse e leve para a geladeira por 30 minutos.', 'Misture todos os ingredientes em uma cumbuca, mexa e reserve.', 'Para o brulee voce joga um pouco de acucar cristal por cima da mousse em todo o potinho e queime com um macarico ou uma colher bem quente. Esta pronto!', 'Tire o maximo de liquido que formou dos morangos e reserve este liquido para fazer um drink delicioso*.', 'Depois cubra com a mousse de mascarpone.'] \n",
      "\n",
      "\n",
      "\n",
      " Outras receitas que você também pode se interessar:  \n",
      "\n",
      "1435 - _  - _  - _ mousse-pop-de-chocolate-branco-do-ickfd \n",
      "\n",
      "1438 - _  - _  - _ mousse-de-chocolate-facil-em-20-minutos \n",
      "\n",
      "1439 - _  - _  - _ mousse-de-maracuja-low-carb \n",
      "\n",
      "Selecione uma receita (numero do indice) ou 0 para encerrar: 0\n",
      "\n",
      "\n",
      " -_-_-_-_-_-_-_-_-_-_-_-_-_-_-_-_-_- Receita  nougat-de-chocolate-do-chef-christophe-rhedon : -_-_-_-_-_-_-_-_-_-_-_-_-_-_-_-_ \n",
      "\n",
      "\n",
      " Categoria:  nougat-marshmallow \n",
      "\n",
      "Tempo de preparo: 20.0 minutos\n",
      "Tempo de espera: 0.0 minutos\n",
      "Tempo de cozimento: 0.0 minutos\n",
      "Rendimento: 15 pessoas \n",
      "\n",
      "Ingredientes \n",
      " 310 gramas de acucar, 90 gramas de glucose, 380 gramas de mel em ponto anterior a ebulicao, 30 gramas de acucar de confeiteiro para polvilhar, 200 gramas de pistache, 30 gramas de amido de milho para polvilhar, 300 gramas de amendoas torradas, 120 gramas de agua, 260 gramas de cacau em barra 100%, 100 gramas de claras de ovos \n",
      "\n",
      "Modo de preparo \n",
      " ['Quando o termometro dentro da panela de acucar atingir 130degC, o mel devera estar em ponto anterior a ebulicao. Jogue o mel por cima da calda de acucar. Deixe que essa mistura atinja 170degC.', 'Quando a mistura de acucar estiver por volta de 145degC, comece a bater as claras. As claras devem dobrar de volume, mas nao podem ficar duras, portanto bata em velocidade media e assim que perceber que elas dobraram de volume, diminua a velocidade da batedeira.', 'Coloque o mel para esquentar.', 'No bowl da batedeira coloque as claras.', 'Em uma xicara molhada com agua, separe a glucose.', 'Para saber se a massa esta no ponto certo, pegue uma xicara com agua e gelo e coloque um pedacinho da massa dentro. Se formar uma bolinha levemente dura, quase como uma bala-puxa, e porque a massa esta pronta.', 'Ao terminar de derramar toda a calda, troque o modulo fouet da batedeira pelo modulo da raquete. Diminua a velocidade da batedeira para media, pegue o macarico e va passando em torno do bowl por aproximadamente 8 a 10 minutos, para que a agua da massa evapore.', 'Deixe esfriar e esta pronto!!', 'Quando a calda de acucar chegar a 170degC, aumente a velocidade da batedeira para maxima e va derramando a calda aos pouquinhos por cima das claras.', 'Em uma panela media coloque o mel. Reserve.', 'Em uma panela grande coloque o acucar e por cima a agua. Reserve.', 'Jogue as amendoas e os pistaches (mornos) por cima da massa tambem. Esses ingredientes precisam estar mornos para nao endurecer a massa.', 'Coloque a agua com o acucar para esquentar no fogo. Nao mexa. Assim que ferver adicione a glucose. Coloque o termometro dentro da panela.', 'Comece separando cada ingrediente em seu devido recipiente. Nao comece a receita sem antes fazer isso, pois muitas preparacoes acontecem ao mesmo tempo:', 'Na bancada polvilhada com acucar de confeiteiro e amido de milho, coloque a massa do nougat e com as maos alise. Forme um quadrado de 2 cm de altura por aproximadamente 20X20 cm.', 'Polvilhe uma bancada de superficie lisa com o amido de milho e o acucar misturados.', 'Em uma forma, coloque as amendoas e leve ao forno pre-aquecido a 220degC por 15 minutos, ou ate que estejam tostadas. Desligue o forno, coloque os pistaches por cima das amendoas e deixe a forma dentro do forno.', 'Com uma faca de chef bem afiada, corte o nougat em barras de 7X2 cm.', 'Entao jogue o chocolate derretido e morno por cima da massa ainda batendo com a batedeira. Deixe misturar.', 'Em uma tigela refrataria coloque o cacau em barra e leve para derreter no microondas. Nao se esqueca de tirar de 30 em 30 segundos e mexer vigorosamente para ele nao queimar.'] \n",
      "\n",
      "\n"
     ]
    },
    {
     "name": "stdout",
     "output_type": "stream",
     "text": [
      "\n",
      " Outras receitas que você também pode se interessar:  \n",
      "\n",
      "3 - _  - _  - _ marshmallow-de-baunilha-e-menta \n",
      "\n",
      "1 - _  - _  - _ marshmallow-caseiro \n",
      "\n",
      "2 - _  - _  - _ nha-benta \n",
      "\n",
      "Selecione uma receita (numero do indice) ou 0 para encerrar: 0\n",
      "\n",
      "\n",
      " ~ - ~ - ~ - ~ - ~ - ~ - ~ - ~ - ~ - ~ - ~ - ~ - ~ - ~ - ~ - ~ - ~ - ~ - ~ - ~ - ~ - ~ - ~ - ~ - ~ - ~ - ~ - ~ - ~ - ~ - \n",
      "                               Obrigado por usar o meu site lindo de receitas! :p \n",
      "~ - ~ - ~ - ~ - ~ - ~ - ~ - ~ - ~ - ~ - ~ - ~ - ~ - ~ - ~ - ~ - ~ - ~ - ~ - ~ - ~ - ~ - ~ - ~ - ~ - ~ - ~ - ~ - ~ - ~ -  \n",
      "\n",
      "\n"
     ]
    }
   ],
   "source": [
    "count = 0\n",
    "index = []\n",
    "variavel_2 = 1\n",
    "busca=0\n",
    "ingrediente_1=1\n",
    "print('\\n','´  ´  '*20)\n",
    "print(('~ - '*8),'Seja vem vindo ao site de receitas do Victor Jackman! ',('~ - '*8),'\\n')\n",
    "sleep(2)\n",
    "print(('- _ '*6),'Espero que encontre ótimas receitas, e que se divirta muito no processo!',('- _ '*6),'\\n')\n",
    "sleep(2)\n",
    "print(('- _ '*4),'Não esquece de me dizer como ficou a receita, basta postar no insta usando @vijackman',('- _ '*4),'\\n')\n",
    "sleep(2)\n",
    "print('Antes de começar vale lembrar que esse site utiliza receitas do site da Dani Noce, que é uma confeiteira profissional que eu admiro muito!','\\n')\n",
    "sleep(2)\n",
    "print('´  ´  '*20,'\\n')\n",
    "while variavel_2 > 0:\n",
    "    if busca != 2:\n",
    "        busca=int(input('Você quer buscar a receita pelo nome da receita [ 1 ] ou por ingrediente [ 2 ] ? '))\n",
    "    if busca == 2:\n",
    "        print('.')\n",
    "        if ingrediente_1 == 1:\n",
    "            ingrediente_1=str(input('Digite o Ingrediente (letras minusculas e sem acentos):'))\n",
    "        \n",
    "            for i in range(len(df['ingredientes'])):\n",
    "                if ingrediente_1 in df['ingredientes'][i]:\n",
    "                    count += 1\n",
    "                    index.append(i)\n",
    "                    print('\\n','Receita ',df.loc[i,'indice'],': _-_-_-_-_-_-_-_-_-_-_-_','Receita:',df['nome'][i],'\\n\\n')\n",
    "\n",
    "            if ingrediente_1 not in df['ingredientes'][i] and count ==0:\n",
    "                    print('Não localizei nenhuma receita com esse ingrediente, tente novamente: ')\n",
    "                    ingrediente_1=str(input('Digite o Ingrediente (letras minusculas e sem acentos): '))\n",
    "\n",
    "            print('\\n','- - - - - - - - - - - - - - - - - - - - - -')        \n",
    "            print('Foram encontradas ',count,' receitas!')\n",
    "            print('- - - - - - - - - - - - - - - - - - - - - -')\n",
    "            variavel=int(input('Selecione uma receita (numero do indice): '))\n",
    "            print('- - - - - - - - - - - - - - - - - - - - - -') \n",
    "\n",
    "\n",
    "            if variavel == df['indice'][variavel]:\n",
    "                print('\\n\\n','-_-_-_-_-_-_-_-_-_-_-_-_-_-_-_-_-_- Receita ',df.loc[variavel,'nome'],': -_-_-_-_-_-_-_-_-_-_-_-_-_-_-_-_','\\n')\n",
    "        \n",
    "                print('Categoria: ',df['categorias'][variavel],'\\n')  \n",
    "                print('Tempo de preparo:',df['tempo_de_preparo_min'][variavel],'minutos')\n",
    "                print('Tempo de espera:',df['tempo_de_espera_min'][variavel],'minutos')\n",
    "                print('Tempo de cozimento:',df['tempo_de_cozimento_min'][variavel],'minutos')\n",
    "                print('Rendimento:',df['rendimento'][variavel],'\\n')\n",
    "\n",
    "                print('Ingredientes','\\n',df['ingredientes'][variavel],'\\n')\n",
    "                print('Modo de preparo','\\n',df['modo de preparo'][variavel],'\\n\\n')\n",
    "\n",
    "                sleep(5)\n",
    "\n",
    "                mask=((df['categorias']==df['categorias'][variavel]) & (df['nome'] != df['nome'][variavel]))\n",
    "\n",
    "                print('\\n','Outras receitas que você também pode se interessar: ','\\n')\n",
    "\n",
    "                passo_1 = df[mask]['nome'] \n",
    "                passo_2 = passo_1.sample(3)\n",
    "                sugestoes = list(passo_2)\n",
    "\n",
    "                lista_recomendada = list(passo_2.index)\n",
    "\n",
    "                print(lista_recomendada[0],'- _  - _  - _',sugestoes[0],'\\n')\n",
    "                print(lista_recomendada[1],'- _  - _  - _',sugestoes[1],'\\n')\n",
    "                print(lista_recomendada[2],'- _  - _  - _',sugestoes[2],'\\n')\n",
    "\n",
    "                variavel_2 = int(input('Selecione uma receita (numero do indice) ou 0 para encerrar: '))\n",
    "\n",
    "                if variavel_2 == df['indice'][variavel_2]:\n",
    "\n",
    "                    print('\\n\\n','-_-_-_-_-_-_-_-_-_-_-_-_-_-_-_-_-_- Receita ',df.loc[variavel_2,'nome'],': -_-_-_-_-_-_-_-_-_-_-_-_-_-_-_-_','\\n')\n",
    "\n",
    "                    print('\\n','Categoria: ',df['categorias'][variavel_2],'\\n')  \n",
    "                    print('Tempo de preparo:',df['tempo_de_preparo_min'][variavel_2],'minutos')\n",
    "                    print('Tempo de espera:',df['tempo_de_espera_min'][variavel_2],'minutos')\n",
    "                    print('Tempo de cozimento:',df['tempo_de_cozimento_min'][variavel_2],'minutos')\n",
    "                    print('Rendimento:',df['rendimento'][variavel_2],'\\n')\n",
    "\n",
    "                    print('Ingredientes','\\n',df['ingredientes'][variavel_2],'\\n')\n",
    "                    print('Modo de preparo','\\n',df['modo de preparo'][variavel_2],'\\n\\n')\n",
    "\n",
    "                    sleep(5)\n",
    "\n",
    "                    mask=((df['categorias']==df['categorias'][variavel_2]) & (df['nome'] != df['nome'][variavel_2]))\n",
    "\n",
    "                    print('\\n','Outras receitas que você também pode se interessar: ','\\n')\n",
    "\n",
    "                    passo_1 = df[mask]['nome']\n",
    "                    passo_2 = passo_1.sample(3)\n",
    "                    sugestoes = list(passo_2)\n",
    "\n",
    "                    lista_recomendada = list(passo_2.index)\n",
    "\n",
    "                    print(lista_recomendada[0],'- _  - _  - _',sugestoes[0],'\\n')\n",
    "                    print(lista_recomendada[1],'- _  - _  - _',sugestoes[1],'\\n')\n",
    "                    print(lista_recomendada[2],'- _  - _  - _',sugestoes[2],'\\n')\n",
    "\n",
    "                    variavel_2 = int(input('Selecione uma receita (numero do indice) ou 0 para encerrar: '))\n",
    "\n",
    "            else:\n",
    "                variavel_2=int(input('Não localizei esse ingrediente. Tente novamente : '))\n",
    "\n",
    "    elif busca == 1:\n",
    "        nome_da_receita=str(input('Digite o nome da receita (letras minusculas e sem acento): '))\n",
    "        for n in range(len(df['ingredientes'])):\n",
    "            if nome_da_receita in df['nome'][n]:\n",
    "                count += 1\n",
    "                index.append(n)\n",
    "                print(' Receita ',df.loc[n,'indice'],': _-_-_-_-_-_-_-_-_-_-_-_','Receita:',df['nome'][n],'\\n\\n')\n",
    "\n",
    "        if nome_da_receita not in df['nome'][n] and count == 0:\n",
    "            print('Não localizei nenhuma receita com esse nome, tente novamente: ')\n",
    "            nome_da_receita = str(input('Digite o nome da receita (letras minusculas e sem acentos):'))\n",
    "\n",
    "        print('- - - - - - - - - - - - - - - - - - - - - -')        \n",
    "        print('Foram encontradas ',count,' receitas!')\n",
    "        print('- - - - - - - - - - - - - - - - - - - - - -')\n",
    "        variavel_2 = int(input('Selecione uma receita (numero do indice): '))\n",
    "        print('- - - - - - - - - - - - - - - - - - - - - -')         \n",
    "        \n",
    "        if variavel_2 == df['indice'][variavel_2]:\n",
    "\n",
    "            print('Categoria: ',df['categorias'][variavel_2])  \n",
    "            print('Tempo de preparo:',df['tempo_de_preparo_min'][variavel_2],'minutos')\n",
    "            print('Tempo de espera:',df['tempo_de_espera_min'][variavel_2],'minutos')\n",
    "            print('Tempo de cozimento:',df['tempo_de_cozimento_min'][variavel_2],'minutos')\n",
    "            print('Rendimento:',df['rendimento'][variavel_2],'\\n')\n",
    "\n",
    "            print('Ingredientes','\\n',df['ingredientes'][variavel_2],'\\n')\n",
    "            print('Modo de preparo','\\n',df['modo de preparo'][variavel_2],'\\n')\n",
    "\n",
    "            sleep(5)\n",
    "\n",
    "            mask=((df['categorias']==df['categorias'][variavel_2]) & (df['nome'] != df['nome'][variavel_2]))\n",
    "\n",
    "            print('\\n',('~ - '*8),'Outras receitas que você também pode se interessar: ',('~ - '*8),'\\n')\n",
    "\n",
    "            passo_1 = df[mask]['nome']\n",
    "            passo_2 = passo_1.sample(3)\n",
    "            sugestoes = list(passo_2)\n",
    "\n",
    "            lista_recomendada = list(passo_2.index)\n",
    "\n",
    "            print(lista_recomendada[0],'- _  - _  - _',sugestoes[0],'\\n')\n",
    "            print(lista_recomendada[1],'- _  - _  - _',sugestoes[1],'\\n')\n",
    "            print(lista_recomendada[2],'- _  - _  - _',sugestoes[2],'\\n')\n",
    "\n",
    "            variavel_2 = int(input('Selecione uma receita (numero do indice) ou 0 para encerrar: '))\n",
    "        \n",
    "        else:\n",
    "            variavel_2 = int(input('Não tem essa opção, tente novamente (digite pelo numero do indice): '))\n",
    "            \n",
    "    else:\n",
    "        busca=int(input('Não existe essa opção, tente novamente: nome da receita [ 1 ] ou por ingrediente [ 2 ] '))\n",
    "\n",
    "print('\\n\\n','~ - '*30)\n",
    "print((' '*30),'Obrigado por usar o meu site lindo de receitas! :p ')\n",
    "print('~ - '*30,'\\n\\n')"
   ]
  },
  {
   "cell_type": "code",
   "execution_count": null,
   "metadata": {},
   "outputs": [],
   "source": [
    "df['nome'][0]"
   ]
  },
  {
   "cell_type": "code",
   "execution_count": null,
   "metadata": {},
   "outputs": [],
   "source": [
    "if 'chocolate' in df['nome'][0]:\n",
    "    print(1)"
   ]
  },
  {
   "cell_type": "code",
   "execution_count": null,
   "metadata": {},
   "outputs": [],
   "source": []
  },
  {
   "cell_type": "markdown",
   "metadata": {},
   "source": [
    "## Criar um sistema de recomendação"
   ]
  },
  {
   "cell_type": "code",
   "execution_count": null,
   "metadata": {},
   "outputs": [],
   "source": [
    "# colocado no codigo acima! \n",
    "\n",
    "'''mask=((df['categorias']==df['categorias'][variavel]) & (df['nome'] != df['nome'][variavel]))\n",
    "\n",
    "    print('\\n\\n','Outras receitas que você também pode se interessar: ','\\n')\n",
    "\n",
    "    passo_1 = df[mask]['nome']\n",
    "    passo_2 = passo_1.sample(3)\n",
    "    passo_3 = list(passo_2)\n",
    "    \n",
    "\n",
    "    print('Receita 1: ','\\n')\n",
    "\n",
    "    print('Receita 2: ','\\n')\n",
    "\n",
    "print('Receita 3: ','\\n')'''"
   ]
  },
  {
   "cell_type": "code",
   "execution_count": null,
   "metadata": {},
   "outputs": [],
   "source": [
    "\n"
   ]
  },
  {
   "cell_type": "markdown",
   "metadata": {},
   "source": [
    "## Deploy"
   ]
  },
  {
   "cell_type": "code",
   "execution_count": null,
   "metadata": {},
   "outputs": [],
   "source": [
    "#! pip install streamlit"
   ]
  },
  {
   "cell_type": "code",
   "execution_count": null,
   "metadata": {},
   "outputs": [],
   "source": [
    "# Feito nos arquivos no pc pra transferir a funcionalidade do codigo para uma pagina"
   ]
  },
  {
   "cell_type": "code",
   "execution_count": null,
   "metadata": {},
   "outputs": [],
   "source": []
  },
  {
   "cell_type": "markdown",
   "metadata": {},
   "source": [
    "## Coisas que ficaram pra ser resolvidas"
   ]
  },
  {
   "cell_type": "markdown",
   "metadata": {},
   "source": [
    "1. Categoria gelatina só tem 3 receitas na categoria, por isso, quando ela vai sugerir, elasó tem 2 pra fazer sugestão. \n",
    "Como eu peço 3 sugestões,acaba dando erro. "
   ]
  },
  {
   "cell_type": "markdown",
   "metadata": {},
   "source": [
    "2. depois que coloco o numero da sugestão no variavel_2 ele tras a mesma receita que solicitei.todos os dados (categoria, orientações, ingredientes e modo de preparo)"
   ]
  },
  {
   "cell_type": "markdown",
   "metadata": {},
   "source": [
    "3. Da primeira vez que mostra as sugestões (seguindo o caminho 2, caso eu digite 0, ele não encerra o app, mas na segunda vez q ele mostra sugestões, ai funciona normal.)"
   ]
  },
  {
   "cell_type": "markdown",
   "metadata": {},
   "source": [
    "## Coisas que posso agregar no projeto"
   ]
  },
  {
   "cell_type": "markdown",
   "metadata": {},
   "source": [
    "1. Agregar novos sites de receitas no df pra ter um banco de dados maior"
   ]
  },
  {
   "cell_type": "markdown",
   "metadata": {},
   "source": [
    "2. agregar um sistema que faz o calculo de valor de cada item usado nas receitas, e incluir o custo total aproximado da receita no código."
   ]
  },
  {
   "cell_type": "markdown",
   "metadata": {},
   "source": [
    "3. Colocar 3 ingredientes ao invés de 1 só"
   ]
  },
  {
   "cell_type": "markdown",
   "metadata": {},
   "source": [
    "4. Enfeitar mais o Deploy"
   ]
  },
  {
   "cell_type": "code",
   "execution_count": null,
   "metadata": {},
   "outputs": [],
   "source": []
  }
 ],
 "metadata": {
  "kernelspec": {
   "display_name": "Python 3",
   "language": "python",
   "name": "python3"
  },
  "language_info": {
   "codemirror_mode": {
    "name": "ipython",
    "version": 3
   },
   "file_extension": ".py",
   "mimetype": "text/x-python",
   "name": "python",
   "nbconvert_exporter": "python",
   "pygments_lexer": "ipython3",
   "version": "3.7.6"
  }
 },
 "nbformat": 4,
 "nbformat_minor": 4
}
