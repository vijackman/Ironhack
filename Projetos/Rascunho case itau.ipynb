{
 "cells": [
  {
   "cell_type": "markdown",
   "metadata": {},
   "source": [
    "# Case Itau Rascunho"
   ]
  },
  {
   "cell_type": "markdown",
   "metadata": {},
   "source": [
    "## 1. Importar bibliotecas"
   ]
  },
  {
   "cell_type": "code",
   "execution_count": 1,
   "metadata": {},
   "outputs": [],
   "source": [
    "%matplotlib inline\n",
    "import matplotlib.pyplot as plt\n",
    "import pandas as pd\n",
    "import numpy as np"
   ]
  },
  {
   "cell_type": "markdown",
   "metadata": {},
   "source": [
    "## 2. Importar arquivos"
   ]
  },
  {
   "cell_type": "code",
   "execution_count": 10,
   "metadata": {},
   "outputs": [
    {
     "data": {
      "text/html": [
       "<div>\n",
       "<style scoped>\n",
       "    .dataframe tbody tr th:only-of-type {\n",
       "        vertical-align: middle;\n",
       "    }\n",
       "\n",
       "    .dataframe tbody tr th {\n",
       "        vertical-align: top;\n",
       "    }\n",
       "\n",
       "    .dataframe thead th {\n",
       "        text-align: right;\n",
       "    }\n",
       "</style>\n",
       "<table border=\"1\" class=\"dataframe\">\n",
       "  <thead>\n",
       "    <tr style=\"text-align: right;\">\n",
       "      <th></th>\n",
       "      <th>date</th>\n",
       "      <th>location</th>\n",
       "      <th>mintemp</th>\n",
       "      <th>maxtemp</th>\n",
       "      <th>rainfall</th>\n",
       "      <th>evaporation</th>\n",
       "      <th>sunshine</th>\n",
       "      <th>humidity9am</th>\n",
       "      <th>humidity3pm</th>\n",
       "      <th>pressure9am</th>\n",
       "      <th>...</th>\n",
       "      <th>temp9am</th>\n",
       "      <th>temp3pm</th>\n",
       "      <th>raintoday</th>\n",
       "      <th>amountOfRain</th>\n",
       "      <th>raintomorrow</th>\n",
       "      <th>temp</th>\n",
       "      <th>humidity</th>\n",
       "      <th>precipitation3pm</th>\n",
       "      <th>precipitation9am</th>\n",
       "      <th>modelo_vigente</th>\n",
       "    </tr>\n",
       "  </thead>\n",
       "  <tbody>\n",
       "    <tr>\n",
       "      <th>0</th>\n",
       "      <td>2008-12-01</td>\n",
       "      <td>Albury</td>\n",
       "      <td>13.4</td>\n",
       "      <td>22.9</td>\n",
       "      <td>0.6</td>\n",
       "      <td>NaN</td>\n",
       "      <td>NaN</td>\n",
       "      <td>71.0</td>\n",
       "      <td>22.0</td>\n",
       "      <td>1007.7</td>\n",
       "      <td>...</td>\n",
       "      <td>16.9</td>\n",
       "      <td>21.8</td>\n",
       "      <td>No</td>\n",
       "      <td>0.0</td>\n",
       "      <td>No</td>\n",
       "      <td>29.48</td>\n",
       "      <td>28.400000</td>\n",
       "      <td>12</td>\n",
       "      <td>5.115360</td>\n",
       "      <td>0.089825</td>\n",
       "    </tr>\n",
       "    <tr>\n",
       "      <th>1</th>\n",
       "      <td>2008-12-02</td>\n",
       "      <td>Albury</td>\n",
       "      <td>7.4</td>\n",
       "      <td>25.1</td>\n",
       "      <td>0.0</td>\n",
       "      <td>NaN</td>\n",
       "      <td>NaN</td>\n",
       "      <td>44.0</td>\n",
       "      <td>25.0</td>\n",
       "      <td>1010.6</td>\n",
       "      <td>...</td>\n",
       "      <td>17.2</td>\n",
       "      <td>24.3</td>\n",
       "      <td>No</td>\n",
       "      <td>0.0</td>\n",
       "      <td>No</td>\n",
       "      <td>32.12</td>\n",
       "      <td>2.208569</td>\n",
       "      <td>10</td>\n",
       "      <td>21.497100</td>\n",
       "      <td>0.023477</td>\n",
       "    </tr>\n",
       "    <tr>\n",
       "      <th>2</th>\n",
       "      <td>2008-12-03</td>\n",
       "      <td>Albury</td>\n",
       "      <td>12.9</td>\n",
       "      <td>25.7</td>\n",
       "      <td>0.0</td>\n",
       "      <td>NaN</td>\n",
       "      <td>NaN</td>\n",
       "      <td>38.0</td>\n",
       "      <td>30.0</td>\n",
       "      <td>1007.6</td>\n",
       "      <td>...</td>\n",
       "      <td>21.0</td>\n",
       "      <td>23.2</td>\n",
       "      <td>No</td>\n",
       "      <td>0.0</td>\n",
       "      <td>No</td>\n",
       "      <td>32.84</td>\n",
       "      <td>38.000000</td>\n",
       "      <td>17</td>\n",
       "      <td>20.782859</td>\n",
       "      <td>0.027580</td>\n",
       "    </tr>\n",
       "  </tbody>\n",
       "</table>\n",
       "<p>3 rows × 23 columns</p>\n",
       "</div>"
      ],
      "text/plain": [
       "         date location  mintemp  maxtemp  rainfall  evaporation  sunshine  \\\n",
       "0  2008-12-01   Albury     13.4     22.9       0.6          NaN       NaN   \n",
       "1  2008-12-02   Albury      7.4     25.1       0.0          NaN       NaN   \n",
       "2  2008-12-03   Albury     12.9     25.7       0.0          NaN       NaN   \n",
       "\n",
       "   humidity9am  humidity3pm  pressure9am  ...  temp9am  temp3pm  raintoday  \\\n",
       "0         71.0         22.0       1007.7  ...     16.9     21.8         No   \n",
       "1         44.0         25.0       1010.6  ...     17.2     24.3         No   \n",
       "2         38.0         30.0       1007.6  ...     21.0     23.2         No   \n",
       "\n",
       "   amountOfRain  raintomorrow   temp   humidity precipitation3pm  \\\n",
       "0           0.0            No  29.48  28.400000               12   \n",
       "1           0.0            No  32.12   2.208569               10   \n",
       "2           0.0            No  32.84  38.000000               17   \n",
       "\n",
       "   precipitation9am  modelo_vigente  \n",
       "0          5.115360        0.089825  \n",
       "1         21.497100        0.023477  \n",
       "2         20.782859        0.027580  \n",
       "\n",
       "[3 rows x 23 columns]"
      ]
     },
     "execution_count": 10,
     "metadata": {},
     "output_type": "execute_result"
    }
   ],
   "source": [
    "rain_aus=pd.read_csv('./Case-itau/data/rain_data_aus.csv')\n",
    "wind_01=pd.read_csv('./Case-itau/data/wind_table_01.csv')\n",
    "wind_02=pd.read_csv('./Case-itau/data/wind_table_02.csv')\n",
    "wind_03=pd.read_csv('./Case-itau/data/wind_table_03.csv')\n",
    "wind_04=pd.read_csv('./Case-itau/data/wind_table_04.csv')\n",
    "wind_05=pd.read_csv('./Case-itau/data/wind_table_05.csv')\n",
    "wind_06=pd.read_csv('./Case-itau/data/wind_table_06.csv')\n",
    "wind_07=pd.read_csv('./Case-itau/data/wind_table_07.csv')\n",
    "wind_08=pd.read_csv('./Case-itau/data/wind_table_08.csv')\n",
    "rain_aus.head(3)"
   ]
  },
  {
   "cell_type": "markdown",
   "metadata": {},
   "source": [
    "## 3. Exploring data"
   ]
  },
  {
   "cell_type": "code",
   "execution_count": 11,
   "metadata": {},
   "outputs": [
    {
     "data": {
      "text/plain": [
       "(142193, 23)"
      ]
     },
     "execution_count": 11,
     "metadata": {},
     "output_type": "execute_result"
    }
   ],
   "source": [
    "rain_aus.shape"
   ]
  },
  {
   "cell_type": "code",
   "execution_count": 12,
   "metadata": {},
   "outputs": [
    {
     "data": {
      "text/plain": [
       "((20000, 8),\n",
       " (20000, 8),\n",
       " (20000, 8),\n",
       " (20000, 8),\n",
       " (20000, 8),\n",
       " (20000, 8),\n",
       " (22193, 8),\n",
       " (22193, 8))"
      ]
     },
     "execution_count": 12,
     "metadata": {},
     "output_type": "execute_result"
    }
   ],
   "source": [
    "wind_01.shape, wind_02.shape, wind_03.shape, wind_04.shape, wind_05.shape, wind_06.shape, wind_07.shape, wind_08.shape"
   ]
  },
  {
   "cell_type": "code",
   "execution_count": 13,
   "metadata": {},
   "outputs": [],
   "source": [
    "wind_01.columns=wind_03.columns\n",
    "wind_02.columns=wind_03.columns"
   ]
  },
  {
   "cell_type": "code",
   "execution_count": 14,
   "metadata": {},
   "outputs": [],
   "source": [
    "frames=[wind_01, wind_02, wind_03, wind_04, wind_05, wind_06, wind_07, wind_08]"
   ]
  },
  {
   "cell_type": "code",
   "execution_count": 15,
   "metadata": {},
   "outputs": [
    {
     "data": {
      "text/html": [
       "<div>\n",
       "<style scoped>\n",
       "    .dataframe tbody tr th:only-of-type {\n",
       "        vertical-align: middle;\n",
       "    }\n",
       "\n",
       "    .dataframe tbody tr th {\n",
       "        vertical-align: top;\n",
       "    }\n",
       "\n",
       "    .dataframe thead th {\n",
       "        text-align: right;\n",
       "    }\n",
       "</style>\n",
       "<table border=\"1\" class=\"dataframe\">\n",
       "  <thead>\n",
       "    <tr style=\"text-align: right;\">\n",
       "      <th></th>\n",
       "      <th>date</th>\n",
       "      <th>location</th>\n",
       "      <th>windgustdir</th>\n",
       "      <th>windgustspeed</th>\n",
       "      <th>winddir9am</th>\n",
       "      <th>winddir3pm</th>\n",
       "      <th>windspeed9am</th>\n",
       "      <th>windspeed3pm</th>\n",
       "    </tr>\n",
       "  </thead>\n",
       "  <tbody>\n",
       "    <tr>\n",
       "      <th>0</th>\n",
       "      <td>2007-11-01</td>\n",
       "      <td>Canberra</td>\n",
       "      <td>NW</td>\n",
       "      <td>30.0</td>\n",
       "      <td>SW</td>\n",
       "      <td>NW</td>\n",
       "      <td>6.0</td>\n",
       "      <td>20.0</td>\n",
       "    </tr>\n",
       "    <tr>\n",
       "      <th>1</th>\n",
       "      <td>2007-11-02</td>\n",
       "      <td>Canberra</td>\n",
       "      <td>ENE</td>\n",
       "      <td>39.0</td>\n",
       "      <td>E</td>\n",
       "      <td>W</td>\n",
       "      <td>4.0</td>\n",
       "      <td>17.0</td>\n",
       "    </tr>\n",
       "    <tr>\n",
       "      <th>2</th>\n",
       "      <td>2007-11-03</td>\n",
       "      <td>Canberra</td>\n",
       "      <td>NW</td>\n",
       "      <td>85.0</td>\n",
       "      <td>N</td>\n",
       "      <td>NNE</td>\n",
       "      <td>6.0</td>\n",
       "      <td>6.0</td>\n",
       "    </tr>\n",
       "    <tr>\n",
       "      <th>3</th>\n",
       "      <td>2007-11-04</td>\n",
       "      <td>Canberra</td>\n",
       "      <td>NW</td>\n",
       "      <td>54.0</td>\n",
       "      <td>WNW</td>\n",
       "      <td>W</td>\n",
       "      <td>30.0</td>\n",
       "      <td>24.0</td>\n",
       "    </tr>\n",
       "    <tr>\n",
       "      <th>4</th>\n",
       "      <td>2007-11-05</td>\n",
       "      <td>Canberra</td>\n",
       "      <td>SSE</td>\n",
       "      <td>50.0</td>\n",
       "      <td>SSE</td>\n",
       "      <td>ESE</td>\n",
       "      <td>20.0</td>\n",
       "      <td>28.0</td>\n",
       "    </tr>\n",
       "  </tbody>\n",
       "</table>\n",
       "</div>"
      ],
      "text/plain": [
       "         date  location windgustdir  windgustspeed winddir9am winddir3pm  \\\n",
       "0  2007-11-01  Canberra          NW           30.0         SW         NW   \n",
       "1  2007-11-02  Canberra         ENE           39.0          E          W   \n",
       "2  2007-11-03  Canberra          NW           85.0          N        NNE   \n",
       "3  2007-11-04  Canberra          NW           54.0        WNW          W   \n",
       "4  2007-11-05  Canberra         SSE           50.0        SSE        ESE   \n",
       "\n",
       "   windspeed9am  windspeed3pm  \n",
       "0           6.0          20.0  \n",
       "1           4.0          17.0  \n",
       "2           6.0           6.0  \n",
       "3          30.0          24.0  \n",
       "4          20.0          28.0  "
      ]
     },
     "execution_count": 15,
     "metadata": {},
     "output_type": "execute_result"
    }
   ],
   "source": [
    "wind = pd.concat(frames)\n",
    "wind.head()"
   ]
  },
  {
   "cell_type": "code",
   "execution_count": 16,
   "metadata": {},
   "outputs": [
    {
     "data": {
      "text/plain": [
       "Index(['date', 'location', 'mintemp', 'maxtemp', 'rainfall', 'evaporation',\n",
       "       'sunshine', 'humidity9am', 'humidity3pm', 'pressure9am', 'pressure3pm',\n",
       "       'cloud9am', 'cloud3pm', 'temp9am', 'temp3pm', 'raintoday',\n",
       "       'amountOfRain', 'raintomorrow', 'temp', 'humidity', 'precipitation3pm',\n",
       "       'precipitation9am', 'modelo_vigente'],\n",
       "      dtype='object')"
      ]
     },
     "execution_count": 16,
     "metadata": {},
     "output_type": "execute_result"
    }
   ],
   "source": [
    "rain_aus.columns"
   ]
  },
  {
   "cell_type": "code",
   "execution_count": 17,
   "metadata": {},
   "outputs": [
    {
     "data": {
      "text/plain": [
       "Index(['date', 'location', 'windgustdir', 'windgustspeed', 'winddir9am',\n",
       "       'winddir3pm', 'windspeed9am', 'windspeed3pm'],\n",
       "      dtype='object')"
      ]
     },
     "execution_count": 17,
     "metadata": {},
     "output_type": "execute_result"
    }
   ],
   "source": [
    "wind.columns"
   ]
  },
  {
   "cell_type": "markdown",
   "metadata": {},
   "source": [
    "#### Convertendo coluna de strings em numerica 0 e 1"
   ]
  },
  {
   "cell_type": "code",
   "execution_count": 19,
   "metadata": {},
   "outputs": [],
   "source": [
    "rain_aus['raintoday'] = rain_aus['raintoday'].replace('No', 0).replace('Yes', 1)\n",
    "rain_aus['raintomorrow'] = rain_aus['raintomorrow'].replace('No', 0).replace('Yes', 1)"
   ]
  },
  {
   "cell_type": "markdown",
   "metadata": {},
   "source": [
    "### Drop Nan no df"
   ]
  },
  {
   "cell_type": "code",
   "execution_count": 24,
   "metadata": {},
   "outputs": [
    {
     "data": {
      "text/plain": [
       "date                    0\n",
       "location                0\n",
       "mintemp               637\n",
       "maxtemp               322\n",
       "rainfall             1406\n",
       "evaporation         60843\n",
       "sunshine            67816\n",
       "humidity9am          1774\n",
       "humidity3pm          3610\n",
       "pressure9am         14014\n",
       "pressure3pm         13981\n",
       "cloud9am            53657\n",
       "cloud3pm            57094\n",
       "temp9am               904\n",
       "temp3pm              2726\n",
       "raintoday            1406\n",
       "amountOfRain            0\n",
       "raintomorrow            0\n",
       "temp                  322\n",
       "humidity             3610\n",
       "precipitation3pm        0\n",
       "precipitation9am        0\n",
       "modelo_vigente          0\n",
       "dtype: int64"
      ]
     },
     "execution_count": 24,
     "metadata": {},
     "output_type": "execute_result"
    }
   ],
   "source": [
    "rain_aus.isna().sum()"
   ]
  },
  {
   "cell_type": "code",
   "execution_count": 22,
   "metadata": {},
   "outputs": [],
   "source": [
    "rain_aus_na=rain_aus.dropna()"
   ]
  },
  {
   "cell_type": "code",
   "execution_count": 44,
   "metadata": {},
   "outputs": [],
   "source": [
    "wind_na=wind.dropna()"
   ]
  },
  {
   "cell_type": "code",
   "execution_count": 23,
   "metadata": {},
   "outputs": [
    {
     "data": {
      "text/plain": [
       "(61918, 23)"
      ]
     },
     "execution_count": 23,
     "metadata": {},
     "output_type": "execute_result"
    }
   ],
   "source": [
    "rain_aus_na.shape"
   ]
  },
  {
   "cell_type": "markdown",
   "metadata": {},
   "source": [
    "#### Concatenando df's rain e wind em um só pelas colunas (location e Data)"
   ]
  },
  {
   "cell_type": "code",
   "execution_count": 45,
   "metadata": {},
   "outputs": [
    {
     "data": {
      "text/html": [
       "<div>\n",
       "<style scoped>\n",
       "    .dataframe tbody tr th:only-of-type {\n",
       "        vertical-align: middle;\n",
       "    }\n",
       "\n",
       "    .dataframe tbody tr th {\n",
       "        vertical-align: top;\n",
       "    }\n",
       "\n",
       "    .dataframe thead th {\n",
       "        text-align: right;\n",
       "    }\n",
       "</style>\n",
       "<table border=\"1\" class=\"dataframe\">\n",
       "  <thead>\n",
       "    <tr style=\"text-align: right;\">\n",
       "      <th></th>\n",
       "      <th>date</th>\n",
       "      <th>location</th>\n",
       "      <th>mintemp</th>\n",
       "      <th>maxtemp</th>\n",
       "      <th>rainfall</th>\n",
       "      <th>evaporation</th>\n",
       "      <th>sunshine</th>\n",
       "      <th>humidity9am</th>\n",
       "      <th>humidity3pm</th>\n",
       "      <th>pressure9am</th>\n",
       "      <th>pressure3pm</th>\n",
       "      <th>cloud9am</th>\n",
       "      <th>cloud3pm</th>\n",
       "      <th>temp9am</th>\n",
       "      <th>temp3pm</th>\n",
       "      <th>raintoday</th>\n",
       "      <th>amountOfRain</th>\n",
       "      <th>raintomorrow</th>\n",
       "      <th>temp</th>\n",
       "      <th>humidity</th>\n",
       "      <th>precipitation3pm</th>\n",
       "      <th>precipitation9am</th>\n",
       "      <th>modelo_vigente</th>\n",
       "      <th>windgustdir</th>\n",
       "      <th>windgustspeed</th>\n",
       "      <th>winddir9am</th>\n",
       "      <th>winddir3pm</th>\n",
       "      <th>windspeed9am</th>\n",
       "      <th>windspeed3pm</th>\n",
       "    </tr>\n",
       "  </thead>\n",
       "  <tbody>\n",
       "    <tr>\n",
       "      <th>0</th>\n",
       "      <td>2009-01-01</td>\n",
       "      <td>Cobar</td>\n",
       "      <td>17.9</td>\n",
       "      <td>35.2</td>\n",
       "      <td>0.0</td>\n",
       "      <td>12.0</td>\n",
       "      <td>12.3</td>\n",
       "      <td>20.0</td>\n",
       "      <td>13.0</td>\n",
       "      <td>1006.3</td>\n",
       "      <td>1004.4</td>\n",
       "      <td>2.0</td>\n",
       "      <td>5.0</td>\n",
       "      <td>26.6</td>\n",
       "      <td>33.4</td>\n",
       "      <td>0.0</td>\n",
       "      <td>0.0</td>\n",
       "      <td>0</td>\n",
       "      <td>44.24</td>\n",
       "      <td>17.6</td>\n",
       "      <td>5</td>\n",
       "      <td>15.165784</td>\n",
       "      <td>0.011320</td>\n",
       "      <td>SSW</td>\n",
       "      <td>48.0</td>\n",
       "      <td>ENE</td>\n",
       "      <td>SW</td>\n",
       "      <td>6.0</td>\n",
       "      <td>20.0</td>\n",
       "    </tr>\n",
       "    <tr>\n",
       "      <th>1</th>\n",
       "      <td>2009-01-02</td>\n",
       "      <td>Cobar</td>\n",
       "      <td>18.4</td>\n",
       "      <td>28.9</td>\n",
       "      <td>0.0</td>\n",
       "      <td>14.8</td>\n",
       "      <td>13.0</td>\n",
       "      <td>30.0</td>\n",
       "      <td>8.0</td>\n",
       "      <td>1012.9</td>\n",
       "      <td>1012.1</td>\n",
       "      <td>1.0</td>\n",
       "      <td>1.0</td>\n",
       "      <td>20.3</td>\n",
       "      <td>27.0</td>\n",
       "      <td>0.0</td>\n",
       "      <td>0.0</td>\n",
       "      <td>0</td>\n",
       "      <td>36.68</td>\n",
       "      <td>11.6</td>\n",
       "      <td>9</td>\n",
       "      <td>9.750834</td>\n",
       "      <td>0.001683</td>\n",
       "      <td>S</td>\n",
       "      <td>37.0</td>\n",
       "      <td>SSE</td>\n",
       "      <td>SSE</td>\n",
       "      <td>19.0</td>\n",
       "      <td>19.0</td>\n",
       "    </tr>\n",
       "    <tr>\n",
       "      <th>2</th>\n",
       "      <td>2009-01-04</td>\n",
       "      <td>Cobar</td>\n",
       "      <td>19.4</td>\n",
       "      <td>37.6</td>\n",
       "      <td>0.0</td>\n",
       "      <td>10.8</td>\n",
       "      <td>10.6</td>\n",
       "      <td>42.0</td>\n",
       "      <td>22.0</td>\n",
       "      <td>1012.3</td>\n",
       "      <td>1009.2</td>\n",
       "      <td>1.0</td>\n",
       "      <td>6.0</td>\n",
       "      <td>28.7</td>\n",
       "      <td>34.9</td>\n",
       "      <td>0.0</td>\n",
       "      <td>0.0</td>\n",
       "      <td>0</td>\n",
       "      <td>47.12</td>\n",
       "      <td>28.4</td>\n",
       "      <td>11</td>\n",
       "      <td>5.557986</td>\n",
       "      <td>0.061026</td>\n",
       "      <td>NNE</td>\n",
       "      <td>46.0</td>\n",
       "      <td>NNE</td>\n",
       "      <td>NNW</td>\n",
       "      <td>30.0</td>\n",
       "      <td>15.0</td>\n",
       "    </tr>\n",
       "  </tbody>\n",
       "</table>\n",
       "</div>"
      ],
      "text/plain": [
       "         date location  mintemp  maxtemp  rainfall  evaporation  sunshine  \\\n",
       "0  2009-01-01    Cobar     17.9     35.2       0.0         12.0      12.3   \n",
       "1  2009-01-02    Cobar     18.4     28.9       0.0         14.8      13.0   \n",
       "2  2009-01-04    Cobar     19.4     37.6       0.0         10.8      10.6   \n",
       "\n",
       "   humidity9am  humidity3pm  pressure9am  pressure3pm  cloud9am  cloud3pm  \\\n",
       "0         20.0         13.0       1006.3       1004.4       2.0       5.0   \n",
       "1         30.0          8.0       1012.9       1012.1       1.0       1.0   \n",
       "2         42.0         22.0       1012.3       1009.2       1.0       6.0   \n",
       "\n",
       "   temp9am  temp3pm  raintoday  amountOfRain  raintomorrow   temp  humidity  \\\n",
       "0     26.6     33.4        0.0           0.0             0  44.24      17.6   \n",
       "1     20.3     27.0        0.0           0.0             0  36.68      11.6   \n",
       "2     28.7     34.9        0.0           0.0             0  47.12      28.4   \n",
       "\n",
       "   precipitation3pm  precipitation9am  modelo_vigente windgustdir  \\\n",
       "0                 5         15.165784        0.011320         SSW   \n",
       "1                 9          9.750834        0.001683           S   \n",
       "2                11          5.557986        0.061026         NNE   \n",
       "\n",
       "   windgustspeed winddir9am winddir3pm  windspeed9am  windspeed3pm  \n",
       "0           48.0        ENE         SW           6.0          20.0  \n",
       "1           37.0        SSE        SSE          19.0          19.0  \n",
       "2           46.0        NNE        NNW          30.0          15.0  "
      ]
     },
     "execution_count": 45,
     "metadata": {},
     "output_type": "execute_result"
    }
   ],
   "source": [
    "data = pd.merge(rain_aus_na, wind_na, on=['date','location'])\n",
    "data.head(3)"
   ]
  },
  {
   "cell_type": "code",
   "execution_count": null,
   "metadata": {},
   "outputs": [],
   "source": []
  },
  {
   "cell_type": "markdown",
   "metadata": {},
   "source": [
    "## 3.2 Using Heatmap to find correlations between data"
   ]
  },
  {
   "cell_type": "code",
   "execution_count": 46,
   "metadata": {},
   "outputs": [
    {
     "data": {
      "text/plain": [
       "<matplotlib.axes._subplots.AxesSubplot at 0x24263a5ba88>"
      ]
     },
     "execution_count": 46,
     "metadata": {},
     "output_type": "execute_result"
    },
    {
     "data": {
      "image/png": "[encoded data removed]",
      "text/plain": [
       "<Figure size 1152x720 with 2 Axes>"
      ]
     },
     "metadata": {
      "needs_background": "light"
     },
     "output_type": "display_data"
    }
   ],
   "source": [
    "import seaborn as sns\n",
    "fig, ax = plt.subplots(figsize=(16,10))\n",
    "sns.heatmap(data.corr(),annot=True,linewidths=.5)"
   ]
  },
  {
   "cell_type": "markdown",
   "metadata": {},
   "source": [
    "## 4. Regressão Logistica"
   ]
  },
  {
   "cell_type": "code",
   "execution_count": 47,
   "metadata": {},
   "outputs": [],
   "source": [
    "pd.set_option(\"display.max_columns\", len(data.columns)) "
   ]
  },
  {
   "cell_type": "code",
   "execution_count": 48,
   "metadata": {},
   "outputs": [
    {
     "data": {
      "text/html": [
       "<div>\n",
       "<style scoped>\n",
       "    .dataframe tbody tr th:only-of-type {\n",
       "        vertical-align: middle;\n",
       "    }\n",
       "\n",
       "    .dataframe tbody tr th {\n",
       "        vertical-align: top;\n",
       "    }\n",
       "\n",
       "    .dataframe thead th {\n",
       "        text-align: right;\n",
       "    }\n",
       "</style>\n",
       "<table border=\"1\" class=\"dataframe\">\n",
       "  <thead>\n",
       "    <tr style=\"text-align: right;\">\n",
       "      <th></th>\n",
       "      <th>date</th>\n",
       "      <th>location</th>\n",
       "      <th>mintemp</th>\n",
       "      <th>maxtemp</th>\n",
       "      <th>rainfall</th>\n",
       "      <th>evaporation</th>\n",
       "      <th>sunshine</th>\n",
       "      <th>humidity9am</th>\n",
       "      <th>humidity3pm</th>\n",
       "      <th>pressure9am</th>\n",
       "      <th>pressure3pm</th>\n",
       "      <th>cloud9am</th>\n",
       "      <th>cloud3pm</th>\n",
       "      <th>temp9am</th>\n",
       "      <th>temp3pm</th>\n",
       "      <th>raintoday</th>\n",
       "      <th>amountOfRain</th>\n",
       "      <th>raintomorrow</th>\n",
       "      <th>temp</th>\n",
       "      <th>humidity</th>\n",
       "      <th>precipitation3pm</th>\n",
       "      <th>precipitation9am</th>\n",
       "      <th>modelo_vigente</th>\n",
       "      <th>windgustdir</th>\n",
       "      <th>windgustspeed</th>\n",
       "      <th>winddir9am</th>\n",
       "      <th>winddir3pm</th>\n",
       "      <th>windspeed9am</th>\n",
       "      <th>windspeed3pm</th>\n",
       "    </tr>\n",
       "  </thead>\n",
       "  <tbody>\n",
       "    <tr>\n",
       "      <th>0</th>\n",
       "      <td>2009-01-01</td>\n",
       "      <td>Cobar</td>\n",
       "      <td>17.9</td>\n",
       "      <td>35.2</td>\n",
       "      <td>0.0</td>\n",
       "      <td>12.0</td>\n",
       "      <td>12.3</td>\n",
       "      <td>20.0</td>\n",
       "      <td>13.0</td>\n",
       "      <td>1006.3</td>\n",
       "      <td>1004.4</td>\n",
       "      <td>2.0</td>\n",
       "      <td>5.0</td>\n",
       "      <td>26.6</td>\n",
       "      <td>33.4</td>\n",
       "      <td>0.0</td>\n",
       "      <td>0.0</td>\n",
       "      <td>0</td>\n",
       "      <td>44.24</td>\n",
       "      <td>17.6</td>\n",
       "      <td>5</td>\n",
       "      <td>15.165784</td>\n",
       "      <td>0.011320</td>\n",
       "      <td>SSW</td>\n",
       "      <td>48.0</td>\n",
       "      <td>ENE</td>\n",
       "      <td>SW</td>\n",
       "      <td>6.0</td>\n",
       "      <td>20.0</td>\n",
       "    </tr>\n",
       "    <tr>\n",
       "      <th>1</th>\n",
       "      <td>2009-01-02</td>\n",
       "      <td>Cobar</td>\n",
       "      <td>18.4</td>\n",
       "      <td>28.9</td>\n",
       "      <td>0.0</td>\n",
       "      <td>14.8</td>\n",
       "      <td>13.0</td>\n",
       "      <td>30.0</td>\n",
       "      <td>8.0</td>\n",
       "      <td>1012.9</td>\n",
       "      <td>1012.1</td>\n",
       "      <td>1.0</td>\n",
       "      <td>1.0</td>\n",
       "      <td>20.3</td>\n",
       "      <td>27.0</td>\n",
       "      <td>0.0</td>\n",
       "      <td>0.0</td>\n",
       "      <td>0</td>\n",
       "      <td>36.68</td>\n",
       "      <td>11.6</td>\n",
       "      <td>9</td>\n",
       "      <td>9.750834</td>\n",
       "      <td>0.001683</td>\n",
       "      <td>S</td>\n",
       "      <td>37.0</td>\n",
       "      <td>SSE</td>\n",
       "      <td>SSE</td>\n",
       "      <td>19.0</td>\n",
       "      <td>19.0</td>\n",
       "    </tr>\n",
       "    <tr>\n",
       "      <th>2</th>\n",
       "      <td>2009-01-04</td>\n",
       "      <td>Cobar</td>\n",
       "      <td>19.4</td>\n",
       "      <td>37.6</td>\n",
       "      <td>0.0</td>\n",
       "      <td>10.8</td>\n",
       "      <td>10.6</td>\n",
       "      <td>42.0</td>\n",
       "      <td>22.0</td>\n",
       "      <td>1012.3</td>\n",
       "      <td>1009.2</td>\n",
       "      <td>1.0</td>\n",
       "      <td>6.0</td>\n",
       "      <td>28.7</td>\n",
       "      <td>34.9</td>\n",
       "      <td>0.0</td>\n",
       "      <td>0.0</td>\n",
       "      <td>0</td>\n",
       "      <td>47.12</td>\n",
       "      <td>28.4</td>\n",
       "      <td>11</td>\n",
       "      <td>5.557986</td>\n",
       "      <td>0.061026</td>\n",
       "      <td>NNE</td>\n",
       "      <td>46.0</td>\n",
       "      <td>NNE</td>\n",
       "      <td>NNW</td>\n",
       "      <td>30.0</td>\n",
       "      <td>15.0</td>\n",
       "    </tr>\n",
       "    <tr>\n",
       "      <th>3</th>\n",
       "      <td>2009-01-05</td>\n",
       "      <td>Cobar</td>\n",
       "      <td>21.9</td>\n",
       "      <td>38.4</td>\n",
       "      <td>0.0</td>\n",
       "      <td>11.4</td>\n",
       "      <td>12.2</td>\n",
       "      <td>37.0</td>\n",
       "      <td>22.0</td>\n",
       "      <td>1012.7</td>\n",
       "      <td>1009.1</td>\n",
       "      <td>1.0</td>\n",
       "      <td>5.0</td>\n",
       "      <td>29.1</td>\n",
       "      <td>35.6</td>\n",
       "      <td>0.0</td>\n",
       "      <td>0.0</td>\n",
       "      <td>0</td>\n",
       "      <td>48.08</td>\n",
       "      <td>28.4</td>\n",
       "      <td>10</td>\n",
       "      <td>17.820001</td>\n",
       "      <td>0.010724</td>\n",
       "      <td>WNW</td>\n",
       "      <td>31.0</td>\n",
       "      <td>WNW</td>\n",
       "      <td>WSW</td>\n",
       "      <td>6.0</td>\n",
       "      <td>6.0</td>\n",
       "    </tr>\n",
       "    <tr>\n",
       "      <th>4</th>\n",
       "      <td>2009-01-06</td>\n",
       "      <td>Cobar</td>\n",
       "      <td>24.2</td>\n",
       "      <td>41.0</td>\n",
       "      <td>0.0</td>\n",
       "      <td>11.2</td>\n",
       "      <td>8.4</td>\n",
       "      <td>19.0</td>\n",
       "      <td>15.0</td>\n",
       "      <td>1010.7</td>\n",
       "      <td>1007.4</td>\n",
       "      <td>1.0</td>\n",
       "      <td>6.0</td>\n",
       "      <td>33.6</td>\n",
       "      <td>37.6</td>\n",
       "      <td>0.0</td>\n",
       "      <td>0.0</td>\n",
       "      <td>0</td>\n",
       "      <td>51.20</td>\n",
       "      <td>20.0</td>\n",
       "      <td>9</td>\n",
       "      <td>13.217116</td>\n",
       "      <td>0.103292</td>\n",
       "      <td>WNW</td>\n",
       "      <td>35.0</td>\n",
       "      <td>NW</td>\n",
       "      <td>WNW</td>\n",
       "      <td>17.0</td>\n",
       "      <td>13.0</td>\n",
       "    </tr>\n",
       "  </tbody>\n",
       "</table>\n",
       "</div>"
      ],
      "text/plain": [
       "         date location  mintemp  maxtemp  rainfall  evaporation  sunshine  \\\n",
       "0  2009-01-01    Cobar     17.9     35.2       0.0         12.0      12.3   \n",
       "1  2009-01-02    Cobar     18.4     28.9       0.0         14.8      13.0   \n",
       "2  2009-01-04    Cobar     19.4     37.6       0.0         10.8      10.6   \n",
       "3  2009-01-05    Cobar     21.9     38.4       0.0         11.4      12.2   \n",
       "4  2009-01-06    Cobar     24.2     41.0       0.0         11.2       8.4   \n",
       "\n",
       "   humidity9am  humidity3pm  pressure9am  pressure3pm  cloud9am  cloud3pm  \\\n",
       "0         20.0         13.0       1006.3       1004.4       2.0       5.0   \n",
       "1         30.0          8.0       1012.9       1012.1       1.0       1.0   \n",
       "2         42.0         22.0       1012.3       1009.2       1.0       6.0   \n",
       "3         37.0         22.0       1012.7       1009.1       1.0       5.0   \n",
       "4         19.0         15.0       1010.7       1007.4       1.0       6.0   \n",
       "\n",
       "   temp9am  temp3pm  raintoday  amountOfRain  raintomorrow   temp  humidity  \\\n",
       "0     26.6     33.4        0.0           0.0             0  44.24      17.6   \n",
       "1     20.3     27.0        0.0           0.0             0  36.68      11.6   \n",
       "2     28.7     34.9        0.0           0.0             0  47.12      28.4   \n",
       "3     29.1     35.6        0.0           0.0             0  48.08      28.4   \n",
       "4     33.6     37.6        0.0           0.0             0  51.20      20.0   \n",
       "\n",
       "   precipitation3pm  precipitation9am  modelo_vigente windgustdir  \\\n",
       "0                 5         15.165784        0.011320         SSW   \n",
       "1                 9          9.750834        0.001683           S   \n",
       "2                11          5.557986        0.061026         NNE   \n",
       "3                10         17.820001        0.010724         WNW   \n",
       "4                 9         13.217116        0.103292         WNW   \n",
       "\n",
       "   windgustspeed winddir9am winddir3pm  windspeed9am  windspeed3pm  \n",
       "0           48.0        ENE         SW           6.0          20.0  \n",
       "1           37.0        SSE        SSE          19.0          19.0  \n",
       "2           46.0        NNE        NNW          30.0          15.0  \n",
       "3           31.0        WNW        WSW           6.0           6.0  \n",
       "4           35.0         NW        WNW          17.0          13.0  "
      ]
     },
     "execution_count": 48,
     "metadata": {},
     "output_type": "execute_result"
    }
   ],
   "source": [
    "data.head()"
   ]
  },
  {
   "cell_type": "code",
   "execution_count": 49,
   "metadata": {},
   "outputs": [],
   "source": [
    "numeric = ['mintemp','maxtemp','rainfall','evaporation','sunshine','humidity9am','humidity3pm','pressure9am','pressure3pm','temp9am','temp3pm','temp','humidity','precipitation3pm','precipitation9am','raintoday','raintomorrow', 'cloud9am','cloud3pm','windgustspeed','windspeed9am','windspeed3pm']\n",
    "numeric2=['mintemp','maxtemp','rainfall','evaporation','sunshine','humidity9am','humidity3pm','pressure9am','pressure3pm','temp9am','temp3pm','temp','humidity','precipitation3pm','precipitation9am','raintoday', 'cloud9am','cloud3pm','windgustspeed','windspeed9am','windspeed3pm']"
   ]
  },
  {
   "cell_type": "code",
   "execution_count": 50,
   "metadata": {},
   "outputs": [],
   "source": [
    "A=data[numeric]\n",
    "X=A.drop(columns=['raintomorrow'])\n",
    "y=pd.DataFrame(A['raintomorrow'])"
   ]
  },
  {
   "cell_type": "code",
   "execution_count": 51,
   "metadata": {},
   "outputs": [],
   "source": [
    "from sklearn.linear_model import LogisticRegression\n",
    "\n",
    "modelo=LogisticRegression()"
   ]
  },
  {
   "cell_type": "code",
   "execution_count": 52,
   "metadata": {},
   "outputs": [],
   "source": [
    "X=data[numeric].drop(columns=['raintomorrow'])\n",
    "y=data['raintomorrow']"
   ]
  },
  {
   "cell_type": "code",
   "execution_count": 53,
   "metadata": {},
   "outputs": [
    {
     "name": "stderr",
     "output_type": "stream",
     "text": [
      "C:\\Users\\victo\\anaconda3\\lib\\site-packages\\sklearn\\linear_model\\_logistic.py:940: ConvergenceWarning: lbfgs failed to converge (status=1):\n",
      "STOP: TOTAL NO. of ITERATIONS REACHED LIMIT.\n",
      "\n",
      "Increase the number of iterations (max_iter) or scale the data as shown in:\n",
      "    https://scikit-learn.org/stable/modules/preprocessing.html\n",
      "Please also refer to the documentation for alternative solver options:\n",
      "    https://scikit-learn.org/stable/modules/linear_model.html#logistic-regression\n",
      "  extra_warning_msg=_LOGISTIC_SOLVER_CONVERGENCE_MSG)\n"
     ]
    },
    {
     "data": {
      "text/plain": [
       "LogisticRegression(C=1.0, class_weight=None, dual=False, fit_intercept=True,\n",
       "                   intercept_scaling=1, l1_ratio=None, max_iter=100,\n",
       "                   multi_class='auto', n_jobs=None, penalty='l2',\n",
       "                   random_state=None, solver='lbfgs', tol=0.0001, verbose=0,\n",
       "                   warm_start=False)"
      ]
     },
     "execution_count": 53,
     "metadata": {},
     "output_type": "execute_result"
    }
   ],
   "source": [
    "modelo.fit(X,y)"
   ]
  },
  {
   "cell_type": "code",
   "execution_count": 54,
   "metadata": {},
   "outputs": [
    {
     "data": {
      "text/plain": [
       "0.8493085904376753"
      ]
     },
     "execution_count": 54,
     "metadata": {},
     "output_type": "execute_result"
    }
   ],
   "source": [
    "modelo.score(X,y)"
   ]
  },
  {
   "cell_type": "markdown",
   "metadata": {},
   "source": [
    "## 4.1 Plotando o resultado em Confusion matrix"
   ]
  },
  {
   "cell_type": "code",
   "execution_count": 56,
   "metadata": {},
   "outputs": [],
   "source": [
    "from sklearn.metrics import plot_confusion_matrix, confusion_matrix, precision_score, recall_score, f1_score,accuracy_score"
   ]
  },
  {
   "cell_type": "code",
   "execution_count": 57,
   "metadata": {},
   "outputs": [
    {
     "data": {
      "text/plain": [
       "<sklearn.metrics._plot.confusion_matrix.ConfusionMatrixDisplay at 0x24269f52908>"
      ]
     },
     "execution_count": 57,
     "metadata": {},
     "output_type": "execute_result"
    },
    {
     "data": {
      "image/png": "[encoded data removed]",
      "text/plain": [
       "<Figure size 432x288 with 2 Axes>"
      ]
     },
     "metadata": {
      "needs_background": "light"
     },
     "output_type": "display_data"
    }
   ],
   "source": [
    "plot_confusion_matrix(modelo, X,y, values_format='.0f')"
   ]
  },
  {
   "cell_type": "markdown",
   "metadata": {},
   "source": [
    "#### Acuracia"
   ]
  },
  {
   "cell_type": "code",
   "execution_count": 58,
   "metadata": {},
   "outputs": [
    {
     "data": {
      "text/plain": [
       "0.8493085904376753"
      ]
     },
     "execution_count": 58,
     "metadata": {},
     "output_type": "execute_result"
    }
   ],
   "source": [
    "modelo.score(X,y)"
   ]
  },
  {
   "cell_type": "markdown",
   "metadata": {},
   "source": [
    "#### Precisão"
   ]
  },
  {
   "cell_type": "code",
   "execution_count": 59,
   "metadata": {},
   "outputs": [],
   "source": [
    "y_pred=modelo.predict(X)"
   ]
  },
  {
   "cell_type": "code",
   "execution_count": 60,
   "metadata": {},
   "outputs": [
    {
     "data": {
      "text/plain": [
       "0.7246753246753247"
      ]
     },
     "execution_count": 60,
     "metadata": {},
     "output_type": "execute_result"
    }
   ],
   "source": [
    "precision_score(y,y_pred)"
   ]
  },
  {
   "cell_type": "markdown",
   "metadata": {},
   "source": [
    "#### Recall"
   ]
  },
  {
   "cell_type": "code",
   "execution_count": 62,
   "metadata": {},
   "outputs": [
    {
     "data": {
      "text/plain": [
       "0.5141530296329058"
      ]
     },
     "execution_count": 62,
     "metadata": {},
     "output_type": "execute_result"
    }
   ],
   "source": [
    "recall_score(y,y_pred)"
   ]
  },
  {
   "cell_type": "markdown",
   "metadata": {},
   "source": [
    "#### f1 score"
   ]
  },
  {
   "cell_type": "code",
   "execution_count": 63,
   "metadata": {},
   "outputs": [
    {
     "data": {
      "text/plain": [
       "0.6015264542279332"
      ]
     },
     "execution_count": 63,
     "metadata": {},
     "output_type": "execute_result"
    }
   ],
   "source": [
    "f1_score(y,y_pred)"
   ]
  },
  {
   "cell_type": "markdown",
   "metadata": {},
   "source": [
    "### 4.2 Agora, vamos tornar o nosso modelo mais complexo"
   ]
  },
  {
   "cell_type": "code",
   "execution_count": 65,
   "metadata": {},
   "outputs": [],
   "source": [
    "from sklearn import datasets\n",
    "from sklearn.metrics import precision_score, recall_score, roc_auc_score, plot_roc_curve\n",
    "from sklearn.datasets import make_classification"
   ]
  },
  {
   "cell_type": "code",
   "execution_count": 66,
   "metadata": {},
   "outputs": [],
   "source": [
    "from sklearn.model_selection import train_test_split\n",
    "\n",
    "X_train, X_test, y_train, y_test = train_test_split(X, y, test_size=0.2, random_state=42)"
   ]
  },
  {
   "cell_type": "code",
   "execution_count": 67,
   "metadata": {},
   "outputs": [
    {
     "data": {
      "text/plain": [
       "(49059, 21)"
      ]
     },
     "execution_count": 67,
     "metadata": {},
     "output_type": "execute_result"
    }
   ],
   "source": [
    "X_train.shape"
   ]
  },
  {
   "cell_type": "code",
   "execution_count": 68,
   "metadata": {},
   "outputs": [
    {
     "data": {
      "text/plain": [
       "(12265, 21)"
      ]
     },
     "execution_count": 68,
     "metadata": {},
     "output_type": "execute_result"
    }
   ],
   "source": [
    "X_test.shape"
   ]
  },
  {
   "cell_type": "code",
   "execution_count": 69,
   "metadata": {},
   "outputs": [],
   "source": [
    "from sklearn.preprocessing import StandardScaler\n",
    "\n",
    "scaler = StandardScaler()\n",
    "scaler.fit(X_train)\n",
    "X_train = scaler.transform(X_train)\n",
    "\n",
    "\n",
    "X_test = scaler.transform(X_test)"
   ]
  },
  {
   "cell_type": "markdown",
   "metadata": {},
   "source": [
    "### 4.4 Aplicar LogisticRegression com modelo mais complexo"
   ]
  },
  {
   "cell_type": "code",
   "execution_count": 71,
   "metadata": {},
   "outputs": [
    {
     "data": {
      "text/plain": [
       "LogisticRegression(C=1.0, class_weight=None, dual=False, fit_intercept=True,\n",
       "                   intercept_scaling=1, l1_ratio=None, max_iter=100,\n",
       "                   multi_class='auto', n_jobs=-1, penalty='l2',\n",
       "                   random_state=None, solver='lbfgs', tol=0.0001, verbose=0,\n",
       "                   warm_start=False)"
      ]
     },
     "execution_count": 71,
     "metadata": {},
     "output_type": "execute_result"
    }
   ],
   "source": [
    "from sklearn.linear_model import LogisticRegression\n",
    "from sklearn.metrics import plot_roc_curve\n",
    "\n",
    "logistic = LogisticRegression(n_jobs=-1)\n",
    "logistic.fit(X_train, y_train)\n"
   ]
  },
  {
   "cell_type": "code",
   "execution_count": 72,
   "metadata": {},
   "outputs": [
    {
     "data": {
      "text/plain": [
       "<sklearn.metrics._plot.roc_curve.RocCurveDisplay at 0x2426b4a1548>"
      ]
     },
     "execution_count": 72,
     "metadata": {},
     "output_type": "execute_result"
    },
    {
     "data": {
      "image/png": "[encoded data removed]",
      "text/plain": [
       "<Figure size 432x288 with 1 Axes>"
      ]
     },
     "metadata": {
      "needs_background": "light"
     },
     "output_type": "display_data"
    }
   ],
   "source": [
    "fig, ax = plt.subplots()\n",
    "\n",
    "plot_roc_curve(logistic, X_train, y_train, ax=ax, name='Train')\n",
    "plot_roc_curve(logistic, X_test, y_test, ax=ax, name='Test')"
   ]
  },
  {
   "cell_type": "code",
   "execution_count": 73,
   "metadata": {},
   "outputs": [
    {
     "data": {
      "text/html": [
       "<div>\n",
       "<style scoped>\n",
       "    .dataframe tbody tr th:only-of-type {\n",
       "        vertical-align: middle;\n",
       "    }\n",
       "\n",
       "    .dataframe tbody tr th {\n",
       "        vertical-align: top;\n",
       "    }\n",
       "\n",
       "    .dataframe thead th {\n",
       "        text-align: right;\n",
       "    }\n",
       "</style>\n",
       "<table border=\"1\" class=\"dataframe\">\n",
       "  <thead>\n",
       "    <tr style=\"text-align: right;\">\n",
       "      <th></th>\n",
       "      <th>mintemp</th>\n",
       "      <th>maxtemp</th>\n",
       "      <th>rainfall</th>\n",
       "      <th>evaporation</th>\n",
       "      <th>sunshine</th>\n",
       "      <th>humidity9am</th>\n",
       "      <th>humidity3pm</th>\n",
       "      <th>pressure9am</th>\n",
       "      <th>pressure3pm</th>\n",
       "      <th>temp9am</th>\n",
       "      <th>temp3pm</th>\n",
       "      <th>temp</th>\n",
       "      <th>humidity</th>\n",
       "      <th>precipitation3pm</th>\n",
       "      <th>precipitation9am</th>\n",
       "      <th>raintoday</th>\n",
       "      <th>cloud9am</th>\n",
       "      <th>cloud3pm</th>\n",
       "      <th>windgustspeed</th>\n",
       "      <th>windspeed9am</th>\n",
       "      <th>windspeed3pm</th>\n",
       "    </tr>\n",
       "  </thead>\n",
       "  <tbody>\n",
       "    <tr>\n",
       "      <th>mintemp</th>\n",
       "      <td>1.000000</td>\n",
       "      <td>0.751131</td>\n",
       "      <td>0.108920</td>\n",
       "      <td>0.504563</td>\n",
       "      <td>0.078985</td>\n",
       "      <td>-0.172991</td>\n",
       "      <td>0.069594</td>\n",
       "      <td>-0.466959</td>\n",
       "      <td>-0.487898</td>\n",
       "      <td>0.906678</td>\n",
       "      <td>0.728575</td>\n",
       "      <td>0.585605</td>\n",
       "      <td>0.062698</td>\n",
       "      <td>0.003044</td>\n",
       "      <td>-0.000448</td>\n",
       "      <td>0.046411</td>\n",
       "      <td>0.104685</td>\n",
       "      <td>0.037394</td>\n",
       "      <td>0.111325</td>\n",
       "      <td>0.099693</td>\n",
       "      <td>0.134473</td>\n",
       "    </tr>\n",
       "    <tr>\n",
       "      <th>maxtemp</th>\n",
       "      <td>0.751131</td>\n",
       "      <td>1.000000</td>\n",
       "      <td>-0.070474</td>\n",
       "      <td>0.645171</td>\n",
       "      <td>0.464880</td>\n",
       "      <td>-0.488880</td>\n",
       "      <td>-0.444525</td>\n",
       "      <td>-0.340065</td>\n",
       "      <td>-0.441244</td>\n",
       "      <td>0.894113</td>\n",
       "      <td>0.984556</td>\n",
       "      <td>0.780458</td>\n",
       "      <td>-0.404043</td>\n",
       "      <td>0.003950</td>\n",
       "      <td>-0.001311</td>\n",
       "      <td>-0.221972</td>\n",
       "      <td>-0.261306</td>\n",
       "      <td>-0.261202</td>\n",
       "      <td>0.030005</td>\n",
       "      <td>-0.011993</td>\n",
       "      <td>0.015914</td>\n",
       "    </tr>\n",
       "    <tr>\n",
       "      <th>rainfall</th>\n",
       "      <td>0.108920</td>\n",
       "      <td>-0.070474</td>\n",
       "      <td>1.000000</td>\n",
       "      <td>-0.074045</td>\n",
       "      <td>-0.242960</td>\n",
       "      <td>0.261640</td>\n",
       "      <td>0.275481</td>\n",
       "      <td>-0.179367</td>\n",
       "      <td>-0.135641</td>\n",
       "      <td>0.013191</td>\n",
       "      <td>-0.075299</td>\n",
       "      <td>-0.061899</td>\n",
       "      <td>0.252958</td>\n",
       "      <td>-0.009644</td>\n",
       "      <td>-0.004275</td>\n",
       "      <td>0.550403</td>\n",
       "      <td>0.214724</td>\n",
       "      <td>0.188844</td>\n",
       "      <td>0.105783</td>\n",
       "      <td>0.049685</td>\n",
       "      <td>0.043294</td>\n",
       "    </tr>\n",
       "    <tr>\n",
       "      <th>evaporation</th>\n",
       "      <td>0.504563</td>\n",
       "      <td>0.645171</td>\n",
       "      <td>-0.074045</td>\n",
       "      <td>1.000000</td>\n",
       "      <td>0.365619</td>\n",
       "      <td>-0.549290</td>\n",
       "      <td>-0.415304</td>\n",
       "      <td>-0.295733</td>\n",
       "      <td>-0.323086</td>\n",
       "      <td>0.590351</td>\n",
       "      <td>0.623806</td>\n",
       "      <td>0.505210</td>\n",
       "      <td>-0.376074</td>\n",
       "      <td>0.009231</td>\n",
       "      <td>-0.000972</td>\n",
       "      <td>-0.215441</td>\n",
       "      <td>-0.193361</td>\n",
       "      <td>-0.199779</td>\n",
       "      <td>0.206127</td>\n",
       "      <td>0.190176</td>\n",
       "      <td>0.127353</td>\n",
       "    </tr>\n",
       "    <tr>\n",
       "      <th>sunshine</th>\n",
       "      <td>0.078985</td>\n",
       "      <td>0.464880</td>\n",
       "      <td>-0.242960</td>\n",
       "      <td>0.365619</td>\n",
       "      <td>1.000000</td>\n",
       "      <td>-0.498152</td>\n",
       "      <td>-0.627710</td>\n",
       "      <td>0.044250</td>\n",
       "      <td>-0.019505</td>\n",
       "      <td>0.290785</td>\n",
       "      <td>0.486674</td>\n",
       "      <td>0.359636</td>\n",
       "      <td>-0.571155</td>\n",
       "      <td>-0.001739</td>\n",
       "      <td>0.004112</td>\n",
       "      <td>-0.325735</td>\n",
       "      <td>-0.676787</td>\n",
       "      <td>-0.703123</td>\n",
       "      <td>-0.052478</td>\n",
       "      <td>-0.013522</td>\n",
       "      <td>0.033990</td>\n",
       "    </tr>\n",
       "    <tr>\n",
       "      <th>humidity9am</th>\n",
       "      <td>-0.172991</td>\n",
       "      <td>-0.488880</td>\n",
       "      <td>0.261640</td>\n",
       "      <td>-0.549290</td>\n",
       "      <td>-0.498152</td>\n",
       "      <td>1.000000</td>\n",
       "      <td>0.682516</td>\n",
       "      <td>0.117002</td>\n",
       "      <td>0.173397</td>\n",
       "      <td>-0.419391</td>\n",
       "      <td>-0.479974</td>\n",
       "      <td>-0.382191</td>\n",
       "      <td>0.620706</td>\n",
       "      <td>-0.005130</td>\n",
       "      <td>0.000041</td>\n",
       "      <td>0.377567</td>\n",
       "      <td>0.433127</td>\n",
       "      <td>0.345627</td>\n",
       "      <td>-0.196586</td>\n",
       "      <td>-0.240400</td>\n",
       "      <td>-0.107701</td>\n",
       "    </tr>\n",
       "    <tr>\n",
       "      <th>humidity3pm</th>\n",
       "      <td>0.069594</td>\n",
       "      <td>-0.444525</td>\n",
       "      <td>0.275481</td>\n",
       "      <td>-0.415304</td>\n",
       "      <td>-0.627710</td>\n",
       "      <td>0.682516</td>\n",
       "      <td>1.000000</td>\n",
       "      <td>-0.061850</td>\n",
       "      <td>0.024021</td>\n",
       "      <td>-0.151021</td>\n",
       "      <td>-0.494088</td>\n",
       "      <td>-0.347821</td>\n",
       "      <td>0.909306</td>\n",
       "      <td>-0.004565</td>\n",
       "      <td>-0.000998</td>\n",
       "      <td>0.381983</td>\n",
       "      <td>0.504211</td>\n",
       "      <td>0.508928</td>\n",
       "      <td>-0.045567</td>\n",
       "      <td>-0.062997</td>\n",
       "      <td>0.022707</td>\n",
       "    </tr>\n",
       "    <tr>\n",
       "      <th>pressure9am</th>\n",
       "      <td>-0.466959</td>\n",
       "      <td>-0.340065</td>\n",
       "      <td>-0.179367</td>\n",
       "      <td>-0.295733</td>\n",
       "      <td>0.044250</td>\n",
       "      <td>0.117002</td>\n",
       "      <td>-0.061850</td>\n",
       "      <td>1.000000</td>\n",
       "      <td>0.961335</td>\n",
       "      <td>-0.433974</td>\n",
       "      <td>-0.299276</td>\n",
       "      <td>-0.262955</td>\n",
       "      <td>-0.054818</td>\n",
       "      <td>-0.003109</td>\n",
       "      <td>0.003460</td>\n",
       "      <td>-0.187663</td>\n",
       "      <td>-0.151748</td>\n",
       "      <td>-0.165347</td>\n",
       "      <td>-0.434927</td>\n",
       "      <td>-0.202079</td>\n",
       "      <td>-0.295709</td>\n",
       "    </tr>\n",
       "    <tr>\n",
       "      <th>pressure3pm</th>\n",
       "      <td>-0.487898</td>\n",
       "      <td>-0.441244</td>\n",
       "      <td>-0.135641</td>\n",
       "      <td>-0.323086</td>\n",
       "      <td>-0.019505</td>\n",
       "      <td>0.173397</td>\n",
       "      <td>0.024021</td>\n",
       "      <td>0.961335</td>\n",
       "      <td>1.000000</td>\n",
       "      <td>-0.491718</td>\n",
       "      <td>-0.410349</td>\n",
       "      <td>-0.342480</td>\n",
       "      <td>0.023314</td>\n",
       "      <td>-0.003299</td>\n",
       "      <td>0.003799</td>\n",
       "      <td>-0.105297</td>\n",
       "      <td>-0.084141</td>\n",
       "      <td>-0.102970</td>\n",
       "      <td>-0.388885</td>\n",
       "      <td>-0.156239</td>\n",
       "      <td>-0.256598</td>\n",
       "    </tr>\n",
       "    <tr>\n",
       "      <th>temp9am</th>\n",
       "      <td>0.906678</td>\n",
       "      <td>0.894113</td>\n",
       "      <td>0.013191</td>\n",
       "      <td>0.590351</td>\n",
       "      <td>0.290785</td>\n",
       "      <td>-0.419391</td>\n",
       "      <td>-0.151021</td>\n",
       "      <td>-0.433974</td>\n",
       "      <td>-0.491718</td>\n",
       "      <td>1.000000</td>\n",
       "      <td>0.870990</td>\n",
       "      <td>0.698298</td>\n",
       "      <td>-0.137038</td>\n",
       "      <td>0.003672</td>\n",
       "      <td>0.000664</td>\n",
       "      <td>-0.097624</td>\n",
       "      <td>-0.108630</td>\n",
       "      <td>-0.111310</td>\n",
       "      <td>0.080846</td>\n",
       "      <td>0.047931</td>\n",
       "      <td>0.114723</td>\n",
       "    </tr>\n",
       "    <tr>\n",
       "      <th>temp3pm</th>\n",
       "      <td>0.728575</td>\n",
       "      <td>0.984556</td>\n",
       "      <td>-0.075299</td>\n",
       "      <td>0.623806</td>\n",
       "      <td>0.486674</td>\n",
       "      <td>-0.479974</td>\n",
       "      <td>-0.494088</td>\n",
       "      <td>-0.299276</td>\n",
       "      <td>-0.410349</td>\n",
       "      <td>0.870990</td>\n",
       "      <td>1.000000</td>\n",
       "      <td>0.768917</td>\n",
       "      <td>-0.449140</td>\n",
       "      <td>0.003509</td>\n",
       "      <td>-0.001032</td>\n",
       "      <td>-0.228432</td>\n",
       "      <td>-0.278550</td>\n",
       "      <td>-0.300269</td>\n",
       "      <td>-0.005920</td>\n",
       "      <td>-0.022267</td>\n",
       "      <td>-0.005726</td>\n",
       "    </tr>\n",
       "    <tr>\n",
       "      <th>temp</th>\n",
       "      <td>0.585605</td>\n",
       "      <td>0.780458</td>\n",
       "      <td>-0.061899</td>\n",
       "      <td>0.505210</td>\n",
       "      <td>0.359636</td>\n",
       "      <td>-0.382191</td>\n",
       "      <td>-0.347821</td>\n",
       "      <td>-0.262955</td>\n",
       "      <td>-0.342480</td>\n",
       "      <td>0.698298</td>\n",
       "      <td>0.768917</td>\n",
       "      <td>1.000000</td>\n",
       "      <td>-0.316345</td>\n",
       "      <td>0.000199</td>\n",
       "      <td>-0.000144</td>\n",
       "      <td>-0.174524</td>\n",
       "      <td>-0.203093</td>\n",
       "      <td>-0.203970</td>\n",
       "      <td>0.025337</td>\n",
       "      <td>-0.007131</td>\n",
       "      <td>0.011946</td>\n",
       "    </tr>\n",
       "    <tr>\n",
       "      <th>humidity</th>\n",
       "      <td>0.062698</td>\n",
       "      <td>-0.404043</td>\n",
       "      <td>0.252958</td>\n",
       "      <td>-0.376074</td>\n",
       "      <td>-0.571155</td>\n",
       "      <td>0.620706</td>\n",
       "      <td>0.909306</td>\n",
       "      <td>-0.054818</td>\n",
       "      <td>0.023314</td>\n",
       "      <td>-0.137038</td>\n",
       "      <td>-0.449140</td>\n",
       "      <td>-0.316345</td>\n",
       "      <td>1.000000</td>\n",
       "      <td>-0.005204</td>\n",
       "      <td>-0.002052</td>\n",
       "      <td>0.346446</td>\n",
       "      <td>0.457588</td>\n",
       "      <td>0.463137</td>\n",
       "      <td>-0.040691</td>\n",
       "      <td>-0.056789</td>\n",
       "      <td>0.022938</td>\n",
       "    </tr>\n",
       "    <tr>\n",
       "      <th>precipitation3pm</th>\n",
       "      <td>0.003044</td>\n",
       "      <td>0.003950</td>\n",
       "      <td>-0.009644</td>\n",
       "      <td>0.009231</td>\n",
       "      <td>-0.001739</td>\n",
       "      <td>-0.005130</td>\n",
       "      <td>-0.004565</td>\n",
       "      <td>-0.003109</td>\n",
       "      <td>-0.003299</td>\n",
       "      <td>0.003672</td>\n",
       "      <td>0.003509</td>\n",
       "      <td>0.000199</td>\n",
       "      <td>-0.005204</td>\n",
       "      <td>1.000000</td>\n",
       "      <td>0.004146</td>\n",
       "      <td>-0.003279</td>\n",
       "      <td>-0.000492</td>\n",
       "      <td>0.000602</td>\n",
       "      <td>0.007498</td>\n",
       "      <td>0.009777</td>\n",
       "      <td>0.006408</td>\n",
       "    </tr>\n",
       "    <tr>\n",
       "      <th>precipitation9am</th>\n",
       "      <td>-0.000448</td>\n",
       "      <td>-0.001311</td>\n",
       "      <td>-0.004275</td>\n",
       "      <td>-0.000972</td>\n",
       "      <td>0.004112</td>\n",
       "      <td>0.000041</td>\n",
       "      <td>-0.000998</td>\n",
       "      <td>0.003460</td>\n",
       "      <td>0.003799</td>\n",
       "      <td>0.000664</td>\n",
       "      <td>-0.001032</td>\n",
       "      <td>-0.000144</td>\n",
       "      <td>-0.002052</td>\n",
       "      <td>0.004146</td>\n",
       "      <td>1.000000</td>\n",
       "      <td>-0.004499</td>\n",
       "      <td>0.001017</td>\n",
       "      <td>-0.005676</td>\n",
       "      <td>0.000192</td>\n",
       "      <td>0.005947</td>\n",
       "      <td>0.002060</td>\n",
       "    </tr>\n",
       "    <tr>\n",
       "      <th>raintoday</th>\n",
       "      <td>0.046411</td>\n",
       "      <td>-0.221972</td>\n",
       "      <td>0.550403</td>\n",
       "      <td>-0.215441</td>\n",
       "      <td>-0.325735</td>\n",
       "      <td>0.377567</td>\n",
       "      <td>0.381983</td>\n",
       "      <td>-0.187663</td>\n",
       "      <td>-0.105297</td>\n",
       "      <td>-0.097624</td>\n",
       "      <td>-0.228432</td>\n",
       "      <td>-0.174524</td>\n",
       "      <td>0.346446</td>\n",
       "      <td>-0.003279</td>\n",
       "      <td>-0.004499</td>\n",
       "      <td>1.000000</td>\n",
       "      <td>0.293103</td>\n",
       "      <td>0.268137</td>\n",
       "      <td>0.144298</td>\n",
       "      <td>0.080286</td>\n",
       "      <td>0.081672</td>\n",
       "    </tr>\n",
       "    <tr>\n",
       "      <th>cloud9am</th>\n",
       "      <td>0.104685</td>\n",
       "      <td>-0.261306</td>\n",
       "      <td>0.214724</td>\n",
       "      <td>-0.193361</td>\n",
       "      <td>-0.676787</td>\n",
       "      <td>0.433127</td>\n",
       "      <td>0.504211</td>\n",
       "      <td>-0.151748</td>\n",
       "      <td>-0.084141</td>\n",
       "      <td>-0.108630</td>\n",
       "      <td>-0.278550</td>\n",
       "      <td>-0.203093</td>\n",
       "      <td>0.457588</td>\n",
       "      <td>-0.000492</td>\n",
       "      <td>0.001017</td>\n",
       "      <td>0.293103</td>\n",
       "      <td>1.000000</td>\n",
       "      <td>0.612153</td>\n",
       "      <td>0.089123</td>\n",
       "      <td>0.032950</td>\n",
       "      <td>0.065776</td>\n",
       "    </tr>\n",
       "    <tr>\n",
       "      <th>cloud3pm</th>\n",
       "      <td>0.037394</td>\n",
       "      <td>-0.261202</td>\n",
       "      <td>0.188844</td>\n",
       "      <td>-0.199779</td>\n",
       "      <td>-0.703123</td>\n",
       "      <td>0.345627</td>\n",
       "      <td>0.508928</td>\n",
       "      <td>-0.165347</td>\n",
       "      <td>-0.102970</td>\n",
       "      <td>-0.111310</td>\n",
       "      <td>-0.300269</td>\n",
       "      <td>-0.203970</td>\n",
       "      <td>0.463137</td>\n",
       "      <td>0.000602</td>\n",
       "      <td>-0.005676</td>\n",
       "      <td>0.268137</td>\n",
       "      <td>0.612153</td>\n",
       "      <td>1.000000</td>\n",
       "      <td>0.132094</td>\n",
       "      <td>0.061788</td>\n",
       "      <td>0.040290</td>\n",
       "    </tr>\n",
       "    <tr>\n",
       "      <th>windgustspeed</th>\n",
       "      <td>0.111325</td>\n",
       "      <td>0.030005</td>\n",
       "      <td>0.105783</td>\n",
       "      <td>0.206127</td>\n",
       "      <td>-0.052478</td>\n",
       "      <td>-0.196586</td>\n",
       "      <td>-0.045567</td>\n",
       "      <td>-0.434927</td>\n",
       "      <td>-0.388885</td>\n",
       "      <td>0.080846</td>\n",
       "      <td>-0.005920</td>\n",
       "      <td>0.025337</td>\n",
       "      <td>-0.040691</td>\n",
       "      <td>0.007498</td>\n",
       "      <td>0.000192</td>\n",
       "      <td>0.144298</td>\n",
       "      <td>0.089123</td>\n",
       "      <td>0.132094</td>\n",
       "      <td>1.000000</td>\n",
       "      <td>0.609841</td>\n",
       "      <td>0.686537</td>\n",
       "    </tr>\n",
       "    <tr>\n",
       "      <th>windspeed9am</th>\n",
       "      <td>0.099693</td>\n",
       "      <td>-0.011993</td>\n",
       "      <td>0.049685</td>\n",
       "      <td>0.190176</td>\n",
       "      <td>-0.013522</td>\n",
       "      <td>-0.240400</td>\n",
       "      <td>-0.062997</td>\n",
       "      <td>-0.202079</td>\n",
       "      <td>-0.156239</td>\n",
       "      <td>0.047931</td>\n",
       "      <td>-0.022267</td>\n",
       "      <td>-0.007131</td>\n",
       "      <td>-0.056789</td>\n",
       "      <td>0.009777</td>\n",
       "      <td>0.005947</td>\n",
       "      <td>0.080286</td>\n",
       "      <td>0.032950</td>\n",
       "      <td>0.061788</td>\n",
       "      <td>0.609841</td>\n",
       "      <td>1.000000</td>\n",
       "      <td>0.504279</td>\n",
       "    </tr>\n",
       "    <tr>\n",
       "      <th>windspeed3pm</th>\n",
       "      <td>0.134473</td>\n",
       "      <td>0.015914</td>\n",
       "      <td>0.043294</td>\n",
       "      <td>0.127353</td>\n",
       "      <td>0.033990</td>\n",
       "      <td>-0.107701</td>\n",
       "      <td>0.022707</td>\n",
       "      <td>-0.295709</td>\n",
       "      <td>-0.256598</td>\n",
       "      <td>0.114723</td>\n",
       "      <td>-0.005726</td>\n",
       "      <td>0.011946</td>\n",
       "      <td>0.022938</td>\n",
       "      <td>0.006408</td>\n",
       "      <td>0.002060</td>\n",
       "      <td>0.081672</td>\n",
       "      <td>0.065776</td>\n",
       "      <td>0.040290</td>\n",
       "      <td>0.686537</td>\n",
       "      <td>0.504279</td>\n",
       "      <td>1.000000</td>\n",
       "    </tr>\n",
       "  </tbody>\n",
       "</table>\n",
       "</div>"
      ],
      "text/plain": [
       "                   mintemp   maxtemp  rainfall  evaporation  sunshine  \\\n",
       "mintemp           1.000000  0.751131  0.108920     0.504563  0.078985   \n",
       "maxtemp           0.751131  1.000000 -0.070474     0.645171  0.464880   \n",
       "rainfall          0.108920 -0.070474  1.000000    -0.074045 -0.242960   \n",
       "evaporation       0.504563  0.645171 -0.074045     1.000000  0.365619   \n",
       "sunshine          0.078985  0.464880 -0.242960     0.365619  1.000000   \n",
       "humidity9am      -0.172991 -0.488880  0.261640    -0.549290 -0.498152   \n",
       "humidity3pm       0.069594 -0.444525  0.275481    -0.415304 -0.627710   \n",
       "pressure9am      -0.466959 -0.340065 -0.179367    -0.295733  0.044250   \n",
       "pressure3pm      -0.487898 -0.441244 -0.135641    -0.323086 -0.019505   \n",
       "temp9am           0.906678  0.894113  0.013191     0.590351  0.290785   \n",
       "temp3pm           0.728575  0.984556 -0.075299     0.623806  0.486674   \n",
       "temp              0.585605  0.780458 -0.061899     0.505210  0.359636   \n",
       "humidity          0.062698 -0.404043  0.252958    -0.376074 -0.571155   \n",
       "precipitation3pm  0.003044  0.003950 -0.009644     0.009231 -0.001739   \n",
       "precipitation9am -0.000448 -0.001311 -0.004275    -0.000972  0.004112   \n",
       "raintoday         0.046411 -0.221972  0.550403    -0.215441 -0.325735   \n",
       "cloud9am          0.104685 -0.261306  0.214724    -0.193361 -0.676787   \n",
       "cloud3pm          0.037394 -0.261202  0.188844    -0.199779 -0.703123   \n",
       "windgustspeed     0.111325  0.030005  0.105783     0.206127 -0.052478   \n",
       "windspeed9am      0.099693 -0.011993  0.049685     0.190176 -0.013522   \n",
       "windspeed3pm      0.134473  0.015914  0.043294     0.127353  0.033990   \n",
       "\n",
       "                  humidity9am  humidity3pm  pressure9am  pressure3pm  \\\n",
       "mintemp             -0.172991     0.069594    -0.466959    -0.487898   \n",
       "maxtemp             -0.488880    -0.444525    -0.340065    -0.441244   \n",
       "rainfall             0.261640     0.275481    -0.179367    -0.135641   \n",
       "evaporation         -0.549290    -0.415304    -0.295733    -0.323086   \n",
       "sunshine            -0.498152    -0.627710     0.044250    -0.019505   \n",
       "humidity9am          1.000000     0.682516     0.117002     0.173397   \n",
       "humidity3pm          0.682516     1.000000    -0.061850     0.024021   \n",
       "pressure9am          0.117002    -0.061850     1.000000     0.961335   \n",
       "pressure3pm          0.173397     0.024021     0.961335     1.000000   \n",
       "temp9am             -0.419391    -0.151021    -0.433974    -0.491718   \n",
       "temp3pm             -0.479974    -0.494088    -0.299276    -0.410349   \n",
       "temp                -0.382191    -0.347821    -0.262955    -0.342480   \n",
       "humidity             0.620706     0.909306    -0.054818     0.023314   \n",
       "precipitation3pm    -0.005130    -0.004565    -0.003109    -0.003299   \n",
       "precipitation9am     0.000041    -0.000998     0.003460     0.003799   \n",
       "raintoday            0.377567     0.381983    -0.187663    -0.105297   \n",
       "cloud9am             0.433127     0.504211    -0.151748    -0.084141   \n",
       "cloud3pm             0.345627     0.508928    -0.165347    -0.102970   \n",
       "windgustspeed       -0.196586    -0.045567    -0.434927    -0.388885   \n",
       "windspeed9am        -0.240400    -0.062997    -0.202079    -0.156239   \n",
       "windspeed3pm        -0.107701     0.022707    -0.295709    -0.256598   \n",
       "\n",
       "                   temp9am   temp3pm      temp  humidity  precipitation3pm  \\\n",
       "mintemp           0.906678  0.728575  0.585605  0.062698          0.003044   \n",
       "maxtemp           0.894113  0.984556  0.780458 -0.404043          0.003950   \n",
       "rainfall          0.013191 -0.075299 -0.061899  0.252958         -0.009644   \n",
       "evaporation       0.590351  0.623806  0.505210 -0.376074          0.009231   \n",
       "sunshine          0.290785  0.486674  0.359636 -0.571155         -0.001739   \n",
       "humidity9am      -0.419391 -0.479974 -0.382191  0.620706         -0.005130   \n",
       "humidity3pm      -0.151021 -0.494088 -0.347821  0.909306         -0.004565   \n",
       "pressure9am      -0.433974 -0.299276 -0.262955 -0.054818         -0.003109   \n",
       "pressure3pm      -0.491718 -0.410349 -0.342480  0.023314         -0.003299   \n",
       "temp9am           1.000000  0.870990  0.698298 -0.137038          0.003672   \n",
       "temp3pm           0.870990  1.000000  0.768917 -0.449140          0.003509   \n",
       "temp              0.698298  0.768917  1.000000 -0.316345          0.000199   \n",
       "humidity         -0.137038 -0.449140 -0.316345  1.000000         -0.005204   \n",
       "precipitation3pm  0.003672  0.003509  0.000199 -0.005204          1.000000   \n",
       "precipitation9am  0.000664 -0.001032 -0.000144 -0.002052          0.004146   \n",
       "raintoday        -0.097624 -0.228432 -0.174524  0.346446         -0.003279   \n",
       "cloud9am         -0.108630 -0.278550 -0.203093  0.457588         -0.000492   \n",
       "cloud3pm         -0.111310 -0.300269 -0.203970  0.463137          0.000602   \n",
       "windgustspeed     0.080846 -0.005920  0.025337 -0.040691          0.007498   \n",
       "windspeed9am      0.047931 -0.022267 -0.007131 -0.056789          0.009777   \n",
       "windspeed3pm      0.114723 -0.005726  0.011946  0.022938          0.006408   \n",
       "\n",
       "                  precipitation9am  raintoday  cloud9am  cloud3pm  \\\n",
       "mintemp                  -0.000448   0.046411  0.104685  0.037394   \n",
       "maxtemp                  -0.001311  -0.221972 -0.261306 -0.261202   \n",
       "rainfall                 -0.004275   0.550403  0.214724  0.188844   \n",
       "evaporation              -0.000972  -0.215441 -0.193361 -0.199779   \n",
       "sunshine                  0.004112  -0.325735 -0.676787 -0.703123   \n",
       "humidity9am               0.000041   0.377567  0.433127  0.345627   \n",
       "humidity3pm              -0.000998   0.381983  0.504211  0.508928   \n",
       "pressure9am               0.003460  -0.187663 -0.151748 -0.165347   \n",
       "pressure3pm               0.003799  -0.105297 -0.084141 -0.102970   \n",
       "temp9am                   0.000664  -0.097624 -0.108630 -0.111310   \n",
       "temp3pm                  -0.001032  -0.228432 -0.278550 -0.300269   \n",
       "temp                     -0.000144  -0.174524 -0.203093 -0.203970   \n",
       "humidity                 -0.002052   0.346446  0.457588  0.463137   \n",
       "precipitation3pm          0.004146  -0.003279 -0.000492  0.000602   \n",
       "precipitation9am          1.000000  -0.004499  0.001017 -0.005676   \n",
       "raintoday                -0.004499   1.000000  0.293103  0.268137   \n",
       "cloud9am                  0.001017   0.293103  1.000000  0.612153   \n",
       "cloud3pm                 -0.005676   0.268137  0.612153  1.000000   \n",
       "windgustspeed             0.000192   0.144298  0.089123  0.132094   \n",
       "windspeed9am              0.005947   0.080286  0.032950  0.061788   \n",
       "windspeed3pm              0.002060   0.081672  0.065776  0.040290   \n",
       "\n",
       "                  windgustspeed  windspeed9am  windspeed3pm  \n",
       "mintemp                0.111325      0.099693      0.134473  \n",
       "maxtemp                0.030005     -0.011993      0.015914  \n",
       "rainfall               0.105783      0.049685      0.043294  \n",
       "evaporation            0.206127      0.190176      0.127353  \n",
       "sunshine              -0.052478     -0.013522      0.033990  \n",
       "humidity9am           -0.196586     -0.240400     -0.107701  \n",
       "humidity3pm           -0.045567     -0.062997      0.022707  \n",
       "pressure9am           -0.434927     -0.202079     -0.295709  \n",
       "pressure3pm           -0.388885     -0.156239     -0.256598  \n",
       "temp9am                0.080846      0.047931      0.114723  \n",
       "temp3pm               -0.005920     -0.022267     -0.005726  \n",
       "temp                   0.025337     -0.007131      0.011946  \n",
       "humidity              -0.040691     -0.056789      0.022938  \n",
       "precipitation3pm       0.007498      0.009777      0.006408  \n",
       "precipitation9am       0.000192      0.005947      0.002060  \n",
       "raintoday              0.144298      0.080286      0.081672  \n",
       "cloud9am               0.089123      0.032950      0.065776  \n",
       "cloud3pm               0.132094      0.061788      0.040290  \n",
       "windgustspeed          1.000000      0.609841      0.686537  \n",
       "windspeed9am           0.609841      1.000000      0.504279  \n",
       "windspeed3pm           0.686537      0.504279      1.000000  "
      ]
     },
     "execution_count": 73,
     "metadata": {},
     "output_type": "execute_result"
    }
   ],
   "source": [
    "X.corr()"
   ]
  },
  {
   "cell_type": "code",
   "execution_count": 74,
   "metadata": {},
   "outputs": [
    {
     "data": {
      "text/html": [
       "<div>\n",
       "<style scoped>\n",
       "    .dataframe tbody tr th:only-of-type {\n",
       "        vertical-align: middle;\n",
       "    }\n",
       "\n",
       "    .dataframe tbody tr th {\n",
       "        vertical-align: top;\n",
       "    }\n",
       "\n",
       "    .dataframe thead th {\n",
       "        text-align: right;\n",
       "    }\n",
       "</style>\n",
       "<table border=\"1\" class=\"dataframe\">\n",
       "  <thead>\n",
       "    <tr style=\"text-align: right;\">\n",
       "      <th></th>\n",
       "      <th>coef</th>\n",
       "      <th>variables</th>\n",
       "    </tr>\n",
       "  </thead>\n",
       "  <tbody>\n",
       "    <tr>\n",
       "      <th>8</th>\n",
       "      <td>-1.348100</td>\n",
       "      <td>pressure3pm</td>\n",
       "    </tr>\n",
       "    <tr>\n",
       "      <th>4</th>\n",
       "      <td>-0.544215</td>\n",
       "      <td>sunshine</td>\n",
       "    </tr>\n",
       "    <tr>\n",
       "      <th>0</th>\n",
       "      <td>-0.290992</td>\n",
       "      <td>mintemp</td>\n",
       "    </tr>\n",
       "    <tr>\n",
       "      <th>20</th>\n",
       "      <td>-0.215768</td>\n",
       "      <td>windspeed3pm</td>\n",
       "    </tr>\n",
       "    <tr>\n",
       "      <th>19</th>\n",
       "      <td>-0.119216</td>\n",
       "      <td>windspeed9am</td>\n",
       "    </tr>\n",
       "    <tr>\n",
       "      <th>16</th>\n",
       "      <td>-0.065880</td>\n",
       "      <td>cloud9am</td>\n",
       "    </tr>\n",
       "    <tr>\n",
       "      <th>14</th>\n",
       "      <td>-0.033136</td>\n",
       "      <td>precipitation9am</td>\n",
       "    </tr>\n",
       "    <tr>\n",
       "      <th>3</th>\n",
       "      <td>-0.024009</td>\n",
       "      <td>evaporation</td>\n",
       "    </tr>\n",
       "    <tr>\n",
       "      <th>12</th>\n",
       "      <td>-0.016363</td>\n",
       "      <td>humidity</td>\n",
       "    </tr>\n",
       "    <tr>\n",
       "      <th>11</th>\n",
       "      <td>-0.010084</td>\n",
       "      <td>temp</td>\n",
       "    </tr>\n",
       "    <tr>\n",
       "      <th>5</th>\n",
       "      <td>0.022381</td>\n",
       "      <td>humidity9am</td>\n",
       "    </tr>\n",
       "    <tr>\n",
       "      <th>10</th>\n",
       "      <td>0.024569</td>\n",
       "      <td>temp3pm</td>\n",
       "    </tr>\n",
       "    <tr>\n",
       "      <th>13</th>\n",
       "      <td>0.025179</td>\n",
       "      <td>precipitation3pm</td>\n",
       "    </tr>\n",
       "    <tr>\n",
       "      <th>2</th>\n",
       "      <td>0.067671</td>\n",
       "      <td>rainfall</td>\n",
       "    </tr>\n",
       "    <tr>\n",
       "      <th>1</th>\n",
       "      <td>0.099685</td>\n",
       "      <td>maxtemp</td>\n",
       "    </tr>\n",
       "    <tr>\n",
       "      <th>15</th>\n",
       "      <td>0.202088</td>\n",
       "      <td>raintoday</td>\n",
       "    </tr>\n",
       "    <tr>\n",
       "      <th>9</th>\n",
       "      <td>0.238541</td>\n",
       "      <td>temp9am</td>\n",
       "    </tr>\n",
       "    <tr>\n",
       "      <th>17</th>\n",
       "      <td>0.337652</td>\n",
       "      <td>cloud3pm</td>\n",
       "    </tr>\n",
       "    <tr>\n",
       "      <th>18</th>\n",
       "      <td>0.758693</td>\n",
       "      <td>windgustspeed</td>\n",
       "    </tr>\n",
       "    <tr>\n",
       "      <th>7</th>\n",
       "      <td>0.930734</td>\n",
       "      <td>pressure9am</td>\n",
       "    </tr>\n",
       "    <tr>\n",
       "      <th>6</th>\n",
       "      <td>1.143945</td>\n",
       "      <td>humidity3pm</td>\n",
       "    </tr>\n",
       "  </tbody>\n",
       "</table>\n",
       "</div>"
      ],
      "text/plain": [
       "        coef         variables\n",
       "8  -1.348100       pressure3pm\n",
       "4  -0.544215          sunshine\n",
       "0  -0.290992           mintemp\n",
       "20 -0.215768      windspeed3pm\n",
       "19 -0.119216      windspeed9am\n",
       "16 -0.065880          cloud9am\n",
       "14 -0.033136  precipitation9am\n",
       "3  -0.024009       evaporation\n",
       "12 -0.016363          humidity\n",
       "11 -0.010084              temp\n",
       "5   0.022381       humidity9am\n",
       "10  0.024569           temp3pm\n",
       "13  0.025179  precipitation3pm\n",
       "2   0.067671          rainfall\n",
       "1   0.099685           maxtemp\n",
       "15  0.202088         raintoday\n",
       "9   0.238541           temp9am\n",
       "17  0.337652          cloud3pm\n",
       "18  0.758693     windgustspeed\n",
       "7   0.930734       pressure9am\n",
       "6   1.143945       humidity3pm"
      ]
     },
     "execution_count": 74,
     "metadata": {},
     "output_type": "execute_result"
    }
   ],
   "source": [
    "pd.DataFrame(zip(logistic.coef_[0], X.columns), columns=['coef','variables']).sort_values(by='coef')"
   ]
  },
  {
   "cell_type": "markdown",
   "metadata": {},
   "source": [
    "## 4.5 Plotando o modelo mais complexo em Confusion matrix"
   ]
  },
  {
   "cell_type": "code",
   "execution_count": null,
   "metadata": {},
   "outputs": [],
   "source": []
  },
  {
   "cell_type": "code",
   "execution_count": null,
   "metadata": {},
   "outputs": [],
   "source": []
  },
  {
   "cell_type": "code",
   "execution_count": null,
   "metadata": {},
   "outputs": [],
   "source": []
  },
  {
   "cell_type": "code",
   "execution_count": null,
   "metadata": {},
   "outputs": [],
   "source": []
  },
  {
   "cell_type": "code",
   "execution_count": null,
   "metadata": {},
   "outputs": [],
   "source": []
  },
  {
   "cell_type": "code",
   "execution_count": null,
   "metadata": {},
   "outputs": [],
   "source": []
  },
  {
   "cell_type": "code",
   "execution_count": null,
   "metadata": {},
   "outputs": [],
   "source": []
  }
 ],
 "metadata": {
  "kernelspec": {
   "display_name": "Python 3",
   "language": "python",
   "name": "python3"
  },
  "language_info": {
   "codemirror_mode": {
    "name": "ipython",
    "version": 3
   },
   "file_extension": ".py",
   "mimetype": "text/x-python",
   "name": "python",
   "nbconvert_exporter": "python",
   "pygments_lexer": "ipython3",
   "version": "3.7.6"
  }
 },
 "nbformat": 4,
 "nbformat_minor": 4
}
