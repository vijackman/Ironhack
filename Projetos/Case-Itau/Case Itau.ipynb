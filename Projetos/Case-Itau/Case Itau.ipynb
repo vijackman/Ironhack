{
 "cells": [
  {
   "cell_type": "markdown",
   "metadata": {},
   "source": [
    "# Case Itau"
   ]
  },
  {
   "cell_type": "markdown",
   "metadata": {},
   "source": [
    "## Importar bibliotecas"
   ]
  },
  {
   "cell_type": "code",
   "execution_count": 47,
   "metadata": {},
   "outputs": [],
   "source": [
    "%matplotlib inline\n",
    "import matplotlib.pyplot as plt\n",
    "import pandas as pd\n",
    "import numpy as np"
   ]
  },
  {
   "cell_type": "markdown",
   "metadata": {},
   "source": [
    "Variable | Description\n",
    "---------|------------\n",
    "Date   |  The date of observation\n",
    "Location   |  The common name of the location of the weather station\n",
    "MinTemp   |  The minimum temperature in degrees celsius\n",
    "MaxTemp   |  The maximum temperature in degrees celsius\n",
    "Rainfall   |  The amount of rainfall recorded for the day in mm\n",
    "Evaporation   |  The so-called Class A pan evaporation (mm) in the 24 hours to 9am\n",
    "Sunshine   |  The number of hours of bright sunshine in the day.\n",
    "WindGustDir   |  The direction of the strongest wind gust in the 24 hours to midnight\n",
    "WindGustSpeed   |  The speed (km/h) of the strongest wind gust in the 24 hours to midnight\n",
    "WindDir9am   |  Direction of the wind at 9am\n",
    "WindDir3pm   |  Direction of the wind at 3pm\n",
    "WindSpeed9am   |  Wind speed (km/hr) averaged over 10 minutes prior to 9am\n",
    "WindSpeed3pm   |  Wind speed (km/hr) averaged over 10 minutes prior to 3pm\n",
    "Humidity9am   |  Humidity (percent) at 9am\n",
    "Humidity3pm   |  Humidity (percent) at 3pm\n",
    "Pressure9am   |  Atmospheric pressure (hpa) reduced to mean sea level at 9am\n",
    "Pressure3pm   |  Atmospheric pressure (hpa) reduced to mean sea level at 3pm\n",
    "Cloud9am   |  Fraction of sky obscured by cloud at 9am. This is measured in \"oktas\", which are a unit of eigths. It records how many eigths of the sky are obscured by cloud. A 0 measure indicates completely clear sky whilst an 8 indicates that it is completely overcast.\n",
    "Cloud3pm | Fraction of sky obscured by cloud (in \"oktas\": eighths) at 3pm. See Cload9am for a description of the values\n",
    "Temp9am |  Temperature (degrees C) at 9am\n",
    "Temp3pm |  Temperature (degrees C) at 3pm\n",
    "Precipitation9am |  The amount of rain in mm prior to 9am\n",
    "Precipitation3pm |  The amount of rain in mm prior to 3pm\n",
    "AmountOfRain |  The amount of rain in mm\n",
    "Temp |  Temperature (degrees C)\n",
    "Humidity |  Humidity (percent)\n",
    "RainToday |  Boolean: 1 if precipitation (mm) in the 24 hours to 9am exceeds 1mm, otherwise 0\n",
    "RainTomorrow |  The target variable. Did it rain tomorrow?"
   ]
  },
  {
   "cell_type": "markdown",
   "metadata": {},
   "source": [
    "## Importar arquivos"
   ]
  },
  {
   "cell_type": "code",
   "execution_count": 2,
   "metadata": {},
   "outputs": [
    {
     "data": {
      "text/plain": [
       "'C:\\\\Users\\\\victo\\\\Documents\\\\Ironhack\\\\Projetos\\\\Case-Itau'"
      ]
     },
     "execution_count": 2,
     "metadata": {},
     "output_type": "execute_result"
    }
   ],
   "source": [
    "pwd"
   ]
  },
  {
   "cell_type": "code",
   "execution_count": 27,
   "metadata": {
    "scrolled": false
   },
   "outputs": [
    {
     "data": {
      "text/html": [
       "<div>\n",
       "<style scoped>\n",
       "    .dataframe tbody tr th:only-of-type {\n",
       "        vertical-align: middle;\n",
       "    }\n",
       "\n",
       "    .dataframe tbody tr th {\n",
       "        vertical-align: top;\n",
       "    }\n",
       "\n",
       "    .dataframe thead th {\n",
       "        text-align: right;\n",
       "    }\n",
       "</style>\n",
       "<table border=\"1\" class=\"dataframe\">\n",
       "  <thead>\n",
       "    <tr style=\"text-align: right;\">\n",
       "      <th></th>\n",
       "      <th>date</th>\n",
       "      <th>location</th>\n",
       "      <th>mintemp</th>\n",
       "      <th>maxtemp</th>\n",
       "      <th>rainfall</th>\n",
       "      <th>evaporation</th>\n",
       "      <th>sunshine</th>\n",
       "      <th>humidity9am</th>\n",
       "      <th>humidity3pm</th>\n",
       "      <th>pressure9am</th>\n",
       "      <th>...</th>\n",
       "      <th>temp9am</th>\n",
       "      <th>temp3pm</th>\n",
       "      <th>raintoday</th>\n",
       "      <th>amountOfRain</th>\n",
       "      <th>raintomorrow</th>\n",
       "      <th>temp</th>\n",
       "      <th>humidity</th>\n",
       "      <th>precipitation3pm</th>\n",
       "      <th>precipitation9am</th>\n",
       "      <th>modelo_vigente</th>\n",
       "    </tr>\n",
       "  </thead>\n",
       "  <tbody>\n",
       "    <tr>\n",
       "      <th>0</th>\n",
       "      <td>2008-12-01</td>\n",
       "      <td>Albury</td>\n",
       "      <td>13.4</td>\n",
       "      <td>22.9</td>\n",
       "      <td>0.6</td>\n",
       "      <td>NaN</td>\n",
       "      <td>NaN</td>\n",
       "      <td>71.0</td>\n",
       "      <td>22.0</td>\n",
       "      <td>1007.7</td>\n",
       "      <td>...</td>\n",
       "      <td>16.9</td>\n",
       "      <td>21.8</td>\n",
       "      <td>No</td>\n",
       "      <td>0.0</td>\n",
       "      <td>No</td>\n",
       "      <td>29.48</td>\n",
       "      <td>28.400000</td>\n",
       "      <td>12</td>\n",
       "      <td>5.115360</td>\n",
       "      <td>0.089825</td>\n",
       "    </tr>\n",
       "    <tr>\n",
       "      <th>1</th>\n",
       "      <td>2008-12-02</td>\n",
       "      <td>Albury</td>\n",
       "      <td>7.4</td>\n",
       "      <td>25.1</td>\n",
       "      <td>0.0</td>\n",
       "      <td>NaN</td>\n",
       "      <td>NaN</td>\n",
       "      <td>44.0</td>\n",
       "      <td>25.0</td>\n",
       "      <td>1010.6</td>\n",
       "      <td>...</td>\n",
       "      <td>17.2</td>\n",
       "      <td>24.3</td>\n",
       "      <td>No</td>\n",
       "      <td>0.0</td>\n",
       "      <td>No</td>\n",
       "      <td>32.12</td>\n",
       "      <td>2.208569</td>\n",
       "      <td>10</td>\n",
       "      <td>21.497100</td>\n",
       "      <td>0.023477</td>\n",
       "    </tr>\n",
       "    <tr>\n",
       "      <th>2</th>\n",
       "      <td>2008-12-03</td>\n",
       "      <td>Albury</td>\n",
       "      <td>12.9</td>\n",
       "      <td>25.7</td>\n",
       "      <td>0.0</td>\n",
       "      <td>NaN</td>\n",
       "      <td>NaN</td>\n",
       "      <td>38.0</td>\n",
       "      <td>30.0</td>\n",
       "      <td>1007.6</td>\n",
       "      <td>...</td>\n",
       "      <td>21.0</td>\n",
       "      <td>23.2</td>\n",
       "      <td>No</td>\n",
       "      <td>0.0</td>\n",
       "      <td>No</td>\n",
       "      <td>32.84</td>\n",
       "      <td>38.000000</td>\n",
       "      <td>17</td>\n",
       "      <td>20.782859</td>\n",
       "      <td>0.027580</td>\n",
       "    </tr>\n",
       "  </tbody>\n",
       "</table>\n",
       "<p>3 rows × 23 columns</p>\n",
       "</div>"
      ],
      "text/plain": [
       "         date location  mintemp  maxtemp  rainfall  evaporation  sunshine  \\\n",
       "0  2008-12-01   Albury     13.4     22.9       0.6          NaN       NaN   \n",
       "1  2008-12-02   Albury      7.4     25.1       0.0          NaN       NaN   \n",
       "2  2008-12-03   Albury     12.9     25.7       0.0          NaN       NaN   \n",
       "\n",
       "   humidity9am  humidity3pm  pressure9am  ...  temp9am  temp3pm  raintoday  \\\n",
       "0         71.0         22.0       1007.7  ...     16.9     21.8         No   \n",
       "1         44.0         25.0       1010.6  ...     17.2     24.3         No   \n",
       "2         38.0         30.0       1007.6  ...     21.0     23.2         No   \n",
       "\n",
       "   amountOfRain  raintomorrow   temp   humidity precipitation3pm  \\\n",
       "0           0.0            No  29.48  28.400000               12   \n",
       "1           0.0            No  32.12   2.208569               10   \n",
       "2           0.0            No  32.84  38.000000               17   \n",
       "\n",
       "   precipitation9am  modelo_vigente  \n",
       "0          5.115360        0.089825  \n",
       "1         21.497100        0.023477  \n",
       "2         20.782859        0.027580  \n",
       "\n",
       "[3 rows x 23 columns]"
      ]
     },
     "execution_count": 27,
     "metadata": {},
     "output_type": "execute_result"
    }
   ],
   "source": [
    "rain_aus=pd.read_csv('./data/rain_data_aus.csv')\n",
    "wind_01=pd.read_csv('./data/wind_table_01.csv')\n",
    "wind_02=pd.read_csv('./data/wind_table_02.csv')\n",
    "wind_03=pd.read_csv('./data/wind_table_03.csv')\n",
    "wind_04=pd.read_csv('./data/wind_table_04.csv')\n",
    "wind_05=pd.read_csv('./data/wind_table_05.csv')\n",
    "wind_06=pd.read_csv('./data/wind_table_06.csv')\n",
    "wind_07=pd.read_csv('./data/wind_table_07.csv')\n",
    "wind_08=pd.read_csv('./data/wind_table_08.csv')\n",
    "rain_aus.head(3)"
   ]
  },
  {
   "cell_type": "code",
   "execution_count": 30,
   "metadata": {},
   "outputs": [
    {
     "data": {
      "text/plain": [
       "array([ nan, 12.3, 13. , 13.3, 10.6, 12.2,  8.4,  0. , 12.6, 13.2, 12.7,\n",
       "       12.1, 10.3, 13.1, 12.9, 11.3,  6.9, 10.9,  3.7,  5.9, 10.5, 12.4,\n",
       "       13.4, 13.6,  7.4, 10. ,  2.3,  6.6,  0.3, 10.7, 11.6, 10.2,  9. ,\n",
       "       12. ,  3. ,  7.9, 11.5, 11.2,  4.8,  5.8,  6. , 11.1, 11.8, 11.4,\n",
       "       10.8,  7.8, 11. ,  5.5,  4.7,  4.2,  4.4,  6.2,  9.8,  9.9,  4.3,\n",
       "        8. ,  9.6, 10.4,  9.3,  8.7,  7.6,  7.5, 10.1,  6.3,  2.8,  0.7,\n",
       "        9.4,  9.7,  0.6,  5.1,  8.3,  4.1,  3.9,  6.8,  8.6,  2.7,  8.2,\n",
       "        3.1,  1.8,  0.1,  0.8,  3.4,  7.1,  5. ,  5.7,  6.1,  7. ,  2.9,\n",
       "        2.5,  4.6,  8.9,  9.1,  1.7,  8.1,  9.5,  1.2,  1.4,  8.8,  2.2,\n",
       "        3.5,  9.2,  1.9, 11.7, 11.9,  7.7,  0.9, 12.5,  2.1, 12.8, 13.7,\n",
       "        8.5,  0.2,  4. ,  2.4,  5.2,  0.5,  6.4,  4.5,  1.1,  2. ,  0.4,\n",
       "        1.5,  3.3,  6.5,  2.6,  3.8,  3.6,  3.2,  6.7,  5.4,  7.2,  4.9,\n",
       "        1. ,  1.6,  5.3,  7.3,  5.6,  1.3, 13.8, 13.5, 14. , 13.9, 14.1,\n",
       "       14.5, 14.3, 14.2])"
      ]
     },
     "execution_count": 30,
     "metadata": {},
     "output_type": "execute_result"
    }
   ],
   "source": [
    "rain_aus['sunshine'].unique()"
   ]
  },
  {
   "cell_type": "markdown",
   "metadata": {},
   "source": [
    "### Exploring data"
   ]
  },
  {
   "cell_type": "code",
   "execution_count": 15,
   "metadata": {},
   "outputs": [
    {
     "data": {
      "text/plain": [
       "(142193, 23)"
      ]
     },
     "execution_count": 15,
     "metadata": {},
     "output_type": "execute_result"
    }
   ],
   "source": [
    "rain_aus.shape"
   ]
  },
  {
   "cell_type": "code",
   "execution_count": 41,
   "metadata": {},
   "outputs": [
    {
     "data": {
      "text/plain": [
       "((20000, 8),\n",
       " (20000, 8),\n",
       " (20000, 8),\n",
       " (20000, 8),\n",
       " (20000, 8),\n",
       " (20000, 8),\n",
       " (22193, 8),\n",
       " (22193, 8))"
      ]
     },
     "execution_count": 41,
     "metadata": {},
     "output_type": "execute_result"
    }
   ],
   "source": [
    "wind_01.shape, wind_02.shape, wind_03.shape, wind_04.shape, wind_05.shape, wind_06.shape, wind_07.shape, wind_08.shape"
   ]
  },
  {
   "cell_type": "code",
   "execution_count": 20,
   "metadata": {},
   "outputs": [
    {
     "data": {
      "text/html": [
       "<div>\n",
       "<style scoped>\n",
       "    .dataframe tbody tr th:only-of-type {\n",
       "        vertical-align: middle;\n",
       "    }\n",
       "\n",
       "    .dataframe tbody tr th {\n",
       "        vertical-align: top;\n",
       "    }\n",
       "\n",
       "    .dataframe thead th {\n",
       "        text-align: right;\n",
       "    }\n",
       "</style>\n",
       "<table border=\"1\" class=\"dataframe\">\n",
       "  <thead>\n",
       "    <tr style=\"text-align: right;\">\n",
       "      <th></th>\n",
       "      <th>date</th>\n",
       "      <th>location</th>\n",
       "      <th>wind_gustdir</th>\n",
       "      <th>wind_gustspeed</th>\n",
       "      <th>wind_dir9am</th>\n",
       "      <th>wind_dir3pm</th>\n",
       "      <th>wind_speed9am</th>\n",
       "      <th>wind_speed3pm</th>\n",
       "    </tr>\n",
       "  </thead>\n",
       "  <tbody>\n",
       "    <tr>\n",
       "      <th>0</th>\n",
       "      <td>2007-11-01</td>\n",
       "      <td>Canberra</td>\n",
       "      <td>NW</td>\n",
       "      <td>30.0</td>\n",
       "      <td>SW</td>\n",
       "      <td>NW</td>\n",
       "      <td>6.0</td>\n",
       "      <td>20.0</td>\n",
       "    </tr>\n",
       "    <tr>\n",
       "      <th>1</th>\n",
       "      <td>2007-11-02</td>\n",
       "      <td>Canberra</td>\n",
       "      <td>ENE</td>\n",
       "      <td>39.0</td>\n",
       "      <td>E</td>\n",
       "      <td>W</td>\n",
       "      <td>4.0</td>\n",
       "      <td>17.0</td>\n",
       "    </tr>\n",
       "    <tr>\n",
       "      <th>2</th>\n",
       "      <td>2007-11-03</td>\n",
       "      <td>Canberra</td>\n",
       "      <td>NW</td>\n",
       "      <td>85.0</td>\n",
       "      <td>N</td>\n",
       "      <td>NNE</td>\n",
       "      <td>6.0</td>\n",
       "      <td>6.0</td>\n",
       "    </tr>\n",
       "  </tbody>\n",
       "</table>\n",
       "</div>"
      ],
      "text/plain": [
       "         date  location wind_gustdir  wind_gustspeed wind_dir9am wind_dir3pm  \\\n",
       "0  2007-11-01  Canberra           NW            30.0          SW          NW   \n",
       "1  2007-11-02  Canberra          ENE            39.0           E           W   \n",
       "2  2007-11-03  Canberra           NW            85.0           N         NNE   \n",
       "\n",
       "   wind_speed9am  wind_speed3pm  \n",
       "0            6.0           20.0  \n",
       "1            4.0           17.0  \n",
       "2            6.0            6.0  "
      ]
     },
     "execution_count": 20,
     "metadata": {},
     "output_type": "execute_result"
    }
   ],
   "source": [
    "wind_01.head(3)"
   ]
  },
  {
   "cell_type": "code",
   "execution_count": 21,
   "metadata": {},
   "outputs": [
    {
     "data": {
      "text/html": [
       "<div>\n",
       "<style scoped>\n",
       "    .dataframe tbody tr th:only-of-type {\n",
       "        vertical-align: middle;\n",
       "    }\n",
       "\n",
       "    .dataframe tbody tr th {\n",
       "        vertical-align: top;\n",
       "    }\n",
       "\n",
       "    .dataframe thead th {\n",
       "        text-align: right;\n",
       "    }\n",
       "</style>\n",
       "<table border=\"1\" class=\"dataframe\">\n",
       "  <thead>\n",
       "    <tr style=\"text-align: right;\">\n",
       "      <th></th>\n",
       "      <th>date</th>\n",
       "      <th>location</th>\n",
       "      <th>wind_gustdir</th>\n",
       "      <th>wind_gustspeed</th>\n",
       "      <th>wind_dir9am</th>\n",
       "      <th>wind_dir3pm</th>\n",
       "      <th>wind_speed9am</th>\n",
       "      <th>wind_speed3pm</th>\n",
       "    </tr>\n",
       "  </thead>\n",
       "  <tbody>\n",
       "    <tr>\n",
       "      <th>0</th>\n",
       "      <td>2010-01-25</td>\n",
       "      <td>SydneyAirport</td>\n",
       "      <td>E</td>\n",
       "      <td>31.0</td>\n",
       "      <td>ESE</td>\n",
       "      <td>E</td>\n",
       "      <td>7.0</td>\n",
       "      <td>22.0</td>\n",
       "    </tr>\n",
       "    <tr>\n",
       "      <th>1</th>\n",
       "      <td>2010-01-25</td>\n",
       "      <td>WaggaWagga</td>\n",
       "      <td>W</td>\n",
       "      <td>33.0</td>\n",
       "      <td>ENE</td>\n",
       "      <td>WSW</td>\n",
       "      <td>11.0</td>\n",
       "      <td>19.0</td>\n",
       "    </tr>\n",
       "    <tr>\n",
       "      <th>2</th>\n",
       "      <td>2010-01-25</td>\n",
       "      <td>Williamtown</td>\n",
       "      <td>E</td>\n",
       "      <td>39.0</td>\n",
       "      <td>SSW</td>\n",
       "      <td>ESE</td>\n",
       "      <td>11.0</td>\n",
       "      <td>22.0</td>\n",
       "    </tr>\n",
       "  </tbody>\n",
       "</table>\n",
       "</div>"
      ],
      "text/plain": [
       "         date       location wind_gustdir  wind_gustspeed wind_dir9am  \\\n",
       "0  2010-01-25  SydneyAirport            E            31.0         ESE   \n",
       "1  2010-01-25     WaggaWagga            W            33.0         ENE   \n",
       "2  2010-01-25    Williamtown            E            39.0         SSW   \n",
       "\n",
       "  wind_dir3pm  wind_speed9am  wind_speed3pm  \n",
       "0           E            7.0           22.0  \n",
       "1         WSW           11.0           19.0  \n",
       "2         ESE           11.0           22.0  "
      ]
     },
     "execution_count": 21,
     "metadata": {},
     "output_type": "execute_result"
    }
   ],
   "source": [
    "wind_02.head(3)"
   ]
  },
  {
   "cell_type": "code",
   "execution_count": 22,
   "metadata": {},
   "outputs": [
    {
     "data": {
      "text/html": [
       "<div>\n",
       "<style scoped>\n",
       "    .dataframe tbody tr th:only-of-type {\n",
       "        vertical-align: middle;\n",
       "    }\n",
       "\n",
       "    .dataframe tbody tr th {\n",
       "        vertical-align: top;\n",
       "    }\n",
       "\n",
       "    .dataframe thead th {\n",
       "        text-align: right;\n",
       "    }\n",
       "</style>\n",
       "<table border=\"1\" class=\"dataframe\">\n",
       "  <thead>\n",
       "    <tr style=\"text-align: right;\">\n",
       "      <th></th>\n",
       "      <th>date</th>\n",
       "      <th>location</th>\n",
       "      <th>windgustdir</th>\n",
       "      <th>windgustspeed</th>\n",
       "      <th>winddir9am</th>\n",
       "      <th>winddir3pm</th>\n",
       "      <th>windspeed9am</th>\n",
       "      <th>windspeed3pm</th>\n",
       "    </tr>\n",
       "  </thead>\n",
       "  <tbody>\n",
       "    <tr>\n",
       "      <th>0</th>\n",
       "      <td>2011-05-14</td>\n",
       "      <td>NorfolkIsland</td>\n",
       "      <td>WNW</td>\n",
       "      <td>50.0</td>\n",
       "      <td>W</td>\n",
       "      <td>WNW</td>\n",
       "      <td>2.0</td>\n",
       "      <td>19.0</td>\n",
       "    </tr>\n",
       "    <tr>\n",
       "      <th>1</th>\n",
       "      <td>2011-05-14</td>\n",
       "      <td>Penrith</td>\n",
       "      <td>SW</td>\n",
       "      <td>41.0</td>\n",
       "      <td>SW</td>\n",
       "      <td>SW</td>\n",
       "      <td>13.0</td>\n",
       "      <td>19.0</td>\n",
       "    </tr>\n",
       "    <tr>\n",
       "      <th>2</th>\n",
       "      <td>2011-05-14</td>\n",
       "      <td>Richmond</td>\n",
       "      <td>SW</td>\n",
       "      <td>41.0</td>\n",
       "      <td>WSW</td>\n",
       "      <td>SW</td>\n",
       "      <td>19.0</td>\n",
       "      <td>22.0</td>\n",
       "    </tr>\n",
       "  </tbody>\n",
       "</table>\n",
       "</div>"
      ],
      "text/plain": [
       "         date       location windgustdir  windgustspeed winddir9am winddir3pm  \\\n",
       "0  2011-05-14  NorfolkIsland         WNW           50.0          W        WNW   \n",
       "1  2011-05-14        Penrith          SW           41.0         SW         SW   \n",
       "2  2011-05-14       Richmond          SW           41.0        WSW         SW   \n",
       "\n",
       "   windspeed9am  windspeed3pm  \n",
       "0           2.0          19.0  \n",
       "1          13.0          19.0  \n",
       "2          19.0          22.0  "
      ]
     },
     "execution_count": 22,
     "metadata": {},
     "output_type": "execute_result"
    }
   ],
   "source": [
    "wind_03.head(3)"
   ]
  },
  {
   "cell_type": "markdown",
   "metadata": {},
   "source": [
    "### Transforming all the wind's df's into just 1"
   ]
  },
  {
   "cell_type": "code",
   "execution_count": 26,
   "metadata": {},
   "outputs": [
    {
     "data": {
      "text/plain": [
       "date                 0\n",
       "location             0\n",
       "wind_gustdir      2134\n",
       "wind_gustspeed    2131\n",
       "wind_dir9am       1436\n",
       "wind_dir3pm        530\n",
       "wind_speed9am      386\n",
       "wind_speed3pm      391\n",
       "dtype: int64"
      ]
     },
     "execution_count": 26,
     "metadata": {},
     "output_type": "execute_result"
    }
   ],
   "source": [
    "wind_01.isna().sum()"
   ]
  },
  {
   "cell_type": "code",
   "execution_count": 39,
   "metadata": {},
   "outputs": [],
   "source": [
    "frames=[wind_01, wind_02, wind_03, wind_04, wind_05, wind_06, wind_07, wind_08]"
   ]
  },
  {
   "cell_type": "code",
   "execution_count": 43,
   "metadata": {},
   "outputs": [
    {
     "data": {
      "text/html": [
       "<div>\n",
       "<style scoped>\n",
       "    .dataframe tbody tr th:only-of-type {\n",
       "        vertical-align: middle;\n",
       "    }\n",
       "\n",
       "    .dataframe tbody tr th {\n",
       "        vertical-align: top;\n",
       "    }\n",
       "\n",
       "    .dataframe thead th {\n",
       "        text-align: right;\n",
       "    }\n",
       "</style>\n",
       "<table border=\"1\" class=\"dataframe\">\n",
       "  <thead>\n",
       "    <tr style=\"text-align: right;\">\n",
       "      <th></th>\n",
       "      <th>date</th>\n",
       "      <th>location</th>\n",
       "      <th>wind_gustdir</th>\n",
       "      <th>wind_gustspeed</th>\n",
       "      <th>wind_dir9am</th>\n",
       "      <th>wind_dir3pm</th>\n",
       "      <th>wind_speed9am</th>\n",
       "      <th>wind_speed3pm</th>\n",
       "      <th>windgustdir</th>\n",
       "      <th>windgustspeed</th>\n",
       "      <th>winddir9am</th>\n",
       "      <th>winddir3pm</th>\n",
       "      <th>windspeed9am</th>\n",
       "      <th>windspeed3pm</th>\n",
       "    </tr>\n",
       "  </thead>\n",
       "  <tbody>\n",
       "    <tr>\n",
       "      <th>0</th>\n",
       "      <td>2007-11-01</td>\n",
       "      <td>Canberra</td>\n",
       "      <td>NW</td>\n",
       "      <td>30.0</td>\n",
       "      <td>SW</td>\n",
       "      <td>NW</td>\n",
       "      <td>6.0</td>\n",
       "      <td>20.0</td>\n",
       "      <td>NaN</td>\n",
       "      <td>NaN</td>\n",
       "      <td>NaN</td>\n",
       "      <td>NaN</td>\n",
       "      <td>NaN</td>\n",
       "      <td>NaN</td>\n",
       "    </tr>\n",
       "    <tr>\n",
       "      <th>1</th>\n",
       "      <td>2007-11-02</td>\n",
       "      <td>Canberra</td>\n",
       "      <td>ENE</td>\n",
       "      <td>39.0</td>\n",
       "      <td>E</td>\n",
       "      <td>W</td>\n",
       "      <td>4.0</td>\n",
       "      <td>17.0</td>\n",
       "      <td>NaN</td>\n",
       "      <td>NaN</td>\n",
       "      <td>NaN</td>\n",
       "      <td>NaN</td>\n",
       "      <td>NaN</td>\n",
       "      <td>NaN</td>\n",
       "    </tr>\n",
       "    <tr>\n",
       "      <th>2</th>\n",
       "      <td>2007-11-03</td>\n",
       "      <td>Canberra</td>\n",
       "      <td>NW</td>\n",
       "      <td>85.0</td>\n",
       "      <td>N</td>\n",
       "      <td>NNE</td>\n",
       "      <td>6.0</td>\n",
       "      <td>6.0</td>\n",
       "      <td>NaN</td>\n",
       "      <td>NaN</td>\n",
       "      <td>NaN</td>\n",
       "      <td>NaN</td>\n",
       "      <td>NaN</td>\n",
       "      <td>NaN</td>\n",
       "    </tr>\n",
       "  </tbody>\n",
       "</table>\n",
       "</div>"
      ],
      "text/plain": [
       "         date  location wind_gustdir  wind_gustspeed wind_dir9am wind_dir3pm  \\\n",
       "0  2007-11-01  Canberra           NW            30.0          SW          NW   \n",
       "1  2007-11-02  Canberra          ENE            39.0           E           W   \n",
       "2  2007-11-03  Canberra           NW            85.0           N         NNE   \n",
       "\n",
       "   wind_speed9am  wind_speed3pm windgustdir  windgustspeed winddir9am  \\\n",
       "0            6.0           20.0         NaN            NaN        NaN   \n",
       "1            4.0           17.0         NaN            NaN        NaN   \n",
       "2            6.0            6.0         NaN            NaN        NaN   \n",
       "\n",
       "  winddir3pm  windspeed9am  windspeed3pm  \n",
       "0        NaN           NaN           NaN  \n",
       "1        NaN           NaN           NaN  \n",
       "2        NaN           NaN           NaN  "
      ]
     },
     "execution_count": 43,
     "metadata": {},
     "output_type": "execute_result"
    }
   ],
   "source": [
    "wind = pd.concat(frames)\n",
    "wind.head(3)"
   ]
  },
  {
   "cell_type": "code",
   "execution_count": 45,
   "metadata": {},
   "outputs": [
    {
     "data": {
      "text/plain": [
       "(164386, 14)"
      ]
     },
     "execution_count": 45,
     "metadata": {},
     "output_type": "execute_result"
    }
   ],
   "source": [
    "wind.shape"
   ]
  },
  {
   "cell_type": "markdown",
   "metadata": {},
   "source": [
    "## 2.1 Using Heatmap to find correlations between data"
   ]
  },
  {
   "cell_type": "code",
   "execution_count": 48,
   "metadata": {},
   "outputs": [
    {
     "data": {
      "text/plain": [
       "<matplotlib.axes._subplots.AxesSubplot at 0x213bffedfc8>"
      ]
     },
     "execution_count": 48,
     "metadata": {},
     "output_type": "execute_result"
    },
    {
     "data": {
      "image/png": "[encoded data removed]",
      "text/plain": [
       "<Figure size 1152x720 with 2 Axes>"
      ]
     },
     "metadata": {
      "needs_background": "light"
     },
     "output_type": "display_data"
    }
   ],
   "source": [
    "import seaborn as sns\n",
    "fig, ax = plt.subplots(figsize=(16,10))\n",
    "sns.heatmap(rain_aus.corr(),annot=True,linewidths=.5)"
   ]
  },
  {
   "cell_type": "code",
   "execution_count": 66,
   "metadata": {},
   "outputs": [],
   "source": [
    "## Setting numerical columns to work with "
   ]
  },
  {
   "cell_type": "code",
   "execution_count": 92,
   "metadata": {},
   "outputs": [],
   "source": [
    "numeric = ['mintemp','maxtemp','rainfall','sunshine','humidity9am','humidity3pm','pressure9am','pressure3pm','temp9am','temp3pm','temp','humidity','precipitation3pm','precipitation9am']"
   ]
  },
  {
   "cell_type": "code",
   "execution_count": 67,
   "metadata": {},
   "outputs": [
    {
     "data": {
      "text/html": [
       "<div>\n",
       "<style scoped>\n",
       "    .dataframe tbody tr th:only-of-type {\n",
       "        vertical-align: middle;\n",
       "    }\n",
       "\n",
       "    .dataframe tbody tr th {\n",
       "        vertical-align: top;\n",
       "    }\n",
       "\n",
       "    .dataframe thead th {\n",
       "        text-align: right;\n",
       "    }\n",
       "</style>\n",
       "<table border=\"1\" class=\"dataframe\">\n",
       "  <thead>\n",
       "    <tr style=\"text-align: right;\">\n",
       "      <th></th>\n",
       "      <th>mintemp</th>\n",
       "      <th>maxtemp</th>\n",
       "      <th>rainfall</th>\n",
       "      <th>sunshine</th>\n",
       "      <th>humidity9am</th>\n",
       "      <th>humidity3pm</th>\n",
       "      <th>pressure9am</th>\n",
       "      <th>pressure3pm</th>\n",
       "      <th>temp9am</th>\n",
       "      <th>temp3pm</th>\n",
       "      <th>temp</th>\n",
       "      <th>humidity</th>\n",
       "      <th>precipitation3pm</th>\n",
       "      <th>precipitation9am</th>\n",
       "    </tr>\n",
       "  </thead>\n",
       "  <tbody>\n",
       "    <tr>\n",
       "      <th>0</th>\n",
       "      <td>13.4</td>\n",
       "      <td>22.9</td>\n",
       "      <td>0.6</td>\n",
       "      <td>NaN</td>\n",
       "      <td>71.0</td>\n",
       "      <td>22.0</td>\n",
       "      <td>1007.7</td>\n",
       "      <td>1007.1</td>\n",
       "      <td>16.9</td>\n",
       "      <td>21.8</td>\n",
       "      <td>29.48</td>\n",
       "      <td>28.400000</td>\n",
       "      <td>12</td>\n",
       "      <td>5.115360</td>\n",
       "    </tr>\n",
       "    <tr>\n",
       "      <th>1</th>\n",
       "      <td>7.4</td>\n",
       "      <td>25.1</td>\n",
       "      <td>0.0</td>\n",
       "      <td>NaN</td>\n",
       "      <td>44.0</td>\n",
       "      <td>25.0</td>\n",
       "      <td>1010.6</td>\n",
       "      <td>1007.8</td>\n",
       "      <td>17.2</td>\n",
       "      <td>24.3</td>\n",
       "      <td>32.12</td>\n",
       "      <td>2.208569</td>\n",
       "      <td>10</td>\n",
       "      <td>21.497100</td>\n",
       "    </tr>\n",
       "    <tr>\n",
       "      <th>2</th>\n",
       "      <td>12.9</td>\n",
       "      <td>25.7</td>\n",
       "      <td>0.0</td>\n",
       "      <td>NaN</td>\n",
       "      <td>38.0</td>\n",
       "      <td>30.0</td>\n",
       "      <td>1007.6</td>\n",
       "      <td>1008.7</td>\n",
       "      <td>21.0</td>\n",
       "      <td>23.2</td>\n",
       "      <td>32.84</td>\n",
       "      <td>38.000000</td>\n",
       "      <td>17</td>\n",
       "      <td>20.782859</td>\n",
       "    </tr>\n",
       "  </tbody>\n",
       "</table>\n",
       "</div>"
      ],
      "text/plain": [
       "   mintemp  maxtemp  rainfall  sunshine  humidity9am  humidity3pm  \\\n",
       "0     13.4     22.9       0.6       NaN         71.0         22.0   \n",
       "1      7.4     25.1       0.0       NaN         44.0         25.0   \n",
       "2     12.9     25.7       0.0       NaN         38.0         30.0   \n",
       "\n",
       "   pressure9am  pressure3pm  temp9am  temp3pm   temp   humidity  \\\n",
       "0       1007.7       1007.1     16.9     21.8  29.48  28.400000   \n",
       "1       1010.6       1007.8     17.2     24.3  32.12   2.208569   \n",
       "2       1007.6       1008.7     21.0     23.2  32.84  38.000000   \n",
       "\n",
       "   precipitation3pm  precipitation9am  \n",
       "0                12          5.115360  \n",
       "1                10         21.497100  \n",
       "2                17         20.782859  "
      ]
     },
     "execution_count": 67,
     "metadata": {},
     "output_type": "execute_result"
    }
   ],
   "source": [
    "rain_aus[numeric].head(3)"
   ]
  },
  {
   "cell_type": "code",
   "execution_count": 99,
   "metadata": {},
   "outputs": [
    {
     "data": {
      "text/plain": [
       "mintemp               637\n",
       "maxtemp               322\n",
       "rainfall             1406\n",
       "sunshine            67816\n",
       "humidity9am          1774\n",
       "humidity3pm          3610\n",
       "pressure9am         14014\n",
       "pressure3pm         13981\n",
       "temp9am               904\n",
       "temp3pm              2726\n",
       "temp                  322\n",
       "humidity             3610\n",
       "precipitation3pm        0\n",
       "precipitation9am        0\n",
       "dtype: int64"
      ]
     },
     "execution_count": 99,
     "metadata": {},
     "output_type": "execute_result"
    }
   ],
   "source": [
    "rain_aus[numeric].isna().sum()"
   ]
  },
  {
   "cell_type": "code",
   "execution_count": 100,
   "metadata": {},
   "outputs": [],
   "source": [
    "rain_aus2=rain_aus[numeric].fillna(0)"
   ]
  },
  {
   "cell_type": "code",
   "execution_count": 101,
   "metadata": {},
   "outputs": [
    {
     "data": {
      "text/plain": [
       "mintemp             0\n",
       "maxtemp             0\n",
       "rainfall            0\n",
       "sunshine            0\n",
       "humidity9am         0\n",
       "humidity3pm         0\n",
       "pressure9am         0\n",
       "pressure3pm         0\n",
       "temp9am             0\n",
       "temp3pm             0\n",
       "temp                0\n",
       "humidity            0\n",
       "precipitation3pm    0\n",
       "precipitation9am    0\n",
       "dtype: int64"
      ]
     },
     "execution_count": 101,
     "metadata": {},
     "output_type": "execute_result"
    }
   ],
   "source": [
    "rain_aus2.isna().sum()"
   ]
  },
  {
   "cell_type": "code",
   "execution_count": 72,
   "metadata": {},
   "outputs": [
    {
     "data": {
      "text/plain": [
       "Index(['date', 'location', 'mintemp', 'maxtemp', 'rainfall', 'evaporation',\n",
       "       'sunshine', 'humidity9am', 'humidity3pm', 'pressure9am', 'pressure3pm',\n",
       "       'cloud9am', 'cloud3pm', 'temp9am', 'temp3pm', 'raintoday',\n",
       "       'amountOfRain', 'raintomorrow', 'temp', 'humidity', 'precipitation3pm',\n",
       "       'precipitation9am', 'modelo_vigente'],\n",
       "      dtype='object')"
      ]
     },
     "execution_count": 72,
     "metadata": {},
     "output_type": "execute_result"
    }
   ],
   "source": [
    "rain_aus.columns"
   ]
  },
  {
   "cell_type": "code",
   "execution_count": null,
   "metadata": {},
   "outputs": [],
   "source": []
  },
  {
   "cell_type": "code",
   "execution_count": null,
   "metadata": {},
   "outputs": [],
   "source": []
  },
  {
   "cell_type": "code",
   "execution_count": null,
   "metadata": {},
   "outputs": [],
   "source": []
  },
  {
   "cell_type": "code",
   "execution_count": null,
   "metadata": {},
   "outputs": [],
   "source": []
  },
  {
   "cell_type": "code",
   "execution_count": null,
   "metadata": {},
   "outputs": [],
   "source": []
  },
  {
   "cell_type": "code",
   "execution_count": null,
   "metadata": {},
   "outputs": [],
   "source": []
  },
  {
   "cell_type": "code",
   "execution_count": null,
   "metadata": {},
   "outputs": [],
   "source": []
  },
  {
   "cell_type": "code",
   "execution_count": null,
   "metadata": {},
   "outputs": [],
   "source": []
  },
  {
   "cell_type": "code",
   "execution_count": null,
   "metadata": {},
   "outputs": [],
   "source": []
  },
  {
   "cell_type": "code",
   "execution_count": null,
   "metadata": {},
   "outputs": [],
   "source": []
  },
  {
   "cell_type": "code",
   "execution_count": null,
   "metadata": {},
   "outputs": [],
   "source": []
  },
  {
   "cell_type": "code",
   "execution_count": null,
   "metadata": {},
   "outputs": [],
   "source": []
  },
  {
   "cell_type": "code",
   "execution_count": null,
   "metadata": {},
   "outputs": [],
   "source": []
  },
  {
   "cell_type": "markdown",
   "metadata": {},
   "source": [
    "## 3. Data processing"
   ]
  },
  {
   "cell_type": "code",
   "execution_count": 79,
   "metadata": {},
   "outputs": [],
   "source": [
    "from sklearn.decomposition import PCA\n",
    "from sklearn.preprocessing import StandardScaler"
   ]
  },
  {
   "cell_type": "code",
   "execution_count": 80,
   "metadata": {},
   "outputs": [],
   "source": [
    "from sklearn.cluster import KMeans"
   ]
  },
  {
   "cell_type": "code",
   "execution_count": 83,
   "metadata": {},
   "outputs": [],
   "source": [
    "scaler = StandardScaler()"
   ]
  },
  {
   "cell_type": "code",
   "execution_count": 102,
   "metadata": {},
   "outputs": [],
   "source": [
    "rain_numeric=rain_aus2[numeric]"
   ]
  },
  {
   "cell_type": "code",
   "execution_count": 103,
   "metadata": {},
   "outputs": [
    {
     "data": {
      "text/plain": [
       "StandardScaler(copy=True, with_mean=True, with_std=True)"
      ]
     },
     "execution_count": 103,
     "metadata": {},
     "output_type": "execute_result"
    }
   ],
   "source": [
    "scaler.fit(rain_numeric)"
   ]
  },
  {
   "cell_type": "code",
   "execution_count": 104,
   "metadata": {},
   "outputs": [],
   "source": [
    "scaled = scaler.transform(rain_numeric)"
   ]
  },
  {
   "cell_type": "code",
   "execution_count": 105,
   "metadata": {},
   "outputs": [
    {
     "data": {
      "text/plain": [
       "array([[ 0.19690834, -0.03810929, -0.20492006, ..., -1.14113051,\n",
       "         0.6264822 , -0.97748989],\n",
       "       [-0.73469264,  0.26766956, -0.27612488, ..., -2.07461956,\n",
       "        -0.00446834,  2.30024095],\n",
       "       [ 0.11927493,  0.35106379, -0.27612488, ..., -0.79897682,\n",
       "         2.20385855,  2.1573325 ],\n",
       "       ...,\n",
       "       [-1.3247066 ,  0.29546763, -0.27612488, ..., -1.18389972,\n",
       "        -0.31994361,  1.9438658 ],\n",
       "       [-1.04522631,  0.51785224, -0.27612488, ..., -1.05559209,\n",
       "         0.6264822 , -1.80380033],\n",
       "       [-0.67258591,  0.53175128, -0.27612488, ..., -1.05559209,\n",
       "         1.57290801, -1.12432761]])"
      ]
     },
     "execution_count": 105,
     "metadata": {},
     "output_type": "execute_result"
    }
   ],
   "source": [
    "scaled"
   ]
  },
  {
   "cell_type": "code",
   "execution_count": 106,
   "metadata": {},
   "outputs": [
    {
     "data": {
      "text/html": [
       "<div>\n",
       "<style scoped>\n",
       "    .dataframe tbody tr th:only-of-type {\n",
       "        vertical-align: middle;\n",
       "    }\n",
       "\n",
       "    .dataframe tbody tr th {\n",
       "        vertical-align: top;\n",
       "    }\n",
       "\n",
       "    .dataframe thead th {\n",
       "        text-align: right;\n",
       "    }\n",
       "</style>\n",
       "<table border=\"1\" class=\"dataframe\">\n",
       "  <thead>\n",
       "    <tr style=\"text-align: right;\">\n",
       "      <th></th>\n",
       "      <th>mintemp</th>\n",
       "      <th>maxtemp</th>\n",
       "      <th>rainfall</th>\n",
       "      <th>sunshine</th>\n",
       "      <th>humidity9am</th>\n",
       "      <th>humidity3pm</th>\n",
       "      <th>pressure9am</th>\n",
       "      <th>pressure3pm</th>\n",
       "      <th>temp9am</th>\n",
       "      <th>temp3pm</th>\n",
       "      <th>temp</th>\n",
       "      <th>humidity</th>\n",
       "      <th>precipitation3pm</th>\n",
       "      <th>precipitation9am</th>\n",
       "    </tr>\n",
       "  </thead>\n",
       "  <tbody>\n",
       "    <tr>\n",
       "      <th>0</th>\n",
       "      <td>0.196908</td>\n",
       "      <td>-0.038109</td>\n",
       "      <td>-0.204920</td>\n",
       "      <td>-0.850637</td>\n",
       "      <td>0.147682</td>\n",
       "      <td>-1.276568</td>\n",
       "      <td>0.297764</td>\n",
       "      <td>0.303160</td>\n",
       "      <td>0.003099</td>\n",
       "      <td>0.070596</td>\n",
       "      <td>0.100737</td>\n",
       "      <td>-1.141131</td>\n",
       "      <td>0.626482</td>\n",
       "      <td>-0.977490</td>\n",
       "    </tr>\n",
       "    <tr>\n",
       "      <th>1</th>\n",
       "      <td>-0.734693</td>\n",
       "      <td>0.267670</td>\n",
       "      <td>-0.276125</td>\n",
       "      <td>-0.850637</td>\n",
       "      <td>-1.174810</td>\n",
       "      <td>-1.140645</td>\n",
       "      <td>0.307322</td>\n",
       "      <td>0.305475</td>\n",
       "      <td>0.048475</td>\n",
       "      <td>0.404520</td>\n",
       "      <td>0.356669</td>\n",
       "      <td>-2.074620</td>\n",
       "      <td>-0.004468</td>\n",
       "      <td>2.300241</td>\n",
       "    </tr>\n",
       "    <tr>\n",
       "      <th>2</th>\n",
       "      <td>0.119275</td>\n",
       "      <td>0.351064</td>\n",
       "      <td>-0.276125</td>\n",
       "      <td>-0.850637</td>\n",
       "      <td>-1.468697</td>\n",
       "      <td>-0.914107</td>\n",
       "      <td>0.297435</td>\n",
       "      <td>0.308451</td>\n",
       "      <td>0.623233</td>\n",
       "      <td>0.257594</td>\n",
       "      <td>0.426469</td>\n",
       "      <td>-0.798977</td>\n",
       "      <td>2.203859</td>\n",
       "      <td>2.157332</td>\n",
       "    </tr>\n",
       "    <tr>\n",
       "      <th>3</th>\n",
       "      <td>-0.455212</td>\n",
       "      <td>0.670742</td>\n",
       "      <td>-0.276125</td>\n",
       "      <td>-0.850637</td>\n",
       "      <td>-1.125829</td>\n",
       "      <td>-1.548413</td>\n",
       "      <td>0.330394</td>\n",
       "      <td>0.322011</td>\n",
       "      <td>0.184602</td>\n",
       "      <td>0.698373</td>\n",
       "      <td>0.694034</td>\n",
       "      <td>-1.397746</td>\n",
       "      <td>-0.635419</td>\n",
       "      <td>0.405751</td>\n",
       "    </tr>\n",
       "    <tr>\n",
       "      <th>4</th>\n",
       "      <td>0.833502</td>\n",
       "      <td>1.268400</td>\n",
       "      <td>-0.157450</td>\n",
       "      <td>-0.850637</td>\n",
       "      <td>0.686476</td>\n",
       "      <td>-0.778184</td>\n",
       "      <td>0.307982</td>\n",
       "      <td>0.299522</td>\n",
       "      <td>0.139226</td>\n",
       "      <td>1.125796</td>\n",
       "      <td>1.194264</td>\n",
       "      <td>-0.670669</td>\n",
       "      <td>-0.319944</td>\n",
       "      <td>0.376719</td>\n",
       "    </tr>\n",
       "    <tr>\n",
       "      <th>...</th>\n",
       "      <td>...</td>\n",
       "      <td>...</td>\n",
       "      <td>...</td>\n",
       "      <td>...</td>\n",
       "      <td>...</td>\n",
       "      <td>...</td>\n",
       "      <td>...</td>\n",
       "      <td>...</td>\n",
       "      <td>...</td>\n",
       "      <td>...</td>\n",
       "      <td>...</td>\n",
       "      <td>...</td>\n",
       "      <td>...</td>\n",
       "      <td>...</td>\n",
       "    </tr>\n",
       "    <tr>\n",
       "      <th>142188</th>\n",
       "      <td>-1.340233</td>\n",
       "      <td>-0.190999</td>\n",
       "      <td>-0.276125</td>\n",
       "      <td>-0.850637</td>\n",
       "      <td>-0.440092</td>\n",
       "      <td>-1.050029</td>\n",
       "      <td>0.353795</td>\n",
       "      <td>0.349791</td>\n",
       "      <td>-1.131292</td>\n",
       "      <td>-0.049617</td>\n",
       "      <td>-0.027228</td>\n",
       "      <td>-0.927284</td>\n",
       "      <td>0.626482</td>\n",
       "      <td>-0.830764</td>\n",
       "    </tr>\n",
       "    <tr>\n",
       "      <th>142189</th>\n",
       "      <td>-1.448920</td>\n",
       "      <td>0.031386</td>\n",
       "      <td>-0.276125</td>\n",
       "      <td>-0.850637</td>\n",
       "      <td>-0.831941</td>\n",
       "      <td>-1.185952</td>\n",
       "      <td>0.353466</td>\n",
       "      <td>0.346815</td>\n",
       "      <td>-1.025416</td>\n",
       "      <td>0.150738</td>\n",
       "      <td>0.158904</td>\n",
       "      <td>-1.055592</td>\n",
       "      <td>-0.004468</td>\n",
       "      <td>-0.669656</td>\n",
       "    </tr>\n",
       "    <tr>\n",
       "      <th>142190</th>\n",
       "      <td>-1.324707</td>\n",
       "      <td>0.295468</td>\n",
       "      <td>-0.276125</td>\n",
       "      <td>-0.850637</td>\n",
       "      <td>-0.587035</td>\n",
       "      <td>-1.321875</td>\n",
       "      <td>0.349840</td>\n",
       "      <td>0.342846</td>\n",
       "      <td>-0.904414</td>\n",
       "      <td>0.431234</td>\n",
       "      <td>0.379936</td>\n",
       "      <td>-1.183900</td>\n",
       "      <td>-0.319944</td>\n",
       "      <td>1.943866</td>\n",
       "    </tr>\n",
       "    <tr>\n",
       "      <th>142191</th>\n",
       "      <td>-1.045226</td>\n",
       "      <td>0.517852</td>\n",
       "      <td>-0.276125</td>\n",
       "      <td>-0.850637</td>\n",
       "      <td>-0.733979</td>\n",
       "      <td>-1.185952</td>\n",
       "      <td>0.341600</td>\n",
       "      <td>0.335239</td>\n",
       "      <td>-0.662410</td>\n",
       "      <td>0.644945</td>\n",
       "      <td>0.566068</td>\n",
       "      <td>-1.055592</td>\n",
       "      <td>0.626482</td>\n",
       "      <td>-1.803800</td>\n",
       "    </tr>\n",
       "    <tr>\n",
       "      <th>142192</th>\n",
       "      <td>-0.672586</td>\n",
       "      <td>0.531751</td>\n",
       "      <td>-0.276125</td>\n",
       "      <td>-0.850637</td>\n",
       "      <td>-0.831941</td>\n",
       "      <td>-1.185952</td>\n",
       "      <td>0.336327</td>\n",
       "      <td>0.334247</td>\n",
       "      <td>-0.269155</td>\n",
       "      <td>0.631588</td>\n",
       "      <td>0.577701</td>\n",
       "      <td>-1.055592</td>\n",
       "      <td>1.572908</td>\n",
       "      <td>-1.124328</td>\n",
       "    </tr>\n",
       "  </tbody>\n",
       "</table>\n",
       "<p>142193 rows × 14 columns</p>\n",
       "</div>"
      ],
      "text/plain": [
       "         mintemp   maxtemp  rainfall  sunshine  humidity9am  humidity3pm  \\\n",
       "0       0.196908 -0.038109 -0.204920 -0.850637     0.147682    -1.276568   \n",
       "1      -0.734693  0.267670 -0.276125 -0.850637    -1.174810    -1.140645   \n",
       "2       0.119275  0.351064 -0.276125 -0.850637    -1.468697    -0.914107   \n",
       "3      -0.455212  0.670742 -0.276125 -0.850637    -1.125829    -1.548413   \n",
       "4       0.833502  1.268400 -0.157450 -0.850637     0.686476    -0.778184   \n",
       "...          ...       ...       ...       ...          ...          ...   \n",
       "142188 -1.340233 -0.190999 -0.276125 -0.850637    -0.440092    -1.050029   \n",
       "142189 -1.448920  0.031386 -0.276125 -0.850637    -0.831941    -1.185952   \n",
       "142190 -1.324707  0.295468 -0.276125 -0.850637    -0.587035    -1.321875   \n",
       "142191 -1.045226  0.517852 -0.276125 -0.850637    -0.733979    -1.185952   \n",
       "142192 -0.672586  0.531751 -0.276125 -0.850637    -0.831941    -1.185952   \n",
       "\n",
       "        pressure9am  pressure3pm   temp9am   temp3pm      temp  humidity  \\\n",
       "0          0.297764     0.303160  0.003099  0.070596  0.100737 -1.141131   \n",
       "1          0.307322     0.305475  0.048475  0.404520  0.356669 -2.074620   \n",
       "2          0.297435     0.308451  0.623233  0.257594  0.426469 -0.798977   \n",
       "3          0.330394     0.322011  0.184602  0.698373  0.694034 -1.397746   \n",
       "4          0.307982     0.299522  0.139226  1.125796  1.194264 -0.670669   \n",
       "...             ...          ...       ...       ...       ...       ...   \n",
       "142188     0.353795     0.349791 -1.131292 -0.049617 -0.027228 -0.927284   \n",
       "142189     0.353466     0.346815 -1.025416  0.150738  0.158904 -1.055592   \n",
       "142190     0.349840     0.342846 -0.904414  0.431234  0.379936 -1.183900   \n",
       "142191     0.341600     0.335239 -0.662410  0.644945  0.566068 -1.055592   \n",
       "142192     0.336327     0.334247 -0.269155  0.631588  0.577701 -1.055592   \n",
       "\n",
       "        precipitation3pm  precipitation9am  \n",
       "0               0.626482         -0.977490  \n",
       "1              -0.004468          2.300241  \n",
       "2               2.203859          2.157332  \n",
       "3              -0.635419          0.405751  \n",
       "4              -0.319944          0.376719  \n",
       "...                  ...               ...  \n",
       "142188          0.626482         -0.830764  \n",
       "142189         -0.004468         -0.669656  \n",
       "142190         -0.319944          1.943866  \n",
       "142191          0.626482         -1.803800  \n",
       "142192          1.572908         -1.124328  \n",
       "\n",
       "[142193 rows x 14 columns]"
      ]
     },
     "execution_count": 106,
     "metadata": {},
     "output_type": "execute_result"
    }
   ],
   "source": [
    "scaled = pd.DataFrame(scaled, columns = numeric)\n",
    "scaled"
   ]
  },
  {
   "cell_type": "code",
   "execution_count": 113,
   "metadata": {},
   "outputs": [
    {
     "data": {
      "text/plain": [
       "KMeans(algorithm='auto', copy_x=True, init='k-means++', max_iter=300,\n",
       "       n_clusters=3, n_init=10, n_jobs=None, precompute_distances='auto',\n",
       "       random_state=None, tol=0.0001, verbose=0)"
      ]
     },
     "execution_count": 113,
     "metadata": {},
     "output_type": "execute_result"
    }
   ],
   "source": [
    "kmeans = KMeans(n_clusters=3)\n",
    "kmeans.fit(scaled)"
   ]
  },
  {
   "cell_type": "code",
   "execution_count": 114,
   "metadata": {},
   "outputs": [
    {
     "data": {
      "text/html": [
       "<div>\n",
       "<style scoped>\n",
       "    .dataframe tbody tr th:only-of-type {\n",
       "        vertical-align: middle;\n",
       "    }\n",
       "\n",
       "    .dataframe tbody tr th {\n",
       "        vertical-align: top;\n",
       "    }\n",
       "\n",
       "    .dataframe thead th {\n",
       "        text-align: right;\n",
       "    }\n",
       "</style>\n",
       "<table border=\"1\" class=\"dataframe\">\n",
       "  <thead>\n",
       "    <tr style=\"text-align: right;\">\n",
       "      <th></th>\n",
       "      <th>mintemp</th>\n",
       "      <th>maxtemp</th>\n",
       "      <th>rainfall</th>\n",
       "      <th>sunshine</th>\n",
       "      <th>humidity9am</th>\n",
       "      <th>humidity3pm</th>\n",
       "      <th>pressure9am</th>\n",
       "      <th>pressure3pm</th>\n",
       "      <th>temp9am</th>\n",
       "      <th>temp3pm</th>\n",
       "      <th>temp</th>\n",
       "      <th>humidity</th>\n",
       "      <th>precipitation3pm</th>\n",
       "      <th>precipitation9am</th>\n",
       "      <th>Labels</th>\n",
       "    </tr>\n",
       "  </thead>\n",
       "  <tbody>\n",
       "    <tr>\n",
       "      <th>0</th>\n",
       "      <td>13.4</td>\n",
       "      <td>22.9</td>\n",
       "      <td>0.6</td>\n",
       "      <td>0.0</td>\n",
       "      <td>71.0</td>\n",
       "      <td>22.0</td>\n",
       "      <td>1007.7</td>\n",
       "      <td>1007.1</td>\n",
       "      <td>16.9</td>\n",
       "      <td>21.8</td>\n",
       "      <td>29.48</td>\n",
       "      <td>28.400000</td>\n",
       "      <td>12</td>\n",
       "      <td>5.115360</td>\n",
       "      <td>1</td>\n",
       "    </tr>\n",
       "    <tr>\n",
       "      <th>1</th>\n",
       "      <td>7.4</td>\n",
       "      <td>25.1</td>\n",
       "      <td>0.0</td>\n",
       "      <td>0.0</td>\n",
       "      <td>44.0</td>\n",
       "      <td>25.0</td>\n",
       "      <td>1010.6</td>\n",
       "      <td>1007.8</td>\n",
       "      <td>17.2</td>\n",
       "      <td>24.3</td>\n",
       "      <td>32.12</td>\n",
       "      <td>2.208569</td>\n",
       "      <td>10</td>\n",
       "      <td>21.497100</td>\n",
       "      <td>1</td>\n",
       "    </tr>\n",
       "    <tr>\n",
       "      <th>2</th>\n",
       "      <td>12.9</td>\n",
       "      <td>25.7</td>\n",
       "      <td>0.0</td>\n",
       "      <td>0.0</td>\n",
       "      <td>38.0</td>\n",
       "      <td>30.0</td>\n",
       "      <td>1007.6</td>\n",
       "      <td>1008.7</td>\n",
       "      <td>21.0</td>\n",
       "      <td>23.2</td>\n",
       "      <td>32.84</td>\n",
       "      <td>38.000000</td>\n",
       "      <td>17</td>\n",
       "      <td>20.782859</td>\n",
       "      <td>1</td>\n",
       "    </tr>\n",
       "  </tbody>\n",
       "</table>\n",
       "</div>"
      ],
      "text/plain": [
       "   mintemp  maxtemp  rainfall  sunshine  humidity9am  humidity3pm  \\\n",
       "0     13.4     22.9       0.6       0.0         71.0         22.0   \n",
       "1      7.4     25.1       0.0       0.0         44.0         25.0   \n",
       "2     12.9     25.7       0.0       0.0         38.0         30.0   \n",
       "\n",
       "   pressure9am  pressure3pm  temp9am  temp3pm   temp   humidity  \\\n",
       "0       1007.7       1007.1     16.9     21.8  29.48  28.400000   \n",
       "1       1010.6       1007.8     17.2     24.3  32.12   2.208569   \n",
       "2       1007.6       1008.7     21.0     23.2  32.84  38.000000   \n",
       "\n",
       "   precipitation3pm  precipitation9am  Labels  \n",
       "0                12          5.115360       1  \n",
       "1                10         21.497100       1  \n",
       "2                17         20.782859       1  "
      ]
     },
     "execution_count": 114,
     "metadata": {},
     "output_type": "execute_result"
    }
   ],
   "source": [
    "rain_aus2['Labels']=kmeans.labels_\n",
    "rain_aus2.head(3)"
   ]
  },
  {
   "cell_type": "markdown",
   "metadata": {},
   "source": [
    "## Using PCA"
   ]
  },
  {
   "cell_type": "code",
   "execution_count": 115,
   "metadata": {},
   "outputs": [
    {
     "data": {
      "text/plain": [
       "PCA(copy=True, iterated_power='auto', n_components=2, random_state=None,\n",
       "    svd_solver='auto', tol=0.0, whiten=False)"
      ]
     },
     "execution_count": 115,
     "metadata": {},
     "output_type": "execute_result"
    }
   ],
   "source": [
    "pca = PCA(2)\n",
    "\n",
    "rain_aus_std = StandardScaler().fit_transform(rain_numeric)\n",
    "pca.fit(rain_aus_std)"
   ]
  },
  {
   "cell_type": "code",
   "execution_count": 116,
   "metadata": {},
   "outputs": [],
   "source": [
    "pc1 = pca.transform(rain_aus2[numeric])[:, 0]\n",
    "pc2 = pca.transform(rain_aus2[numeric])[:, 1]"
   ]
  },
  {
   "cell_type": "code",
   "execution_count": 117,
   "metadata": {},
   "outputs": [
    {
     "data": {
      "image/png": "[encoded data removed]",
      "text/plain": [
       "<Figure size 1008x648 with 1 Axes>"
      ]
     },
     "metadata": {
      "needs_background": "light"
     },
     "output_type": "display_data"
    }
   ],
   "source": [
    "fig, ax = plt.subplots(figsize=(14,9))\n",
    "\n",
    "sns.scatterplot(pc1, pc2, hue=rain_aus2['Labels'],palette='rainbow')\n",
    "plt.show()"
   ]
  },
  {
   "cell_type": "code",
   "execution_count": null,
   "metadata": {},
   "outputs": [],
   "source": []
  },
  {
   "cell_type": "code",
   "execution_count": 81,
   "metadata": {},
   "outputs": [
    {
     "data": {
      "text/html": [
       "<div>\n",
       "<style scoped>\n",
       "    .dataframe tbody tr th:only-of-type {\n",
       "        vertical-align: middle;\n",
       "    }\n",
       "\n",
       "    .dataframe tbody tr th {\n",
       "        vertical-align: top;\n",
       "    }\n",
       "\n",
       "    .dataframe thead th {\n",
       "        text-align: right;\n",
       "    }\n",
       "</style>\n",
       "<table border=\"1\" class=\"dataframe\">\n",
       "  <thead>\n",
       "    <tr style=\"text-align: right;\">\n",
       "      <th></th>\n",
       "      <th>1</th>\n",
       "    </tr>\n",
       "  </thead>\n",
       "  <tbody>\n",
       "    <tr>\n",
       "      <th>date</th>\n",
       "      <td>2008-12-02</td>\n",
       "    </tr>\n",
       "    <tr>\n",
       "      <th>location</th>\n",
       "      <td>Albury</td>\n",
       "    </tr>\n",
       "    <tr>\n",
       "      <th>mintemp</th>\n",
       "      <td>7.4</td>\n",
       "    </tr>\n",
       "    <tr>\n",
       "      <th>maxtemp</th>\n",
       "      <td>25.1</td>\n",
       "    </tr>\n",
       "    <tr>\n",
       "      <th>rainfall</th>\n",
       "      <td>0</td>\n",
       "    </tr>\n",
       "    <tr>\n",
       "      <th>evaporation</th>\n",
       "      <td>NaN</td>\n",
       "    </tr>\n",
       "    <tr>\n",
       "      <th>sunshine</th>\n",
       "      <td>NaN</td>\n",
       "    </tr>\n",
       "    <tr>\n",
       "      <th>humidity9am</th>\n",
       "      <td>44</td>\n",
       "    </tr>\n",
       "    <tr>\n",
       "      <th>humidity3pm</th>\n",
       "      <td>25</td>\n",
       "    </tr>\n",
       "    <tr>\n",
       "      <th>pressure9am</th>\n",
       "      <td>1010.6</td>\n",
       "    </tr>\n",
       "    <tr>\n",
       "      <th>pressure3pm</th>\n",
       "      <td>1007.8</td>\n",
       "    </tr>\n",
       "    <tr>\n",
       "      <th>cloud9am</th>\n",
       "      <td>NaN</td>\n",
       "    </tr>\n",
       "    <tr>\n",
       "      <th>cloud3pm</th>\n",
       "      <td>NaN</td>\n",
       "    </tr>\n",
       "    <tr>\n",
       "      <th>temp9am</th>\n",
       "      <td>17.2</td>\n",
       "    </tr>\n",
       "    <tr>\n",
       "      <th>temp3pm</th>\n",
       "      <td>24.3</td>\n",
       "    </tr>\n",
       "    <tr>\n",
       "      <th>raintoday</th>\n",
       "      <td>No</td>\n",
       "    </tr>\n",
       "    <tr>\n",
       "      <th>amountOfRain</th>\n",
       "      <td>0</td>\n",
       "    </tr>\n",
       "    <tr>\n",
       "      <th>raintomorrow</th>\n",
       "      <td>No</td>\n",
       "    </tr>\n",
       "    <tr>\n",
       "      <th>temp</th>\n",
       "      <td>32.12</td>\n",
       "    </tr>\n",
       "    <tr>\n",
       "      <th>humidity</th>\n",
       "      <td>2.20857</td>\n",
       "    </tr>\n",
       "    <tr>\n",
       "      <th>precipitation3pm</th>\n",
       "      <td>10</td>\n",
       "    </tr>\n",
       "    <tr>\n",
       "      <th>precipitation9am</th>\n",
       "      <td>21.4971</td>\n",
       "    </tr>\n",
       "    <tr>\n",
       "      <th>modelo_vigente</th>\n",
       "      <td>0.0234771</td>\n",
       "    </tr>\n",
       "  </tbody>\n",
       "</table>\n",
       "</div>"
      ],
      "text/plain": [
       "                           1\n",
       "date              2008-12-02\n",
       "location              Albury\n",
       "mintemp                  7.4\n",
       "maxtemp                 25.1\n",
       "rainfall                   0\n",
       "evaporation              NaN\n",
       "sunshine                 NaN\n",
       "humidity9am               44\n",
       "humidity3pm               25\n",
       "pressure9am           1010.6\n",
       "pressure3pm           1007.8\n",
       "cloud9am                 NaN\n",
       "cloud3pm                 NaN\n",
       "temp9am                 17.2\n",
       "temp3pm                 24.3\n",
       "raintoday                 No\n",
       "amountOfRain               0\n",
       "raintomorrow              No\n",
       "temp                   32.12\n",
       "humidity             2.20857\n",
       "precipitation3pm          10\n",
       "precipitation9am     21.4971\n",
       "modelo_vigente     0.0234771"
      ]
     },
     "execution_count": 81,
     "metadata": {},
     "output_type": "execute_result"
    }
   ],
   "source": [
    "pd.DataFrame(rain_aus.loc[1,:])"
   ]
  },
  {
   "cell_type": "code",
   "execution_count": null,
   "metadata": {},
   "outputs": [],
   "source": []
  },
  {
   "cell_type": "code",
   "execution_count": null,
   "metadata": {},
   "outputs": [],
   "source": []
  }
 ],
 "metadata": {
  "kernelspec": {
   "display_name": "Python 3",
   "language": "python",
   "name": "python3"
  },
  "language_info": {
   "codemirror_mode": {
    "name": "ipython",
    "version": 3
   },
   "file_extension": ".py",
   "mimetype": "text/x-python",
   "name": "python",
   "nbconvert_exporter": "python",
   "pygments_lexer": "ipython3",
   "version": "3.7.6"
  }
 },
 "nbformat": 4,
 "nbformat_minor": 4
}
